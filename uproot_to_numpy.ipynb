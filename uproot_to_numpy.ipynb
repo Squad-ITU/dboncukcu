{
 "cells": [
  {
   "cell_type": "code",
   "execution_count": 1,
   "id": "9611a4af-8eee-4543-b7f7-9aebb4030baf",
   "metadata": {},
   "outputs": [],
   "source": [
    "import uproot"
   ]
  },
  {
   "cell_type": "code",
   "execution_count": 2,
   "id": "8b99b478-9463-41d7-811b-c6440b7c72e3",
   "metadata": {},
   "outputs": [],
   "source": [
    "root_file_path = \"~/Desktop/pyroot/root_files/jet0_10k/tev13.root\""
   ]
  },
  {
   "cell_type": "code",
   "execution_count": 3,
   "id": "50e6500a-b71a-43ae-bae1-77f2fce97148",
   "metadata": {},
   "outputs": [],
   "source": [
    "root_tree_path = \"LHEF;1/Particle\""
   ]
  },
  {
   "cell_type": "code",
   "execution_count": 4,
   "id": "dcee7b68-e9e3-4c64-8d72-a82dfe424891",
   "metadata": {},
   "outputs": [],
   "source": [
    "rootfile = uproot.open(root_file_path+\":\"+root_tree_path)"
   ]
  },
  {
   "cell_type": "code",
   "execution_count": 5,
   "id": "ed35d218-155f-4915-bca3-53ee48f2fa33",
   "metadata": {},
   "outputs": [
    {
     "data": {
      "text/plain": [
       "['Particle.fUniqueID',\n",
       " 'Particle.fBits',\n",
       " 'Particle.PID',\n",
       " 'Particle.Status',\n",
       " 'Particle.Mother1',\n",
       " 'Particle.Mother2',\n",
       " 'Particle.ColorLine1',\n",
       " 'Particle.ColorLine2',\n",
       " 'Particle.Px',\n",
       " 'Particle.Py',\n",
       " 'Particle.Pz',\n",
       " 'Particle.E',\n",
       " 'Particle.M',\n",
       " 'Particle.PT',\n",
       " 'Particle.Eta',\n",
       " 'Particle.Phi',\n",
       " 'Particle.Rapidity',\n",
       " 'Particle.LifeTime',\n",
       " 'Particle.Spin']"
      ]
     },
     "execution_count": 5,
     "metadata": {},
     "output_type": "execute_result"
    }
   ],
   "source": [
    "rootfile.keys()"
   ]
  },
  {
   "cell_type": "code",
   "execution_count": 9,
   "id": "47d5a8ec-e669-46ff-9956-40b8e99ef889",
   "metadata": {},
   "outputs": [],
   "source": [
    "rootnp=rootfile.arrays([\"Particle.Eta\",\"Particle.Phi\"],library=\"np\")"
   ]
  },
  {
   "cell_type": "code",
   "execution_count": 10,
   "id": "1c1d6cbf-6407-430a-a585-bc707ebe6b33",
   "metadata": {},
   "outputs": [
    {
     "data": {
      "text/plain": [
       "{'Particle.Eta': array([array([ 9.99900000e+02, -9.99900000e+02,  7.96100934e-02, -1.62413632e-01,\n",
       "                1.94809463e+00,  2.13903416e+00, -2.32027127e-01,  1.99422109e+00,\n",
       "                3.29383034e+00, -6.11916011e-02,  1.19551887e+00,  5.93753603e-01]),\n",
       "        array([ 999.9       , -999.9       ,    2.4825563 ,    2.00705756,\n",
       "                  1.6796389 ,    1.39543035,    1.80538867,    1.5017798 ,\n",
       "                  1.05955661,    1.90819704,    1.31537845,    2.94744425]),\n",
       "        array([ 9.99900000e+02, -9.99900000e+02,  1.85564537e-01,  8.94369140e-02,\n",
       "                2.42187701e+00,  2.34979407e+00,  9.48020643e-01,  4.91003190e-01,\n",
       "               -1.36008207e-01,  2.00614303e+00,  1.38424376e-01,  1.89515845e+00]),\n",
       "        ...,\n",
       "        array([ 9.99900000e+02, -9.99900000e+02, -1.56385724e+00, -2.42285204e+00,\n",
       "                1.95449342e+00,  1.68025375e+00, -1.91939029e+00,  1.31222513e+00,\n",
       "                1.39793970e+00, -8.39350771e-01,  9.21068591e-01, -3.89244337e-01]),\n",
       "        array([ 9.99900000e+02, -9.99900000e+02, -5.69778003e+00, -2.80919248e+00,\n",
       "               -3.66287672e+00, -2.82009724e-01, -9.60702759e-03, -1.99506386e+00,\n",
       "               -3.19489045e+00, -2.62954132e-01, -2.00397679e+00, -1.12302685e+00]),\n",
       "        array([ 999.9       , -999.9       ,    2.24570123,    2.32069935,\n",
       "                  1.9556063 ,    2.20126152,    1.57951402,    2.04042274,\n",
       "                  2.83037342,    2.22634152,    1.2188035 ,    2.00614368])],\n",
       "       dtype=object),\n",
       " 'Particle.Phi': array([array([ 0.        ,  0.        , -2.32341503, -2.11193609,  0.81817762,\n",
       "                0.64125897, -1.76196848,  0.68110387, -1.12092766, -2.50183575,\n",
       "                1.19735174, -2.83248749])                                      ,\n",
       "        array([ 0.        ,  0.        ,  1.96784775,  2.17376258, -1.1737449 ,\n",
       "               -1.16617491, -2.1460425 , -1.48139527, -0.73281383,  2.10004585,\n",
       "                2.01492599,  0.23646088])                                      ,\n",
       "        array([ 0.        ,  0.        ,  2.73546139,  1.81345469, -0.40613126,\n",
       "               -1.81071686,  2.69565522,  0.71897438,  2.23844685, -1.34492703,\n",
       "               -2.64801478,  0.02770224])                                      ,\n",
       "        ...,\n",
       "        array([ 0.        ,  0.        ,  1.88165042, -2.30197136, -1.25994224,\n",
       "               -0.32523473,  2.511486  , -2.07770786, -0.05435617, -1.34424678,\n",
       "               -2.33598926,  1.64633248])                                      ,\n",
       "        array([ 0.        ,  0.        , -0.61355752,  2.50951483,  2.52803514,\n",
       "               -2.70681107,  2.08547896,  2.88077607,  1.05625479, -2.28364531,\n",
       "               -0.63067624,  0.50923914])                                      ,\n",
       "        array([ 0.        ,  0.        , -0.53666499,  0.00995712,  2.60492766,\n",
       "                2.81505674,  1.56003748,  2.75786416, -1.42312174, -0.1650081 ,\n",
       "                2.26467596, -0.89892699])                                      ],\n",
       "       dtype=object)}"
      ]
     },
     "execution_count": 10,
     "metadata": {},
     "output_type": "execute_result"
    }
   ],
   "source": [
    "rootnp"
   ]
  }
 ],
 "metadata": {
  "kernelspec": {
   "display_name": "Python 3 (ipykernel)",
   "language": "python",
   "name": "python3"
  },
  "language_info": {
   "codemirror_mode": {
    "name": "ipython",
    "version": 3
   },
   "file_extension": ".py",
   "mimetype": "text/x-python",
   "name": "python",
   "nbconvert_exporter": "python",
   "pygments_lexer": "ipython3",
   "version": "3.8.5"
  }
 },
 "nbformat": 4,
 "nbformat_minor": 5
}
