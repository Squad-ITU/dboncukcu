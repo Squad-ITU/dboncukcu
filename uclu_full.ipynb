{
 "cells": [
  {
   "cell_type": "code",
   "execution_count": 1,
   "id": "4aa005d3-1f61-4cfd-a0df-a9d6be897ffc",
   "metadata": {},
   "outputs": [
    {
     "name": "stdout",
     "output_type": "stream",
     "text": [
      "Welcome to JupyROOT 6.24/02\n"
     ]
    }
   ],
   "source": [
    "import ROOT\n",
    "import uproot\n",
    "import numpy as np\n",
    "import awkward as ak\n",
    "import matplotlib.pyplot as plt\n",
    "from Custom_Root import Custom_Root\n",
    "import time\n",
    "%jsroot on"
   ]
  },
  {
   "cell_type": "markdown",
   "id": "78b54e7f-c6a6-4c8c-b441-2c036d68fda3",
   "metadata": {
    "tags": []
   },
   "source": [
    "## INITIALIZING VARIABLES"
   ]
  },
  {
   "cell_type": "code",
   "execution_count": 2,
   "id": "fbbd4f20-2cb1-4177-8cc9-60aa47f9d1dd",
   "metadata": {},
   "outputs": [],
   "source": [
    "test_name = \"jetall\"\n",
    "output_path = \"output/\"+test_name+\"/\"\n",
    "\n",
    "filepath = \"root_files/\"+test_name+\"/ttbar/\"\n",
    "\n",
    "plot_type = 2 # 1:PT, 2:ETA, 3:PHI\n",
    "\n",
    "particle_name = \"Muon\"\n",
    "\n",
    "out_format = \"pdf\"\n",
    "\n",
    "root1 = \"tev13.root\"\n",
    "root2 = \"tev13_6.root\"\n",
    "root3 = \"tev14.root\""
   ]
  },
  {
   "cell_type": "markdown",
   "id": "be3aeb0e-21b7-451b-b456-1a329d05266b",
   "metadata": {},
   "source": [
    "## Setting Required Variables"
   ]
  },
  {
   "cell_type": "code",
   "execution_count": 3,
   "id": "25d498c8-b560-4c28-9b29-02f6a5526d02",
   "metadata": {},
   "outputs": [],
   "source": [
    "if plot_type==1:\n",
    "    \n",
    "    ### PT Out\n",
    "\n",
    "    out_name = \"PT\"\n",
    "    out_title = \"Transverse Momentum of \"+particle_name\n",
    "    ayrac = \"_pt_\"\n",
    "    ratio_settings = {\"min\":0.5,\"max\":1.5}\n",
    "    histogram_settings = {\"min\":0,\"max\":250,\"binnum\":25}\n",
    "\n",
    "elif plot_type == 2:\n",
    "    \n",
    "    ### ETA Out\n",
    "\n",
    "    out_name = \"Eta\"\n",
    "    out_title = \"Pseudorapidity (Eta) of \"+particle_name\n",
    "    ayrac = \"_eta_\"\n",
    "    ratio_settings = {\"min\":0.70,\"max\":1.3}\n",
    "    histogram_settings = {\"min\":-4,\"max\":3,\"binnum\":40}\n",
    "\n",
    "elif plot_type == 3:\n",
    "    \n",
    "    ### PHI Out\n",
    "\n",
    "    out_name = \"Phi\"\n",
    "    out_title = \"Azimuthal Angle of \"+particle_name\n",
    "    ayrac = \"_phi_\"\n",
    "    ratio_settings = {\"min\":0.70,\"max\":1.3}\n",
    "    histogram_settings = {\"min\":-3.5,\"max\":3.5,\"binnum\":40}\n",
    "    \n",
    "else:\n",
    "    exit()"
   ]
  },
  {
   "cell_type": "markdown",
   "id": "f91bcd69-88a1-42ec-a056-b294168eff8c",
   "metadata": {},
   "source": [
    "## READING ROOT FILE"
   ]
  },
  {
   "cell_type": "markdown",
   "id": "88a754d3-971c-4858-a8b4-16b7c7ae727c",
   "metadata": {},
   "source": [
    "root_file1 = ROOT.TFile(filepath+root1,\"READ\")"
   ]
  },
  {
   "cell_type": "markdown",
   "id": "122c291b-5b60-4ce1-96ab-2afe826f04a7",
   "metadata": {},
   "source": [
    "root_file2 = ROOT.TFile(filepath+root2,\"READ\")"
   ]
  },
  {
   "cell_type": "markdown",
   "id": "fefa2255-6589-446c-967c-2fef14a3d22b",
   "metadata": {},
   "source": [
    "root_file3 = ROOT.TFile(filepath+root3,\"READ\")"
   ]
  },
  {
   "cell_type": "markdown",
   "id": "0ee1830d-a32c-460d-8ba9-d1476fffa529",
   "metadata": {},
   "source": [
    "df13 = ROOT.RDataFrame(\"LHEF\", filepath+root1)\n",
    "data13 = get_dilepton_events(df13)"
   ]
  },
  {
   "cell_type": "markdown",
   "id": "4ef3bb00-d0d4-4d26-b741-7e45013e30eb",
   "metadata": {},
   "source": [
    "df13_6 = ROOT.RDataFrame(\"LHEF\", filepath+root2)\n",
    "data13_6 = get_dilepton_events(df13_6)"
   ]
  },
  {
   "cell_type": "markdown",
   "id": "31278881-e8e5-48b5-808c-fbb333d8cbd7",
   "metadata": {},
   "source": [
    "df14 = ROOT.RDataFrame(\"LHEF\", filepath+root3)\n",
    "data14 = get_dilepton_events(df14)"
   ]
  },
  {
   "cell_type": "code",
   "execution_count": 4,
   "id": "51f8cc69-bef7-4660-93a3-1ec8069e27e1",
   "metadata": {},
   "outputs": [],
   "source": [
    "rf13=Custom_Root(filepath+root1,\"Delphes;1/Particle\")\n",
    "rf13_6=Custom_Root(filepath+root2,\"Delphes;1/Particle\")\n",
    "rf14=Custom_Root(filepath+root3,\"Delphes;1/Particle\")"
   ]
  },
  {
   "cell_type": "code",
   "execution_count": 5,
   "id": "9c0df7ec-567f-4bdc-8482-393380f31a18",
   "metadata": {},
   "outputs": [
    {
     "data": {
      "text/plain": [
       "2.6245503425598145"
      ]
     },
     "execution_count": 5,
     "metadata": {},
     "output_type": "execute_result"
    }
   ],
   "source": [
    "t = time.time()\n",
    "data13=rf13.get_electron_muon()\n",
    "elapsed = time.time()-t\n",
    "elapsed"
   ]
  },
  {
   "cell_type": "code",
   "execution_count": 6,
   "id": "38875194-0323-49eb-aaae-4a1f2a36783c",
   "metadata": {},
   "outputs": [
    {
     "data": {
      "text/plain": [
       "2.8105366230010986"
      ]
     },
     "execution_count": 6,
     "metadata": {},
     "output_type": "execute_result"
    }
   ],
   "source": [
    "t = time.time()\n",
    "data13_6=rf13_6.get_electron_muon()\n",
    "elapsed = time.time()-t\n",
    "elapsed"
   ]
  },
  {
   "cell_type": "code",
   "execution_count": 7,
   "id": "7f09f321-400e-434f-8e06-0184a30f96ab",
   "metadata": {},
   "outputs": [
    {
     "data": {
      "text/plain": [
       "3.275958299636841"
      ]
     },
     "execution_count": 7,
     "metadata": {},
     "output_type": "execute_result"
    }
   ],
   "source": [
    "t = time.time()\n",
    "data14=rf14.get_electron_muon()\n",
    "elapsed = time.time()-t\n",
    "elapsed"
   ]
  },
  {
   "cell_type": "markdown",
   "id": "e30240b8-9b1d-45fe-b654-843d15b961df",
   "metadata": {},
   "source": [
    "## HISTOGRAM SETTINGS"
   ]
  },
  {
   "cell_type": "markdown",
   "id": "32bd6eaa-40a6-4198-82bc-c16d9129087c",
   "metadata": {
    "tags": []
   },
   "source": [
    "### Histograms Creating"
   ]
  },
  {
   "cell_type": "code",
   "execution_count": 8,
   "id": "54ec937d-5d86-4502-a3c2-2b1bfdcfc33f",
   "metadata": {},
   "outputs": [],
   "source": [
    "h1 = ROOT.TH1F(\"h1\",\"\",histogram_settings[\"binnum\"],histogram_settings[\"min\"],histogram_settings[\"max\"])\n",
    "h2 = ROOT.TH1F(\"h2\",\"\",histogram_settings[\"binnum\"],histogram_settings[\"min\"],histogram_settings[\"max\"])\n",
    "h3 = ROOT.TH1F(\"h3\",\"\",histogram_settings[\"binnum\"],histogram_settings[\"min\"],histogram_settings[\"max\"])"
   ]
  },
  {
   "cell_type": "markdown",
   "id": "40130680-e823-4bac-a779-83de5953b852",
   "metadata": {},
   "source": [
    "### Tree Datas Transfering to Histograms"
   ]
  },
  {
   "cell_type": "code",
   "execution_count": 9,
   "id": "1bdc58f6-cb95-4df8-87b7-8d90d417c8b2",
   "metadata": {},
   "outputs": [],
   "source": [
    "ele_neg_13_pt = np.append(np.array(data13[particle_name][\"-\"][out_name]),np.array(data13[particle_name][\"+\"][out_name]))\n",
    "ele_neg_13_6_pt = np.append(np.array(data13_6[particle_name][\"-\"][out_name]),np.array(data13_6[particle_name][\"+\"][out_name]))\n",
    "ele_neg_14_pt = np.append(np.array(data14[particle_name][\"-\"][out_name]),np.array(data14[particle_name][\"+\"][out_name]))"
   ]
  },
  {
   "cell_type": "code",
   "execution_count": 10,
   "id": "f20f30e7-4dae-4840-bdf3-7984930ae8fb",
   "metadata": {},
   "outputs": [
    {
     "data": {
      "text/plain": [
       "9583"
      ]
     },
     "execution_count": 10,
     "metadata": {},
     "output_type": "execute_result"
    }
   ],
   "source": [
    "len(ele_neg_14_pt)"
   ]
  },
  {
   "cell_type": "code",
   "execution_count": 11,
   "id": "c79a88cd-6f40-485f-8e96-42d614932f11",
   "metadata": {},
   "outputs": [],
   "source": [
    "h1.FillN(len(ele_neg_13_pt), ele_neg_13_pt,np.ones(len(ele_neg_13_pt)))\n",
    "h2.FillN(len(ele_neg_13_6_pt), ele_neg_13_6_pt,np.ones(len(ele_neg_13_6_pt)))\n",
    "h3.FillN(len(ele_neg_14_pt), ele_neg_14_pt,np.ones(len(ele_neg_14_pt)))"
   ]
  },
  {
   "cell_type": "code",
   "execution_count": 12,
   "id": "13247b72-bd1f-4922-a6f6-ec6e67e63b08",
   "metadata": {},
   "outputs": [],
   "source": [
    "h1.Scale(1/h1.GetEntries())\n",
    "h2.Scale(1/h2.GetEntries())\n",
    "h3.Scale(1/h3.GetEntries())"
   ]
  },
  {
   "cell_type": "markdown",
   "id": "016ed202-8937-4506-9fdb-f49db330f275",
   "metadata": {},
   "source": [
    "### Changing Histogram Appearance"
   ]
  },
  {
   "cell_type": "markdown",
   "id": "fd38f155-1731-42e7-97b4-a99c7654c341",
   "metadata": {},
   "source": [
    "#### Histogram of 13 TeV"
   ]
  },
  {
   "cell_type": "code",
   "execution_count": 13,
   "id": "67d3476a-df36-4298-b88f-1116d64d679c",
   "metadata": {},
   "outputs": [],
   "source": [
    "h1.SetLineColor(ROOT.kGreen)\n",
    "h1.SetLineWidth(2)\n",
    "h1.SetStats(0)\n",
    "h1.SetFillColor(ROOT.kGreen-3)\n",
    "h1.SetFillStyle(3004)"
   ]
  },
  {
   "cell_type": "markdown",
   "id": "8aa9539a-7056-4cb0-81d4-f21ec6444566",
   "metadata": {},
   "source": [
    "#### Histogram of 13.6 TeV"
   ]
  },
  {
   "cell_type": "code",
   "execution_count": 14,
   "id": "f3dd9c39-0123-41c1-b294-a7a1c059d5c2",
   "metadata": {},
   "outputs": [],
   "source": [
    "h2.SetLineColor(ROOT.kRed)\n",
    "h2.SetLineWidth(2)\n",
    "h2.SetStats(0)\n",
    "h2.SetFillColor(ROOT.kRed-10)\n",
    "h2.SetFillStyle(3010)"
   ]
  },
  {
   "cell_type": "markdown",
   "id": "86081818-fef9-49b6-b3dc-2e026a3eb3b5",
   "metadata": {},
   "source": [
    "#### Histogram of 14 TeV"
   ]
  },
  {
   "cell_type": "code",
   "execution_count": 15,
   "id": "3e82fcf0-ea01-4500-873c-55107f49ee03",
   "metadata": {},
   "outputs": [],
   "source": [
    "h3.SetLineColor(ROOT.kAzure)\n",
    "h3.SetLineWidth(2)\n",
    "h3.SetStats(0)\n",
    "h3.SetFillColor(ROOT.kAzure + 4)\n",
    "h3.SetFillStyle(3006)"
   ]
  },
  {
   "cell_type": "markdown",
   "id": "8452b0df-883b-4ee4-be0a-fe6cd44fbb29",
   "metadata": {},
   "source": [
    "### Normalizing Histograms (burası hatalı)"
   ]
  },
  {
   "cell_type": "markdown",
   "id": "dfeeaa38-f3b6-47b5-9fa8-63e06412e990",
   "metadata": {},
   "source": [
    "h1.Scale(1/h1.Integral())\n",
    "h2.Scale(1/h2.Integral())\n",
    "h3.Scale(1/h3.Integral())"
   ]
  },
  {
   "cell_type": "markdown",
   "id": "51993507-5672-4960-8965-67ab96504987",
   "metadata": {},
   "source": [
    "## CREATING CANVAS"
   ]
  },
  {
   "cell_type": "markdown",
   "id": "05c9d31b-b67a-48d0-afb0-2c10fe2a57df",
   "metadata": {},
   "source": [
    "### Dividing Canvas to three part"
   ]
  },
  {
   "cell_type": "code",
   "execution_count": 16,
   "id": "9b59c7dc-f2ef-433e-98ac-9a51e88a081d",
   "metadata": {},
   "outputs": [],
   "source": [
    "c1 = ROOT.TCanvas(\"c1\")\n",
    "c1.Divide(3,1) "
   ]
  },
  {
   "cell_type": "markdown",
   "id": "ae22640d-bc3a-47ed-89a8-1f291d5e3e0e",
   "metadata": {},
   "source": [
    "### Ploting Histogram of 13 TeV"
   ]
  },
  {
   "cell_type": "code",
   "execution_count": 17,
   "id": "12c50391-e037-4a67-b8db-fe79d227cfb2",
   "metadata": {},
   "outputs": [],
   "source": [
    "c1.cd(1)\n",
    "h1.Draw(\"HIST\")\n",
    "h1.SetTitle(\"13 TeV\")\n",
    "h1.GetXaxis().SetTitle(out_title)\n",
    "h1.GetYaxis().SetTitle(\"Probability\")\n",
    "h1.GetYaxis().SetTitleOffset(1)\n",
    "h1.GetYaxis().CenterTitle(True)\n",
    "h1.GetYaxis().SetLabelFont(43)\n",
    "h1.GetYaxis().SetLabelSize(10)"
   ]
  },
  {
   "cell_type": "markdown",
   "id": "6e8051a2-1d66-4e67-b57f-f120a39fec54",
   "metadata": {},
   "source": [
    "### Ploting Histogram of 13.6 TeV"
   ]
  },
  {
   "cell_type": "code",
   "execution_count": 18,
   "id": "3e1149b9-eabb-43de-af82-7d47e1d39fd0",
   "metadata": {},
   "outputs": [],
   "source": [
    "c1.cd(2)\n",
    "h2.Draw(\"HIST\")\n",
    "h2.SetTitle(\"13.6 TeV\")\n",
    "h2.GetXaxis().SetTitle(out_title)\n",
    "h2.GetYaxis().SetTitle(\"Probability\")\n",
    "h2.GetYaxis().SetTitleOffset(1)\n",
    "h2.GetYaxis().CenterTitle(True)\n",
    "h2.GetYaxis().SetLabelFont(43)\n",
    "h2.GetYaxis().SetLabelSize(10)"
   ]
  },
  {
   "cell_type": "markdown",
   "id": "b4ea0825-d6b2-4179-ac48-11ea517612be",
   "metadata": {},
   "source": [
    "### Ploting Histogram of 14 TeV"
   ]
  },
  {
   "cell_type": "code",
   "execution_count": 19,
   "id": "8a35a03e-82b9-4550-9d1d-d36e6f10570e",
   "metadata": {},
   "outputs": [],
   "source": [
    "c1.cd(3)\n",
    "h3.Draw(\"HIST\")\n",
    "h3.SetTitle(\"14 TeV\")\n",
    "h3.GetXaxis().SetTitle(out_title)\n",
    "h3.GetYaxis().SetTitle(\"Probability\")\n",
    "h3.GetYaxis().SetTitleOffset(1)\n",
    "h3.GetYaxis().CenterTitle(True)\n",
    "h3.GetYaxis().SetLabelFont(43)\n",
    "h3.GetYaxis().SetLabelSize(10)"
   ]
  },
  {
   "cell_type": "code",
   "execution_count": 20,
   "id": "99f07909-57ae-4991-8e78-c3af314db803",
   "metadata": {},
   "outputs": [
    {
     "data": {
      "text/plain": [
       "0.9179151128046215"
      ]
     },
     "execution_count": 20,
     "metadata": {},
     "output_type": "execute_result"
    }
   ],
   "source": [
    "h1.Integral()"
   ]
  },
  {
   "cell_type": "markdown",
   "id": "a69b7243-54c7-4b84-a2ae-fa665ce40b07",
   "metadata": {},
   "source": [
    "### Displaying Canvas "
   ]
  },
  {
   "cell_type": "code",
   "execution_count": 21,
   "id": "f93eeec9-375f-4668-bcb7-e361a5359ed5",
   "metadata": {},
   "outputs": [
    {
     "data": {
      "text/html": [
       "\n",
       "\n",
       "<div id=\"root_plot_1664311689581\"\n",
       "     style=\"width: 696px; height: 472px\">\n",
       "</div>\n",
       "<script>\n",
       "\n",
       "function display_root_plot_1664311689581(Core) {\n",
       "   let obj = Core.parse({\"_typename\":\"TCanvas\",\"fUniqueID\":0,\"fBits\":3342344,\"fLineColor\":1,\"fLineStyle\":1,\"fLineWidth\":1,\"fFillColor\":0,\"fFillStyle\":1001,\"fLeftMargin\":0.1,\"fRightMargin\":0.1,\"fBottomMargin\":0.1,\"fTopMargin\":0.1,\"fXfile\":2,\"fYfile\":2,\"fAfile\":1,\"fXstat\":0.99,\"fYstat\":0.99,\"fAstat\":2,\"fFrameFillColor\":0,\"fFrameLineColor\":1,\"fFrameFillStyle\":1001,\"fFrameLineStyle\":1,\"fFrameLineWidth\":1,\"fFrameBorderSize\":1,\"fFrameBorderMode\":0,\"fX1\":0,\"fY1\":0,\"fX2\":1,\"fY2\":1,\"fXtoAbsPixelk\":5e-5,\"fXtoPixelk\":5e-5,\"fXtoPixel\":696,\"fYtoAbsPixelk\":472.00005,\"fYtoPixelk\":472.00005,\"fYtoPixel\":-472,\"fUtoAbsPixelk\":5e-5,\"fUtoPixelk\":5e-5,\"fUtoPixel\":696,\"fVtoAbsPixelk\":472.00005,\"fVtoPixelk\":472,\"fVtoPixel\":-472,\"fAbsPixeltoXk\":0,\"fPixeltoXk\":0,\"fPixeltoX\":0.0014367816091954,\"fAbsPixeltoYk\":1,\"fPixeltoYk\":0,\"fPixeltoY\":-0.00211864406779661,\"fXlowNDC\":0,\"fYlowNDC\":0,\"fXUpNDC\":1,\"fYUpNDC\":1,\"fWNDC\":1,\"fHNDC\":1,\"fAbsXlowNDC\":0,\"fAbsYlowNDC\":0,\"fAbsWNDC\":1,\"fAbsHNDC\":1,\"fUxmin\":0,\"fUymin\":0,\"fUxmax\":1,\"fUymax\":1,\"fTheta\":30,\"fPhi\":30,\"fAspectRatio\":0,\"fNumber\":0,\"fTickx\":0,\"fTicky\":0,\"fLogx\":0,\"fLogy\":0,\"fLogz\":0,\"fPadPaint\":0,\"fCrosshair\":0,\"fCrosshairPos\":0,\"fBorderSize\":2,\"fBorderMode\":0,\"fModified\":false,\"fGridx\":false,\"fGridy\":false,\"fAbsCoord\":false,\"fEditable\":true,\"fFixedAspectRatio\":false,\"fPrimitives\":{\"_typename\":\"TList\",\"name\":\"TList\",\"arr\":[{\"_typename\":\"TPad\",\"fUniqueID\":0,\"fBits\":9,\"fLineColor\":1,\"fLineStyle\":1,\"fLineWidth\":1,\"fFillColor\":0,\"fFillStyle\":1001,\"fLeftMargin\":0.1,\"fRightMargin\":0.1,\"fBottomMargin\":0.1,\"fTopMargin\":0.1,\"fXfile\":2,\"fYfile\":2,\"fAfile\":1,\"fXstat\":0.99,\"fYstat\":0.99,\"fAstat\":2,\"fFrameFillColor\":0,\"fFrameLineColor\":1,\"fFrameFillStyle\":1001,\"fFrameLineStyle\":1,\"fFrameLineWidth\":1,\"fFrameBorderSize\":1,\"fFrameBorderMode\":0,\"fX1\":-3.75000005587936,\"fY1\":0.00117359744953442,\"fX2\":3.75000005587936,\"fY2\":0.0444729917067058,\"fXtoAbsPixelk\":116.00005,\"fXtoPixelk\":109.040050155568,\"fXtoPixel\":29.0773329415321,\"fYtoAbsPixelk\":479.817390311232,\"fYtoPixelk\":475.097390416732,\"fYtoPixel\":-10682.828435513,\"fUtoAbsPixelk\":6.96004984443188,\"fUtoPixelk\":5e-5,\"fUtoPixel\":218.080000311136,\"fVtoAbsPixelk\":467.2800501055,\"fVtoPixelk\":462.560000211,\"fVtoPixel\":-462.560000211,\"fAbsPixeltoXk\":-3.98936175588214,\"fPixeltoXk\":-3.75000005587936,\"fPixeltoX\":0.0343910496196736,\"fAbsPixeltoYk\":0.0449148222502732,\"fPixeltoYk\":0.00117359744953442,\"fPixeltoY\":-9.36081681023435e-5,\"fXlowNDC\":0.00999999977648258,\"fYlowNDC\":0.00999999977648258,\"fXUpNDC\":0.323333333556851,\"fYUpNDC\":0.990000000223517,\"fWNDC\":0.313333333780368,\"fHNDC\":0.980000000447035,\"fAbsXlowNDC\":0.00999999977648258,\"fAbsYlowNDC\":0.00999999977648258,\"fAbsWNDC\":0.313333333780368,\"fAbsHNDC\":0.980000000447035,\"fUxmin\":-3,\"fUymin\":0.00550353713333607,\"fUxmax\":3,\"fUymax\":0.0401430520229042,\"fTheta\":30,\"fPhi\":30,\"fAspectRatio\":0,\"fNumber\":1,\"fTickx\":0,\"fTicky\":0,\"fLogx\":0,\"fLogy\":0,\"fLogz\":0,\"fPadPaint\":0,\"fCrosshair\":0,\"fCrosshairPos\":0,\"fBorderSize\":2,\"fBorderMode\":0,\"fModified\":false,\"fGridx\":false,\"fGridy\":false,\"fAbsCoord\":false,\"fEditable\":true,\"fFixedAspectRatio\":false,\"fPrimitives\":{\"_typename\":\"TList\",\"name\":\"TList\",\"arr\":[{\"_typename\":\"TFrame\",\"fUniqueID\":0,\"fBits\":8,\"fLineColor\":1,\"fLineStyle\":1,\"fLineWidth\":1,\"fFillColor\":0,\"fFillStyle\":1001,\"fX1\":-3,\"fY1\":0.00550353713333607,\"fX2\":3,\"fY2\":0.0401430520229042,\"fBorderSize\":1,\"fBorderMode\":0},{\"_typename\":\"TH1F\",\"fUniqueID\":0,\"fBits\":520,\"fName\":\"h1\",\"fTitle\":\"13 TeV\",\"fLineColor\":416,\"fLineStyle\":1,\"fLineWidth\":2,\"fFillColor\":413,\"fFillStyle\":3004,\"fMarkerColor\":1,\"fMarkerStyle\":1,\"fMarkerSize\":1,\"fNcells\":42,\"fXaxis\":{\"_typename\":\"TAxis\",\"fUniqueID\":0,\"fBits\":0,\"fName\":\"xaxis\",\"fTitle\":\"Pseudorapidity (Eta) of Muon\",\"fNdivisions\":510,\"fAxisColor\":1,\"fLabelColor\":1,\"fLabelFont\":42,\"fLabelOffset\":0.005,\"fLabelSize\":0.035,\"fTickLength\":0.03,\"fTitleOffset\":1,\"fTitleSize\":0.035,\"fTitleColor\":1,\"fTitleFont\":42,\"fNbins\":40,\"fXmin\":-3,\"fXmax\":3,\"fXbins\":[],\"fFirst\":0,\"fLast\":0,\"fBits2\":0,\"fTimeDisplay\":false,\"fTimeFormat\":\"\",\"fLabels\":null,\"fModLabs\":null},\"fYaxis\":{\"_typename\":\"TAxis\",\"fUniqueID\":0,\"fBits\":4096,\"fName\":\"yaxis\",\"fTitle\":\"Probability\",\"fNdivisions\":510,\"fAxisColor\":1,\"fLabelColor\":1,\"fLabelFont\":43,\"fLabelOffset\":0.005,\"fLabelSize\":10,\"fTickLength\":0.03,\"fTitleOffset\":1,\"fTitleSize\":0.035,\"fTitleColor\":1,\"fTitleFont\":42,\"fNbins\":1,\"fXmin\":0,\"fXmax\":1,\"fXbins\":[],\"fFirst\":0,\"fLast\":0,\"fBits2\":0,\"fTimeDisplay\":false,\"fTimeFormat\":\"\",\"fLabels\":null,\"fModLabs\":null},\"fZaxis\":{\"_typename\":\"TAxis\",\"fUniqueID\":0,\"fBits\":0,\"fName\":\"zaxis\",\"fTitle\":\"\",\"fNdivisions\":510,\"fAxisColor\":1,\"fLabelColor\":1,\"fLabelFont\":42,\"fLabelOffset\":0.005,\"fLabelSize\":0.035,\"fTickLength\":0.03,\"fTitleOffset\":1,\"fTitleSize\":0.035,\"fTitleColor\":1,\"fTitleFont\":42,\"fNbins\":1,\"fXmin\":0,\"fXmax\":1,\"fXbins\":[],\"fFirst\":0,\"fLast\":0,\"fBits2\":0,\"fTimeDisplay\":false,\"fTimeFormat\":\"\",\"fLabels\":null,\"fModLabs\":null},\"fBarOffset\":0,\"fBarWidth\":1000,\"fEntries\":9612,\"fTsumw\":0.917915106117353,\"fTsumw2\":9.54967859048433e-5,\"fTsumwx\":0.010140986240194,\"fTsumwx2\":1.72586809584581,\"fMaximum\":-1111,\"fMinimum\":-1111,\"fNormFactor\":0,\"fContour\":[],\"fSumw2\":[4.30780015755725e-6,7.36006057070083e-7,7.68476912529057e-7,8.4424224193333e-7,1.24471612592735e-6,1.16895079652307e-6,1.61271915446239e-6,1.61271915446239e-6,1.90495685359316e-6,2.42449054093674e-6,2.45696139639572e-6,2.42449054093674e-6,2.70590462158119e-6,2.88990613584871e-6,3.26873278287007e-6,3.3228508753017e-6,3.57179410048717e-6,3.85320818113161e-6,3.78826647021366e-6,3.53932324502819e-6,4.00473883994016e-6,3.76661923324101e-6,3.35532173076067e-6,3.44191067865127e-6,3.39861620470597e-6,3.1496729795205e-6,3.21461469043845e-6,3.35532173076067e-6,3.2362619274111e-6,2.59766843671794e-6,2.76002271401281e-6,2.40284330396409e-6,2.0564875124017e-6,2.04566389391538e-6,1.71013172083931e-6,1.61271915446239e-6,1.33130507381794e-6,1.15812717803675e-6,1.20142165198205e-6,7.79300531015382e-7,7.79300531015382e-7,4.23203482815298e-6],\"fOption\":\"\",\"fFunctions\":{\"_typename\":\"TList\",\"name\":\"TList\",\"arr\":[],\"opt\":[]},\"fBufferSize\":0,\"fBuffer\":[],\"fBinStatErrOpt\":0,\"fStatOverflows\":2,\"fArray\":[0.04140658,0.00707449,0.0073866,0.008114857,0.01196421,0.01123596,0.01550146,0.01550146,0.01831044,0.0233042,0.02361631,0.0233042,0.02600916,0.02777778,0.03141906,0.03193924,0.03433209,0.03703704,0.03641282,0.03401998,0.03849355,0.03620474,0.03225135,0.03308364,0.0326675,0.03027466,0.03089888,0.03225135,0.03110695,0.02496879,0.02652934,0.02309613,0.01976696,0.01966292,0.01643779,0.01550146,0.0127965,0.01113192,0.01154806,0.007490637,0.007490637,0.04067832]},{\"_typename\":\"TPaveText\",\"fUniqueID\":0,\"fBits\":9,\"fLineColor\":1,\"fLineStyle\":1,\"fLineWidth\":1,\"fFillColor\":0,\"fFillStyle\":0,\"fX1\":-0.694038894271712,\"fY1\":0.0418750282222565,\"fX2\":0.694038894271711,\"fY2\":0.0442564949418876,\"fX1NDC\":0.407461482142703,\"fY1NDC\":0.940000003948808,\"fX2NDC\":0.592538517857297,\"fY2NDC\":0.995000004768372,\"fBorderSize\":0,\"fInit\":1,\"fShadowColor\":1,\"fCornerRadius\":0,\"fOption\":\"blNDC\",\"fName\":\"title\",\"fTextAngle\":0,\"fTextSize\":0,\"fTextAlign\":22,\"fTextColor\":1,\"fTextFont\":42,\"fLabel\":\"\",\"fLongest\":6,\"fMargin\":0.05,\"fLines\":{\"_typename\":\"TList\",\"name\":\"TList\",\"arr\":[{\"_typename\":\"TLatex\",\"fUniqueID\":0,\"fBits\":0,\"fName\":\"\",\"fTitle\":\"13 TeV\",\"fTextAngle\":0,\"fTextSize\":0,\"fTextAlign\":0,\"fTextColor\":0,\"fTextFont\":0,\"fX\":0,\"fY\":0,\"fLineColor\":1,\"fLineStyle\":1,\"fLineWidth\":2,\"fLimitFactorSize\":3,\"fOriginSize\":0.0467500016093254}],\"opt\":[\"\"]}}],\"opt\":[\"\",\"HIST\",\"blNDC\"]},\"fExecs\":{\"_typename\":\"TList\",\"name\":\"TList\",\"arr\":[],\"opt\":[]},\"fName\":\"c1_1\",\"fTitle\":\"c1_1\",\"fNumPaletteColor\":0,\"fNextPaletteColor\":0},{\"_typename\":\"TPad\",\"fUniqueID\":0,\"fBits\":9,\"fLineColor\":1,\"fLineStyle\":1,\"fLineWidth\":1,\"fFillColor\":0,\"fFillStyle\":1001,\"fLeftMargin\":0.1,\"fRightMargin\":0.1,\"fBottomMargin\":0.1,\"fTopMargin\":0.1,\"fXfile\":2,\"fYfile\":2,\"fAfile\":1,\"fXstat\":0.99,\"fYstat\":0.99,\"fAstat\":2,\"fFrameFillColor\":0,\"fFrameLineColor\":1,\"fFrameFillStyle\":1001,\"fFrameLineStyle\":1,\"fFrameLineWidth\":1,\"fFrameBorderSize\":1,\"fFrameBorderMode\":0,\"fX1\":-3.75000005587936,\"fY1\":0.00125314077369534,\"fX2\":3.75000005587936,\"fY2\":0.0445248375552926,\"fXtoAbsPixelk\":348.00005,\"fXtoPixelk\":109.040050155568,\"fXtoPixel\":29.0773329415321,\"fYtoAbsPixelk\":480.675706843219,\"fYtoPixelk\":475.955706948719,\"fYtoPixel\":-10689.6663319133,\"fUtoAbsPixelk\":238.960049844432,\"fUtoPixelk\":5e-5,\"fUtoPixel\":218.080000311136,\"fVtoAbsPixelk\":467.2800501055,\"fVtoPixelk\":462.560000211,\"fVtoPixel\":-462.560000211,\"fAbsPixeltoXk\":-11.9680852676464,\"fPixeltoXk\":-3.75000005587936,\"fPixeltoX\":0.0343910496196736,\"fAbsPixeltoYk\":0.0449663854715647,\"fPixeltoYk\":0.00125314077369534,\"fPixeltoY\":-9.35482894367402e-5,\"fXlowNDC\":0.343333333109816,\"fYlowNDC\":0.00999999977648258,\"fXUpNDC\":0.656666666890184,\"fYUpNDC\":0.990000000223517,\"fWNDC\":0.313333333780368,\"fHNDC\":0.980000000447035,\"fAbsXlowNDC\":0.343333333109816,\"fAbsYlowNDC\":0.00999999977648258,\"fAbsWNDC\":0.313333333780368,\"fAbsHNDC\":0.980000000447035,\"fUxmin\":-3,\"fUymin\":0.00558031070977449,\"fUxmax\":3,\"fUymax\":0.0401976676192135,\"fTheta\":30,\"fPhi\":30,\"fAspectRatio\":0,\"fNumber\":2,\"fTickx\":0,\"fTicky\":0,\"fLogx\":0,\"fLogy\":0,\"fLogz\":0,\"fPadPaint\":0,\"fCrosshair\":0,\"fCrosshairPos\":0,\"fBorderSize\":2,\"fBorderMode\":0,\"fModified\":false,\"fGridx\":false,\"fGridy\":false,\"fAbsCoord\":false,\"fEditable\":true,\"fFixedAspectRatio\":false,\"fPrimitives\":{\"_typename\":\"TList\",\"name\":\"TList\",\"arr\":[{\"_typename\":\"TFrame\",\"fUniqueID\":0,\"fBits\":8,\"fLineColor\":1,\"fLineStyle\":1,\"fLineWidth\":1,\"fFillColor\":0,\"fFillStyle\":1001,\"fX1\":-3,\"fY1\":0.00558031070977449,\"fX2\":3,\"fY2\":0.0401976676192135,\"fBorderSize\":1,\"fBorderMode\":0},{\"_typename\":\"TH1F\",\"fUniqueID\":0,\"fBits\":520,\"fName\":\"h2\",\"fTitle\":\"13.6 TeV\",\"fLineColor\":632,\"fLineStyle\":1,\"fLineWidth\":2,\"fFillColor\":622,\"fFillStyle\":3010,\"fMarkerColor\":1,\"fMarkerStyle\":1,\"fMarkerSize\":1,\"fNcells\":42,\"fXaxis\":{\"_typename\":\"TAxis\",\"fUniqueID\":0,\"fBits\":0,\"fName\":\"xaxis\",\"fTitle\":\"Pseudorapidity (Eta) of Muon\",\"fNdivisions\":510,\"fAxisColor\":1,\"fLabelColor\":1,\"fLabelFont\":42,\"fLabelOffset\":0.005,\"fLabelSize\":0.035,\"fTickLength\":0.03,\"fTitleOffset\":1,\"fTitleSize\":0.035,\"fTitleColor\":1,\"fTitleFont\":42,\"fNbins\":40,\"fXmin\":-3,\"fXmax\":3,\"fXbins\":[],\"fFirst\":0,\"fLast\":0,\"fBits2\":0,\"fTimeDisplay\":false,\"fTimeFormat\":\"\",\"fLabels\":null,\"fModLabs\":null},\"fYaxis\":{\"_typename\":\"TAxis\",\"fUniqueID\":0,\"fBits\":4096,\"fName\":\"yaxis\",\"fTitle\":\"Probability\",\"fNdivisions\":510,\"fAxisColor\":1,\"fLabelColor\":1,\"fLabelFont\":43,\"fLabelOffset\":0.005,\"fLabelSize\":10,\"fTickLength\":0.03,\"fTitleOffset\":1,\"fTitleSize\":0.035,\"fTitleColor\":1,\"fTitleFont\":42,\"fNbins\":1,\"fXmin\":0,\"fXmax\":1,\"fXbins\":[],\"fFirst\":0,\"fLast\":0,\"fBits2\":0,\"fTimeDisplay\":false,\"fTimeFormat\":\"\",\"fLabels\":null,\"fModLabs\":null},\"fZaxis\":{\"_typename\":\"TAxis\",\"fUniqueID\":0,\"fBits\":0,\"fName\":\"zaxis\",\"fTitle\":\"\",\"fNdivisions\":510,\"fAxisColor\":1,\"fLabelColor\":1,\"fLabelFont\":42,\"fLabelOffset\":0.005,\"fLabelSize\":0.035,\"fTickLength\":0.03,\"fTitleOffset\":1,\"fTitleSize\":0.035,\"fTitleColor\":1,\"fTitleFont\":42,\"fNbins\":1,\"fXmin\":0,\"fXmax\":1,\"fXbins\":[],\"fFirst\":0,\"fLast\":0,\"fBits2\":0,\"fTimeDisplay\":false,\"fTimeFormat\":\"\",\"fLabels\":null,\"fModLabs\":null},\"fBarOffset\":0,\"fBarWidth\":1000,\"fEntries\":9650,\"fTsumw\":0.914818652849741,\"fTsumw2\":9.47998603989369e-5,\"fTsumwx\":-0.0114726385000582,\"fTsumwx2\":1.67982297283106,\"fMaximum\":-1111,\"fMinimum\":-1111,\"fNormFactor\":0,\"fContour\":[],\"fSumw2\":[4.35984858653924e-6,8.05390748744933e-7,8.48344922011329e-7,8.3760637869473e-7,1.10606996160971e-6,1.10606996160971e-6,1.46044189105748e-6,1.97589197025424e-6,1.91146071035464e-6,2.31952535638541e-6,2.26583263980241e-6,2.55577330935059e-6,2.74906708904937e-6,3.12491610513034e-6,2.83497543558216e-6,3.02826921528095e-6,3.79070579075948e-6,3.6296276410105e-6,3.68332035759349e-6,3.85513705065908e-6,3.86587559397568e-6,3.99473811377487e-6,3.81218287739268e-6,3.70479744422669e-6,3.33968697146232e-6,3.39337968804532e-6,3.45781094794491e-6,3.40411823136192e-6,2.91014523879836e-6,2.58798893930038e-6,2.55577330935059e-6,2.02958468683723e-6,2.11549303337002e-6,1.82555236382185e-6,1.53561169427367e-6,1.38527208784128e-6,1.2564095680421e-6,1.35305645789149e-6,8.26867835378131e-7,8.16129292061532e-7,7.40959488845338e-7,4.46723401970523e-6],\"fOption\":\"\",\"fFunctions\":{\"_typename\":\"TList\",\"name\":\"TList\",\"arr\":[],\"opt\":[]},\"fBufferSize\":0,\"fBuffer\":[],\"fBinStatErrOpt\":0,\"fStatOverflows\":2,\"fArray\":[0.04207254,0.007772021,0.008186528,0.008082901,0.01067358,0.01067358,0.01409326,0.01906736,0.0184456,0.02238342,0.02186528,0.02466321,0.0265285,0.03015544,0.02735751,0.0292228,0.03658031,0.03502591,0.03554404,0.03720207,0.0373057,0.03854922,0.03678757,0.03575129,0.03222798,0.03274611,0.03336788,0.03284974,0.0280829,0.02497409,0.02466321,0.01958549,0.02041451,0.01761658,0.01481865,0.01336788,0.01212435,0.01305699,0.007979275,0.007875647,0.007150259,0.04310881]},{\"_typename\":\"TPaveText\",\"fUniqueID\":0,\"fBits\":9,\"fLineColor\":1,\"fLineStyle\":1,\"fLineWidth\":1,\"fFillColor\":0,\"fFillStyle\":0,\"fX1\":-0.848798617560243,\"fY1\":0.0419285359192684,\"fX2\":0.848798617560242,\"fY2\":0.0443084792777202,\"fX1NDC\":0.386826852678379,\"fY1NDC\":0.940000003948808,\"fX2NDC\":0.613173147321621,\"fY2NDC\":0.995000004768372,\"fBorderSize\":0,\"fInit\":1,\"fShadowColor\":1,\"fCornerRadius\":0,\"fOption\":\"blNDC\",\"fName\":\"title\",\"fTextAngle\":0,\"fTextSize\":0,\"fTextAlign\":22,\"fTextColor\":1,\"fTextFont\":42,\"fLabel\":\"\",\"fLongest\":8,\"fMargin\":0.05,\"fLines\":{\"_typename\":\"TList\",\"name\":\"TList\",\"arr\":[{\"_typename\":\"TLatex\",\"fUniqueID\":0,\"fBits\":0,\"fName\":\"\",\"fTitle\":\"13.6 TeV\",\"fTextAngle\":0,\"fTextSize\":0,\"fTextAlign\":0,\"fTextColor\":0,\"fTextFont\":0,\"fX\":0,\"fY\":0,\"fLineColor\":1,\"fLineStyle\":1,\"fLineWidth\":2,\"fLimitFactorSize\":3,\"fOriginSize\":0.0467500016093254}],\"opt\":[\"\"]}}],\"opt\":[\"\",\"HIST\",\"blNDC\"]},\"fExecs\":{\"_typename\":\"TList\",\"name\":\"TList\",\"arr\":[],\"opt\":[]},\"fName\":\"c1_2\",\"fTitle\":\"c1_2\",\"fNumPaletteColor\":0,\"fNextPaletteColor\":0},{\"_typename\":\"TPad\",\"fUniqueID\":0,\"fBits\":9,\"fLineColor\":1,\"fLineStyle\":1,\"fLineWidth\":1,\"fFillColor\":0,\"fFillStyle\":1001,\"fLeftMargin\":0.1,\"fRightMargin\":0.1,\"fBottomMargin\":0.1,\"fTopMargin\":0.1,\"fXfile\":2,\"fYfile\":2,\"fAfile\":1,\"fXstat\":0.99,\"fYstat\":0.99,\"fAstat\":2,\"fFrameFillColor\":0,\"fFrameLineColor\":1,\"fFrameFillStyle\":1001,\"fFrameLineStyle\":1,\"fFrameLineWidth\":1,\"fFrameBorderSize\":1,\"fFrameBorderMode\":0,\"fX1\":-3.75000005587936,\"fY1\":4.59929241848375e-4,\"fX2\":3.75000005587936,\"fY2\":0.04302749471571,\"fXtoAbsPixelk\":580.00005,\"fXtoPixelk\":109.040050155568,\"fXtoPixel\":29.0773329415321,\"fYtoAbsPixelk\":472.27786634982,\"fYtoPixelk\":467.557866455321,\"fYtoPixel\":-10866.4894283192,\"fUtoAbsPixelk\":470.960049844432,\"fUtoPixelk\":5e-5,\"fUtoPixel\":218.080000311136,\"fVtoAbsPixelk\":467.2800501055,\"fVtoPixelk\":462.560000211,\"fVtoPixel\":-462.560000211,\"fAbsPixeltoXk\":-19.9468087794107,\"fPixeltoXk\":-3.75000005587936,\"fPixeltoX\":0.0343910496196736,\"fAbsPixeltoYk\":0.0434618576188017,\"fPixeltoYk\":4.59929241848375e-4,\"fPixeltoY\":-9.20260408475529e-5,\"fXlowNDC\":0.676666666443149,\"fYlowNDC\":0.00999999977648258,\"fXUpNDC\":0.990000000223517,\"fYUpNDC\":0.990000000223517,\"fWNDC\":0.313333333780368,\"fHNDC\":0.980000000447035,\"fAbsXlowNDC\":0.676666666443149,\"fAbsYlowNDC\":0.00999999977648258,\"fAbsWNDC\":0.313333333780368,\"fAbsHNDC\":0.980000000447035,\"fUxmin\":-3,\"fUymin\":0.00471668604295701,\"fUxmax\":3,\"fUymax\":0.0387707379146013,\"fTheta\":30,\"fPhi\":30,\"fAspectRatio\":0,\"fNumber\":3,\"fTickx\":0,\"fTicky\":0,\"fLogx\":0,\"fLogy\":0,\"fLogz\":0,\"fPadPaint\":0,\"fCrosshair\":0,\"fCrosshairPos\":0,\"fBorderSize\":2,\"fBorderMode\":0,\"fModified\":false,\"fGridx\":false,\"fGridy\":false,\"fAbsCoord\":false,\"fEditable\":true,\"fFixedAspectRatio\":false,\"fPrimitives\":{\"_typename\":\"TList\",\"name\":\"TList\",\"arr\":[{\"_typename\":\"TFrame\",\"fUniqueID\":0,\"fBits\":8,\"fLineColor\":1,\"fLineStyle\":1,\"fLineWidth\":1,\"fFillColor\":0,\"fFillStyle\":1001,\"fX1\":-3,\"fY1\":0.00471668604295701,\"fX2\":3,\"fY2\":0.0387707379146013,\"fBorderSize\":1,\"fBorderMode\":0},{\"_typename\":\"TH1F\",\"fUniqueID\":0,\"fBits\":520,\"fName\":\"h3\",\"fTitle\":\"14 TeV\",\"fLineColor\":860,\"fLineStyle\":1,\"fLineWidth\":2,\"fFillColor\":864,\"fFillStyle\":3006,\"fMarkerColor\":1,\"fMarkerStyle\":1,\"fMarkerSize\":1,\"fNcells\":42,\"fXaxis\":{\"_typename\":\"TAxis\",\"fUniqueID\":0,\"fBits\":0,\"fName\":\"xaxis\",\"fTitle\":\"Pseudorapidity (Eta) of Muon\",\"fNdivisions\":510,\"fAxisColor\":1,\"fLabelColor\":1,\"fLabelFont\":42,\"fLabelOffset\":0.005,\"fLabelSize\":0.035,\"fTickLength\":0.03,\"fTitleOffset\":1,\"fTitleSize\":0.035,\"fTitleColor\":1,\"fTitleFont\":42,\"fNbins\":40,\"fXmin\":-3,\"fXmax\":3,\"fXbins\":[],\"fFirst\":0,\"fLast\":0,\"fBits2\":0,\"fTimeDisplay\":false,\"fTimeFormat\":\"\",\"fLabels\":null,\"fModLabs\":null},\"fYaxis\":{\"_typename\":\"TAxis\",\"fUniqueID\":0,\"fBits\":4096,\"fName\":\"yaxis\",\"fTitle\":\"Probability\",\"fNdivisions\":510,\"fAxisColor\":1,\"fLabelColor\":1,\"fLabelFont\":43,\"fLabelOffset\":0.005,\"fLabelSize\":10,\"fTickLength\":0.03,\"fTitleOffset\":1,\"fTitleSize\":0.035,\"fTitleColor\":1,\"fTitleFont\":42,\"fNbins\":1,\"fXmin\":0,\"fXmax\":1,\"fXbins\":[],\"fFirst\":0,\"fLast\":0,\"fBits2\":0,\"fTimeDisplay\":false,\"fTimeFormat\":\"\",\"fLabels\":null,\"fModLabs\":null},\"fZaxis\":{\"_typename\":\"TAxis\",\"fUniqueID\":0,\"fBits\":0,\"fName\":\"zaxis\",\"fTitle\":\"\",\"fNdivisions\":510,\"fAxisColor\":1,\"fLabelColor\":1,\"fLabelFont\":42,\"fLabelOffset\":0.005,\"fLabelSize\":0.035,\"fTickLength\":0.03,\"fTitleOffset\":1,\"fTitleSize\":0.035,\"fTitleColor\":1,\"fTitleFont\":42,\"fNbins\":1,\"fXmin\":0,\"fXmax\":1,\"fXbins\":[],\"fFirst\":0,\"fLast\":0,\"fBits2\":0,\"fTimeDisplay\":false,\"fTimeFormat\":\"\",\"fLabels\":null,\"fModLabs\":null},\"fBarOffset\":0,\"fBarWidth\":1000,\"fEntries\":9583,\"fTsumw\":0.916101429614943,\"fTsumw2\":9.55965177517419e-5,\"fTsumwx\":0.00522664159965773,\"fTsumwx2\":1.73648260715689,\"fMaximum\":-1111,\"fMinimum\":-1111,\"fNormFactor\":0,\"fContour\":[],\"fSumw2\":[4.52991814383468e-6,8.92916557198182e-7,9.47362688734657e-7,9.03805783505477e-7,1.03447649919302e-6,1.05625495180761e-6,1.56804858825047e-6,1.77494388808907e-6,2.24318061930275e-6,2.07984222469333e-6,2.3411836560684e-6,2.53718972959971e-6,2.75497425574561e-6,2.91831265035503e-6,3.33210325003224e-6,3.23410021326659e-6,3.66966926555838e-6,3.49544164464166e-6,3.52810932356355e-6,3.61522313402191e-6,3.72411539709486e-6,3.87656456539699e-6,3.80033998124592e-6,3.54988777617814e-6,3.60433390771461e-6,3.33210325003224e-6,3.11431872388634e-6,3.22321098695929e-6,2.97275878189151e-6,2.47185437175594e-6,2.96186955558421e-6,2.3411836560684e-6,2.19962371407357e-6,1.698719303938e-6,1.7096085302453e-6,1.7096085302453e-6,1.43737787256293e-6,1.21959334641703e-6,1.15425798857326e-6,9.14695009812772e-7,6.53353578437694e-7,4.22501980723042e-6],\"fOption\":\"\",\"fFunctions\":{\"_typename\":\"TList\",\"name\":\"TList\",\"arr\":[],\"opt\":[]},\"fBufferSize\":0,\"fBuffer\":[],\"fBinStatErrOpt\":0,\"fStatOverflows\":2,\"fArray\":[0.0434102,0.00855682,0.009078576,0.00866117,0.009913389,0.01012209,0.01502661,0.01700929,0.0214964,0.01993113,0.02243556,0.02431389,0.02640092,0.02796619,0.03193155,0.03099238,0.03516644,0.03349682,0.03380987,0.03464468,0.0356882,0.03714912,0.03641866,0.03401858,0.03454033,0.03193155,0.02984452,0.03088803,0.02848795,0.02368778,0.0283836,0.02243556,0.02107899,0.01627883,0.01638318,0.01638318,0.01377439,0.01168736,0.01106125,0.008765522,0.006261087,0.04048837]},{\"_typename\":\"TPaveText\",\"fUniqueID\":0,\"fBits\":9,\"fLineColor\":1,\"fLineStyle\":1,\"fLineWidth\":1,\"fFillColor\":0,\"fFillStyle\":0,\"fX1\":-0.694038894271712,\"fY1\":0.0404734409553694,\"fX2\":0.694038894271712,\"fY2\":0.0428146570913186,\"fX1NDC\":0.407461482142703,\"fY1NDC\":0.940000003948808,\"fX2NDC\":0.592538517857297,\"fY2NDC\":0.995000004768372,\"fBorderSize\":0,\"fInit\":1,\"fShadowColor\":1,\"fCornerRadius\":0,\"fOption\":\"blNDC\",\"fName\":\"title\",\"fTextAngle\":0,\"fTextSize\":0,\"fTextAlign\":22,\"fTextColor\":1,\"fTextFont\":42,\"fLabel\":\"\",\"fLongest\":6,\"fMargin\":0.05,\"fLines\":{\"_typename\":\"TList\",\"name\":\"TList\",\"arr\":[{\"_typename\":\"TLatex\",\"fUniqueID\":0,\"fBits\":0,\"fName\":\"\",\"fTitle\":\"14 TeV\",\"fTextAngle\":0,\"fTextSize\":0,\"fTextAlign\":0,\"fTextColor\":0,\"fTextFont\":0,\"fX\":0,\"fY\":0,\"fLineColor\":1,\"fLineStyle\":1,\"fLineWidth\":2,\"fLimitFactorSize\":3,\"fOriginSize\":0.0467500016093254}],\"opt\":[\"\"]}}],\"opt\":[\"\",\"HIST\",\"blNDC\"]},\"fExecs\":{\"_typename\":\"TList\",\"name\":\"TList\",\"arr\":[],\"opt\":[]},\"fName\":\"c1_3\",\"fTitle\":\"c1_3\",\"fNumPaletteColor\":0,\"fNextPaletteColor\":0},{\"_typename\":\"TStyle\",\"fUniqueID\":0,\"fBits\":0,\"fName\":\"Modern\",\"fTitle\":\"Modern Style\",\"fLineColor\":1,\"fLineStyle\":1,\"fLineWidth\":1,\"fFillColor\":19,\"fFillStyle\":1001,\"fMarkerColor\":1,\"fMarkerStyle\":1,\"fMarkerSize\":1,\"fTextAngle\":0,\"fTextSize\":0.05,\"fTextAlign\":11,\"fTextColor\":1,\"fTextFont\":62,\"fXaxis\":{\"_typename\":\"TAttAxis\",\"fNdivisions\":510,\"fAxisColor\":1,\"fLabelColor\":1,\"fLabelFont\":42,\"fLabelOffset\":0.005,\"fLabelSize\":0.035,\"fTickLength\":0.03,\"fTitleOffset\":1,\"fTitleSize\":0.035,\"fTitleColor\":1,\"fTitleFont\":42},\"fYaxis\":{\"_typename\":\"TAttAxis\",\"fNdivisions\":510,\"fAxisColor\":1,\"fLabelColor\":1,\"fLabelFont\":42,\"fLabelOffset\":0.005,\"fLabelSize\":0.035,\"fTickLength\":0.03,\"fTitleOffset\":0,\"fTitleSize\":0.035,\"fTitleColor\":1,\"fTitleFont\":42},\"fZaxis\":{\"_typename\":\"TAttAxis\",\"fNdivisions\":510,\"fAxisColor\":1,\"fLabelColor\":1,\"fLabelFont\":42,\"fLabelOffset\":0.005,\"fLabelSize\":0.035,\"fTickLength\":0.03,\"fTitleOffset\":1,\"fTitleSize\":0.035,\"fTitleColor\":1,\"fTitleFont\":42},\"fBarWidth\":1,\"fBarOffset\":0,\"fColorModelPS\":0,\"fDrawBorder\":0,\"fOptLogx\":0,\"fOptLogy\":0,\"fOptLogz\":0,\"fOptDate\":0,\"fOptStat\":1111,\"fOptTitle\":1,\"fOptFile\":0,\"fOptFit\":0,\"fShowEventStatus\":0,\"fShowEditor\":0,\"fShowToolBar\":0,\"fNumberContours\":20,\"fAttDate\":{\"_typename\":\"TAttText\",\"fTextAngle\":0,\"fTextSize\":0.025,\"fTextAlign\":11,\"fTextColor\":1,\"fTextFont\":62},\"fDateX\":0.01,\"fDateY\":0.01,\"fEndErrorSize\":2,\"fErrorX\":0.5,\"fFuncColor\":2,\"fFuncStyle\":1,\"fFuncWidth\":2,\"fGridColor\":0,\"fGridStyle\":3,\"fGridWidth\":1,\"fLegendBorderSize\":1,\"fLegendFillColor\":0,\"fLegendFont\":42,\"fLegendTextSize\":0,\"fHatchesLineWidth\":1,\"fHatchesSpacing\":1,\"fFrameFillColor\":0,\"fFrameLineColor\":1,\"fFrameFillStyle\":1001,\"fFrameLineStyle\":1,\"fFrameLineWidth\":1,\"fFrameBorderSize\":1,\"fFrameBorderMode\":0,\"fHistFillColor\":0,\"fHistLineColor\":602,\"fHistFillStyle\":1001,\"fHistLineStyle\":1,\"fHistLineWidth\":1,\"fHistMinimumZero\":false,\"fHistTopMargin\":0.05,\"fCanvasPreferGL\":false,\"fCanvasColor\":0,\"fCanvasBorderSize\":2,\"fCanvasBorderMode\":0,\"fCanvasDefH\":500,\"fCanvasDefW\":700,\"fCanvasDefX\":10,\"fCanvasDefY\":10,\"fPadColor\":0,\"fPadBorderSize\":2,\"fPadBorderMode\":0,\"fPadBottomMargin\":0.1,\"fPadTopMargin\":0.1,\"fPadLeftMargin\":0.1,\"fPadRightMargin\":0.1,\"fPadGridX\":false,\"fPadGridY\":false,\"fPadTickX\":0,\"fPadTickY\":0,\"fPaperSizeX\":20,\"fPaperSizeY\":26,\"fScreenFactor\":1,\"fStatColor\":0,\"fStatTextColor\":1,\"fStatBorderSize\":1,\"fStatFont\":42,\"fStatFontSize\":0,\"fStatStyle\":1001,\"fStatFormat\":\"6.4g\",\"fStatX\":0.98,\"fStatY\":0.935,\"fStatW\":0.2,\"fStatH\":0.16,\"fStripDecimals\":true,\"fTitleAlign\":23,\"fTitleColor\":0,\"fTitleTextColor\":1,\"fTitleBorderSize\":0,\"fTitleFont\":42,\"fTitleFontSize\":0.05,\"fTitleStyle\":0,\"fTitleX\":0.5,\"fTitleY\":0.995,\"fTitleW\":0,\"fTitleH\":0,\"fLegoInnerR\":0.5,\"fLineStyle\":[\"\",\"  \",\" 12 12\",\" 4 8\",\" 12 16 4 16\",\" 20 12 4 12\",\" 20 12 4 12 4 12 4 12\",\" 20 20\",\" 20 12 4 12 4 12\",\" 80 20\",\" 80 40 4 40\",\"  \",\"  \",\"  \",\"  \",\"  \",\"  \",\"  \",\"  \",\"  \",\"  \",\"  \",\"  \",\"  \",\"  \",\"  \",\"  \",\"  \",\"  \",\"  \"],\"fHeaderPS\":\"\",\"fTitlePS\":\"\",\"fFitFormat\":\"5.4g\",\"fPaintTextFormat\":\"g\",\"fLineScalePS\":3,\"fJoinLinePS\":0,\"fCapLinePS\":0,\"fTimeOffset\":788918400,\"fImageScaling\":1}],\"opt\":[\"\",\"\",\"\",\"\"]},\"fExecs\":null,\"fName\":\"c1\",\"fTitle\":\"\",\"fNumPaletteColor\":0,\"fNextPaletteColor\":0,\"fDISPLAY\":\"$DISPLAY\",\"fDoubleBuffer\":0,\"fRetained\":true,\"fXsizeUser\":0,\"fYsizeUser\":0,\"fXsizeReal\":20,\"fYsizeReal\":14.28571,\"fWindowTopX\":0,\"fWindowTopY\":0,\"fWindowWidth\":0,\"fWindowHeight\":0,\"fCw\":696,\"fCh\":472,\"fCatt\":{\"_typename\":\"TAttCanvas\",\"fXBetween\":2,\"fYBetween\":2,\"fTitleFromTop\":1.2,\"fXdate\":0.2,\"fYdate\":0.3,\"fAdate\":1},\"kMoveOpaque\":true,\"kResizeOpaque\":true,\"fHighLightColor\":2,\"fBatch\":true,\"kShowEventStatus\":false,\"kAutoExec\":true,\"kMenuBar\":true});\n",
       "   Core.settings.HandleKeys = false;\n",
       "   Core.draw(\"root_plot_1664311689581\", obj, \"\");\n",
       "}\n",
       "\n",
       "function script_load_root_plot_1664311689581(src, on_error) {\n",
       "    let script = document.createElement('script');\n",
       "    script.src = src;\n",
       "    script.onload = function() { display_root_plot_1664311689581(JSROOT); };\n",
       "    script.onerror = function() { script.remove(); on_error(); };\n",
       "    document.head.appendChild(script);\n",
       "}\n",
       "\n",
       "if (typeof requirejs !== 'undefined') {\n",
       "\n",
       "    // We are in jupyter notebooks, use require.js which should be configured already\n",
       "    requirejs.config({\n",
       "       paths: { 'JSRootCore' : [ 'scripts/JSRoot.core', 'https://root.cern/js/6.1.1/scripts/JSRoot.core.min', 'https://jsroot.gsi.de/6.1.1/scripts/JSRoot.core.min' ] }\n",
       "    })(['JSRootCore'],  function(Core) {\n",
       "       display_root_plot_1664311689581(Core);\n",
       "    });\n",
       "\n",
       "} else if (typeof JSROOT !== 'undefined') {\n",
       "\n",
       "   // JSROOT already loaded, just use it\n",
       "   display_root_plot_1664311689581(JSROOT);\n",
       "\n",
       "} else {\n",
       "\n",
       "    // We are in jupyterlab without require.js, directly loading jsroot\n",
       "    // Jupyterlab might be installed in a different base_url so we need to know it.\n",
       "    try {\n",
       "        var base_url = JSON.parse(document.getElementById('jupyter-config-data').innerHTML).baseUrl;\n",
       "    } catch(_) {\n",
       "        var base_url = '/';\n",
       "    }\n",
       "\n",
       "    // Try loading a local version of requirejs and fallback to cdn if not possible.\n",
       "    script_load_root_plot_1664311689581(base_url + 'static/scripts/JSRoot.core.js', function(){\n",
       "        console.error('Fail to load JSROOT locally, please check your jupyter_notebook_config.py file');\n",
       "        script_load_root_plot_1664311689581('https://root.cern/js/6.1.1/scripts/JSRoot.core.min.js', function(){\n",
       "            document.getElementById(\"root_plot_1664311689581\").innerHTML = \"Failed to load JSROOT\";\n",
       "        });\n",
       "    });\n",
       "}\n",
       "\n",
       "</script>\n"
      ],
      "text/plain": [
       "<IPython.core.display.HTML object>"
      ]
     },
     "metadata": {},
     "output_type": "display_data"
    }
   ],
   "source": [
    "c1.Draw()"
   ]
  },
  {
   "cell_type": "markdown",
   "id": "a65d64d5-730f-453b-ac86-569bfb049953",
   "metadata": {},
   "source": [
    "### Output of Canvas "
   ]
  },
  {
   "cell_type": "code",
   "execution_count": 22,
   "id": "2cb9130e-10a4-4f2c-bf75-42a633cfc979",
   "metadata": {},
   "outputs": [
    {
     "name": "stderr",
     "output_type": "stream",
     "text": [
      "Info in <TCanvas::Print>: pdf file output/jetall/jetall_eta_uclu.pdf has been created\n"
     ]
    }
   ],
   "source": [
    "c1.Print(output_path+test_name+ayrac+\"uclu.\"+out_format)"
   ]
  },
  {
   "cell_type": "markdown",
   "id": "ff84a41c-8e14-48f3-bab8-914bba59283a",
   "metadata": {},
   "source": [
    "### Reseting Name of Histogram"
   ]
  },
  {
   "cell_type": "code",
   "execution_count": 23,
   "id": "747a5e45-2ffc-4c50-9705-1b4fd360ffcc",
   "metadata": {
    "tags": []
   },
   "outputs": [],
   "source": [
    "h1.SetTitle(\"\")\n",
    "h2.SetTitle(\"\")\n",
    "h3.SetTitle(\"\")"
   ]
  },
  {
   "cell_type": "markdown",
   "id": "7cf588da-c6b0-47bb-9ad8-1d64e554eeca",
   "metadata": {},
   "source": [
    "## CREATING NEW CANVAS"
   ]
  },
  {
   "cell_type": "code",
   "execution_count": 24,
   "id": "9a46a520-088c-466d-af50-74a7743cf7da",
   "metadata": {},
   "outputs": [],
   "source": [
    "c1.Close()\n",
    "c2 = ROOT.TCanvas(\"c2\")"
   ]
  },
  {
   "cell_type": "markdown",
   "id": "6d1535b3-a16d-4436-bda2-b499adb69572",
   "metadata": {},
   "source": [
    "## CREATING RATIO PLOT"
   ]
  },
  {
   "cell_type": "code",
   "execution_count": 25,
   "id": "739ef02d-fe14-4ce6-8098-2d629c7aed20",
   "metadata": {},
   "outputs": [
    {
     "name": "stderr",
     "output_type": "stream",
     "text": [
      "Warning in <TH1F::Sumw2>: Sum of squares of weights structure already created\n"
     ]
    }
   ],
   "source": [
    "h1_h2 = h1.Clone(\"h1_h2\")\n",
    "h1_h2.Sumw2()\n",
    "h1_h2.SetStats(0)\n",
    "h1_h2.Divide(h2)\n",
    "\n",
    "h1_h2.SetMinimum(ratio_settings[\"min\"])\n",
    "h1_h2.SetMaximum(ratio_settings[\"max\"])\n",
    "\n",
    "y1 = h1_h2.GetYaxis()\n",
    "y1.SetTitle(\"Ratio\")\n",
    "y1.SetNdivisions(505)\n",
    "y1.SetTitleSize(15)\n",
    "y1.SetTitleFont(43)\n",
    "y1.SetTitleOffset(1.2)\n",
    "y1.SetLabelFont(43)\n",
    "y1.SetLabelSize(10)\n",
    "y1.CenterTitle(True)\n",
    "\n",
    "# Adjust x-axis settings\n",
    "x1 = h1_h2.GetXaxis()\n",
    "x1.SetTitleSize(10)\n",
    "x1.SetTitleFont(43)\n",
    "x1.SetTitleOffset(5)\n",
    "x1.SetLabelFont(43)\n",
    "x1.SetLabelSize(10)\n",
    "h1_h2.SetLineColor(ROOT.kBlue)"
   ]
  },
  {
   "cell_type": "markdown",
   "id": "10663c67-c087-4db5-8ccf-227829c387c6",
   "metadata": {},
   "source": [
    "### Creating Two Canvas TPads "
   ]
  },
  {
   "cell_type": "code",
   "execution_count": 26,
   "id": "f4c81d8a-5ae4-4229-8ffc-dd60b200f5e8",
   "metadata": {},
   "outputs": [],
   "source": [
    "pad1 = ROOT.TPad(\"pad1\", \"pad1\", 0, 0.3, 1, 1.0)\n",
    "pad1.SetBottomMargin(0.1)  # joins upper and lower plot\n",
    "pad1.SetGridx()\n",
    "pad1.SetGridy()\n",
    "pad1.Draw()"
   ]
  },
  {
   "cell_type": "code",
   "execution_count": 27,
   "id": "147e18ed-d947-4cdb-b89a-8ad3252beb7d",
   "metadata": {},
   "outputs": [],
   "source": [
    "c2.cd()  # returns to main canvas before defining pad2\n",
    "pad2 = ROOT.TPad(\"pad2\", \"pad2\", 0, 0.05, 1, 0.3)\n",
    "pad2.SetTopMargin(0.1)  # joins upper and lower plot\n",
    "pad2.SetBottomMargin(0.2)\n",
    "pad2.SetGridx()\n",
    "pad2.SetGridy()\n",
    "pad2.Draw()"
   ]
  },
  {
   "cell_type": "markdown",
   "id": "61ce2852-337b-44d4-899c-93725d731d6c",
   "metadata": {},
   "source": [
    "### Setting Legend"
   ]
  },
  {
   "cell_type": "code",
   "execution_count": 28,
   "id": "a349c3cb-fd04-451f-91a0-0be1a61d7efb",
   "metadata": {},
   "outputs": [
    {
     "data": {
      "text/plain": [
       "<cppyy.gbl.TLegendEntry object at 0x55d174be7550>"
      ]
     },
     "execution_count": 28,
     "metadata": {},
     "output_type": "execute_result"
    }
   ],
   "source": [
    "h12_legend = ROOT.TLegend(0.75,0.75,0.9,0.9)\n",
    "h12_legend.AddEntry(h1,\"13 TeV\")\n",
    "h12_legend.AddEntry(h2,\"13.6 TeV\")"
   ]
  },
  {
   "cell_type": "markdown",
   "id": "4155c538-0ab6-4f76-9b67-89b3534acfc0",
   "metadata": {},
   "source": [
    "### Ploting Histograms and Displaying Canvas "
   ]
  },
  {
   "cell_type": "code",
   "execution_count": 29,
   "id": "f7a0d6bc-d5d2-4d17-a176-99aa12deceae",
   "metadata": {},
   "outputs": [
    {
     "data": {
      "text/html": [
       "\n",
       "\n",
       "<div id=\"root_plot_1664311690699\"\n",
       "     style=\"width: 696px; height: 472px\">\n",
       "</div>\n",
       "<script>\n",
       "\n",
       "function display_root_plot_1664311690699(Core) {\n",
       "   let obj = Core.parse({\"_typename\":\"TCanvas\",\"fUniqueID\":0,\"fBits\":3342344,\"fLineColor\":1,\"fLineStyle\":1,\"fLineWidth\":1,\"fFillColor\":0,\"fFillStyle\":1001,\"fLeftMargin\":0.1,\"fRightMargin\":0.1,\"fBottomMargin\":0.1,\"fTopMargin\":0.1,\"fXfile\":2,\"fYfile\":2,\"fAfile\":1,\"fXstat\":0.99,\"fYstat\":0.99,\"fAstat\":2,\"fFrameFillColor\":0,\"fFrameLineColor\":1,\"fFrameFillStyle\":1001,\"fFrameLineStyle\":1,\"fFrameLineWidth\":1,\"fFrameBorderSize\":1,\"fFrameBorderMode\":0,\"fX1\":0,\"fY1\":0,\"fX2\":1,\"fY2\":1,\"fXtoAbsPixelk\":5e-5,\"fXtoPixelk\":5e-5,\"fXtoPixel\":696,\"fYtoAbsPixelk\":472.00005,\"fYtoPixelk\":472.00005,\"fYtoPixel\":-472,\"fUtoAbsPixelk\":5e-5,\"fUtoPixelk\":5e-5,\"fUtoPixel\":696,\"fVtoAbsPixelk\":472.00005,\"fVtoPixelk\":472,\"fVtoPixel\":-472,\"fAbsPixeltoXk\":0,\"fPixeltoXk\":0,\"fPixeltoX\":0.0014367816091954,\"fAbsPixeltoYk\":1,\"fPixeltoYk\":0,\"fPixeltoY\":-0.00211864406779661,\"fXlowNDC\":0,\"fYlowNDC\":0,\"fXUpNDC\":1,\"fYUpNDC\":1,\"fWNDC\":1,\"fHNDC\":1,\"fAbsXlowNDC\":0,\"fAbsYlowNDC\":0,\"fAbsWNDC\":1,\"fAbsHNDC\":1,\"fUxmin\":0,\"fUymin\":0,\"fUxmax\":1,\"fUymax\":1,\"fTheta\":30,\"fPhi\":30,\"fAspectRatio\":0,\"fNumber\":0,\"fTickx\":0,\"fTicky\":0,\"fLogx\":0,\"fLogy\":0,\"fLogz\":0,\"fPadPaint\":0,\"fCrosshair\":0,\"fCrosshairPos\":0,\"fBorderSize\":2,\"fBorderMode\":0,\"fModified\":false,\"fGridx\":false,\"fGridy\":false,\"fAbsCoord\":false,\"fEditable\":true,\"fFixedAspectRatio\":false,\"fPrimitives\":{\"_typename\":\"TList\",\"name\":\"TList\",\"arr\":[{\"_typename\":\"TPad\",\"fUniqueID\":0,\"fBits\":9,\"fLineColor\":1,\"fLineStyle\":1,\"fLineWidth\":1,\"fFillColor\":0,\"fFillStyle\":1001,\"fLeftMargin\":0.1,\"fRightMargin\":0.1,\"fBottomMargin\":0.1,\"fTopMargin\":0.1,\"fXfile\":2,\"fYfile\":2,\"fAfile\":1,\"fXstat\":0.99,\"fYstat\":0.99,\"fAstat\":2,\"fFrameFillColor\":0,\"fFrameLineColor\":1,\"fFrameFillStyle\":1001,\"fFrameLineStyle\":1,\"fFrameLineWidth\":1,\"fFrameBorderSize\":1,\"fFrameBorderMode\":0,\"fX1\":-3.75000005587936,\"fY1\":0.00117359744953442,\"fX2\":3.75000005587936,\"fY2\":0.0444729917067058,\"fXtoAbsPixelk\":348.00005,\"fXtoPixelk\":348.00005,\"fXtoPixel\":92.7999986171722,\"fYtoAbsPixelk\":339.355293000009,\"fYtoPixelk\":339.355293000009,\"fYtoPixel\":-7630.59173617141,\"fUtoAbsPixelk\":5e-5,\"fUtoPixelk\":5e-5,\"fUtoPixel\":696,\"fVtoAbsPixelk\":330.40005,\"fVtoPixelk\":330.4,\"fVtoPixel\":-330.4,\"fAbsPixeltoXk\":-3.75000005587936,\"fPixeltoXk\":-3.75000005587936,\"fPixeltoX\":0.0107758622295384,\"fAbsPixeltoYk\":0.0444729917067058,\"fPixeltoYk\":0.00117359744953442,\"fPixeltoY\":-1.31051435403061e-4,\"fXlowNDC\":0,\"fYlowNDC\":0.3,\"fXUpNDC\":1,\"fYUpNDC\":1,\"fWNDC\":1,\"fHNDC\":0.7,\"fAbsXlowNDC\":0,\"fAbsYlowNDC\":0.3,\"fAbsWNDC\":1,\"fAbsHNDC\":0.7,\"fUxmin\":-3,\"fUymin\":0.00550353713333607,\"fUxmax\":3,\"fUymax\":0.0401430520229042,\"fTheta\":30,\"fPhi\":30,\"fAspectRatio\":0,\"fNumber\":0,\"fTickx\":0,\"fTicky\":0,\"fLogx\":0,\"fLogy\":0,\"fLogz\":0,\"fPadPaint\":0,\"fCrosshair\":0,\"fCrosshairPos\":0,\"fBorderSize\":2,\"fBorderMode\":0,\"fModified\":false,\"fGridx\":true,\"fGridy\":true,\"fAbsCoord\":false,\"fEditable\":true,\"fFixedAspectRatio\":false,\"fPrimitives\":{\"_typename\":\"TList\",\"name\":\"TList\",\"arr\":[{\"_typename\":\"TFrame\",\"fUniqueID\":0,\"fBits\":8,\"fLineColor\":1,\"fLineStyle\":1,\"fLineWidth\":1,\"fFillColor\":0,\"fFillStyle\":1001,\"fX1\":-3,\"fY1\":0.00550353713333607,\"fX2\":3,\"fY2\":0.0401430520229042,\"fBorderSize\":1,\"fBorderMode\":0},{\"_typename\":\"TH1F\",\"fUniqueID\":0,\"fBits\":520,\"fName\":\"h1\",\"fTitle\":\"Pseudorapidity (Eta) of Muon for 13 TeV and 13.6 TeV\",\"fLineColor\":416,\"fLineStyle\":1,\"fLineWidth\":2,\"fFillColor\":413,\"fFillStyle\":3004,\"fMarkerColor\":1,\"fMarkerStyle\":1,\"fMarkerSize\":1,\"fNcells\":42,\"fXaxis\":{\"_typename\":\"TAxis\",\"fUniqueID\":0,\"fBits\":0,\"fName\":\"xaxis\",\"fTitle\":\"Pseudorapidity (Eta) of Muon\",\"fNdivisions\":510,\"fAxisColor\":1,\"fLabelColor\":1,\"fLabelFont\":42,\"fLabelOffset\":0.005,\"fLabelSize\":0.035,\"fTickLength\":0.03,\"fTitleOffset\":1,\"fTitleSize\":0.035,\"fTitleColor\":1,\"fTitleFont\":42,\"fNbins\":40,\"fXmin\":-3,\"fXmax\":3,\"fXbins\":[],\"fFirst\":0,\"fLast\":0,\"fBits2\":0,\"fTimeDisplay\":false,\"fTimeFormat\":\"\",\"fLabels\":null,\"fModLabs\":null},\"fYaxis\":{\"_typename\":\"TAxis\",\"fUniqueID\":0,\"fBits\":4096,\"fName\":\"yaxis\",\"fTitle\":\"Probability\",\"fNdivisions\":510,\"fAxisColor\":1,\"fLabelColor\":1,\"fLabelFont\":43,\"fLabelOffset\":0.005,\"fLabelSize\":10,\"fTickLength\":0.03,\"fTitleOffset\":1,\"fTitleSize\":0.035,\"fTitleColor\":1,\"fTitleFont\":42,\"fNbins\":1,\"fXmin\":0,\"fXmax\":1,\"fXbins\":[],\"fFirst\":0,\"fLast\":0,\"fBits2\":0,\"fTimeDisplay\":false,\"fTimeFormat\":\"\",\"fLabels\":null,\"fModLabs\":null},\"fZaxis\":{\"_typename\":\"TAxis\",\"fUniqueID\":0,\"fBits\":0,\"fName\":\"zaxis\",\"fTitle\":\"\",\"fNdivisions\":510,\"fAxisColor\":1,\"fLabelColor\":1,\"fLabelFont\":42,\"fLabelOffset\":0.005,\"fLabelSize\":0.035,\"fTickLength\":0.03,\"fTitleOffset\":1,\"fTitleSize\":0.035,\"fTitleColor\":1,\"fTitleFont\":42,\"fNbins\":1,\"fXmin\":0,\"fXmax\":1,\"fXbins\":[],\"fFirst\":0,\"fLast\":0,\"fBits2\":0,\"fTimeDisplay\":false,\"fTimeFormat\":\"\",\"fLabels\":null,\"fModLabs\":null},\"fBarOffset\":0,\"fBarWidth\":1000,\"fEntries\":9612,\"fTsumw\":0.917915106117353,\"fTsumw2\":9.54967859048433e-5,\"fTsumwx\":0.010140986240194,\"fTsumwx2\":1.72586809584581,\"fMaximum\":-1111,\"fMinimum\":-1111,\"fNormFactor\":0,\"fContour\":[],\"fSumw2\":[4.30780015755725e-6,7.36006057070083e-7,7.68476912529057e-7,8.4424224193333e-7,1.24471612592735e-6,1.16895079652307e-6,1.61271915446239e-6,1.61271915446239e-6,1.90495685359316e-6,2.42449054093674e-6,2.45696139639572e-6,2.42449054093674e-6,2.70590462158119e-6,2.88990613584871e-6,3.26873278287007e-6,3.3228508753017e-6,3.57179410048717e-6,3.85320818113161e-6,3.78826647021366e-6,3.53932324502819e-6,4.00473883994016e-6,3.76661923324101e-6,3.35532173076067e-6,3.44191067865127e-6,3.39861620470597e-6,3.1496729795205e-6,3.21461469043845e-6,3.35532173076067e-6,3.2362619274111e-6,2.59766843671794e-6,2.76002271401281e-6,2.40284330396409e-6,2.0564875124017e-6,2.04566389391538e-6,1.71013172083931e-6,1.61271915446239e-6,1.33130507381794e-6,1.15812717803675e-6,1.20142165198205e-6,7.79300531015382e-7,7.79300531015382e-7,4.23203482815298e-6],\"fOption\":\"\",\"fFunctions\":{\"_typename\":\"TList\",\"name\":\"TList\",\"arr\":[],\"opt\":[]},\"fBufferSize\":0,\"fBuffer\":[],\"fBinStatErrOpt\":0,\"fStatOverflows\":2,\"fArray\":[0.04140658,0.00707449,0.0073866,0.008114857,0.01196421,0.01123596,0.01550146,0.01550146,0.01831044,0.0233042,0.02361631,0.0233042,0.02600916,0.02777778,0.03141906,0.03193924,0.03433209,0.03703704,0.03641282,0.03401998,0.03849355,0.03620474,0.03225135,0.03308364,0.0326675,0.03027466,0.03089888,0.03225135,0.03110695,0.02496879,0.02652934,0.02309613,0.01976696,0.01966292,0.01643779,0.01550146,0.0127965,0.01113192,0.01154806,0.007490637,0.007490637,0.04067832]},{\"_typename\":\"TH1F\",\"fUniqueID\":0,\"fBits\":520,\"fName\":\"h2\",\"fTitle\":\"\",\"fLineColor\":632,\"fLineStyle\":1,\"fLineWidth\":2,\"fFillColor\":622,\"fFillStyle\":3010,\"fMarkerColor\":1,\"fMarkerStyle\":1,\"fMarkerSize\":1,\"fNcells\":42,\"fXaxis\":{\"_typename\":\"TAxis\",\"fUniqueID\":0,\"fBits\":0,\"fName\":\"xaxis\",\"fTitle\":\"Pseudorapidity (Eta) of Muon\",\"fNdivisions\":510,\"fAxisColor\":1,\"fLabelColor\":1,\"fLabelFont\":42,\"fLabelOffset\":0.005,\"fLabelSize\":0.035,\"fTickLength\":0.03,\"fTitleOffset\":1,\"fTitleSize\":0.035,\"fTitleColor\":1,\"fTitleFont\":42,\"fNbins\":40,\"fXmin\":-3,\"fXmax\":3,\"fXbins\":[],\"fFirst\":0,\"fLast\":0,\"fBits2\":0,\"fTimeDisplay\":false,\"fTimeFormat\":\"\",\"fLabels\":null,\"fModLabs\":null},\"fYaxis\":{\"_typename\":\"TAxis\",\"fUniqueID\":0,\"fBits\":4096,\"fName\":\"yaxis\",\"fTitle\":\"Probability\",\"fNdivisions\":510,\"fAxisColor\":1,\"fLabelColor\":1,\"fLabelFont\":43,\"fLabelOffset\":0.005,\"fLabelSize\":10,\"fTickLength\":0.03,\"fTitleOffset\":1,\"fTitleSize\":0.035,\"fTitleColor\":1,\"fTitleFont\":42,\"fNbins\":1,\"fXmin\":0,\"fXmax\":1,\"fXbins\":[],\"fFirst\":0,\"fLast\":0,\"fBits2\":0,\"fTimeDisplay\":false,\"fTimeFormat\":\"\",\"fLabels\":null,\"fModLabs\":null},\"fZaxis\":{\"_typename\":\"TAxis\",\"fUniqueID\":0,\"fBits\":0,\"fName\":\"zaxis\",\"fTitle\":\"\",\"fNdivisions\":510,\"fAxisColor\":1,\"fLabelColor\":1,\"fLabelFont\":42,\"fLabelOffset\":0.005,\"fLabelSize\":0.035,\"fTickLength\":0.03,\"fTitleOffset\":1,\"fTitleSize\":0.035,\"fTitleColor\":1,\"fTitleFont\":42,\"fNbins\":1,\"fXmin\":0,\"fXmax\":1,\"fXbins\":[],\"fFirst\":0,\"fLast\":0,\"fBits2\":0,\"fTimeDisplay\":false,\"fTimeFormat\":\"\",\"fLabels\":null,\"fModLabs\":null},\"fBarOffset\":0,\"fBarWidth\":1000,\"fEntries\":9650,\"fTsumw\":0.914818652849741,\"fTsumw2\":9.47998603989369e-5,\"fTsumwx\":-0.0114726385000582,\"fTsumwx2\":1.67982297283106,\"fMaximum\":-1111,\"fMinimum\":-1111,\"fNormFactor\":0,\"fContour\":[],\"fSumw2\":[4.35984858653924e-6,8.05390748744933e-7,8.48344922011329e-7,8.3760637869473e-7,1.10606996160971e-6,1.10606996160971e-6,1.46044189105748e-6,1.97589197025424e-6,1.91146071035464e-6,2.31952535638541e-6,2.26583263980241e-6,2.55577330935059e-6,2.74906708904937e-6,3.12491610513034e-6,2.83497543558216e-6,3.02826921528095e-6,3.79070579075948e-6,3.6296276410105e-6,3.68332035759349e-6,3.85513705065908e-6,3.86587559397568e-6,3.99473811377487e-6,3.81218287739268e-6,3.70479744422669e-6,3.33968697146232e-6,3.39337968804532e-6,3.45781094794491e-6,3.40411823136192e-6,2.91014523879836e-6,2.58798893930038e-6,2.55577330935059e-6,2.02958468683723e-6,2.11549303337002e-6,1.82555236382185e-6,1.53561169427367e-6,1.38527208784128e-6,1.2564095680421e-6,1.35305645789149e-6,8.26867835378131e-7,8.16129292061532e-7,7.40959488845338e-7,4.46723401970523e-6],\"fOption\":\"\",\"fFunctions\":{\"_typename\":\"TList\",\"name\":\"TList\",\"arr\":[],\"opt\":[]},\"fBufferSize\":0,\"fBuffer\":[],\"fBinStatErrOpt\":0,\"fStatOverflows\":2,\"fArray\":[0.04207254,0.007772021,0.008186528,0.008082901,0.01067358,0.01067358,0.01409326,0.01906736,0.0184456,0.02238342,0.02186528,0.02466321,0.0265285,0.03015544,0.02735751,0.0292228,0.03658031,0.03502591,0.03554404,0.03720207,0.0373057,0.03854922,0.03678757,0.03575129,0.03222798,0.03274611,0.03336788,0.03284974,0.0280829,0.02497409,0.02466321,0.01958549,0.02041451,0.01761658,0.01481865,0.01336788,0.01212435,0.01305699,0.007979275,0.007875647,0.007150259,0.04310881]},{\"_typename\":\"TLegend\",\"fUniqueID\":0,\"fBits\":8,\"fLineColor\":1,\"fLineStyle\":1,\"fLineWidth\":1,\"fFillColor\":0,\"fFillStyle\":1001,\"fX1\":1.87500002793968,\"fY1\":0.033648143142413,\"fX2\":3.00000004470349,\"fY2\":0.0401430522809887,\"fX1NDC\":0.75,\"fY1NDC\":0.75,\"fX2NDC\":0.9,\"fY2NDC\":0.9,\"fBorderSize\":1,\"fInit\":1,\"fShadowColor\":1,\"fCornerRadius\":0,\"fOption\":\"brNDC\",\"fName\":\"TPave\",\"fTextAngle\":0,\"fTextSize\":0,\"fTextAlign\":12,\"fTextColor\":1,\"fTextFont\":42,\"fPrimitives\":{\"_typename\":\"TList\",\"name\":\"TList\",\"arr\":[{\"_typename\":\"TLegendEntry\",\"fUniqueID\":0,\"fBits\":0,\"fTextAngle\":0,\"fTextSize\":0,\"fTextAlign\":0,\"fTextColor\":0,\"fTextFont\":42,\"fLineColor\":416,\"fLineStyle\":1,\"fLineWidth\":2,\"fFillColor\":413,\"fFillStyle\":3004,\"fMarkerColor\":1,\"fMarkerStyle\":1,\"fMarkerSize\":1,\"fObject\":{\"$ref\":5},\"fLabel\":\"13 TeV\",\"fOption\":\"lpf\"},{\"_typename\":\"TLegendEntry\",\"fUniqueID\":0,\"fBits\":0,\"fTextAngle\":0,\"fTextSize\":0,\"fTextAlign\":0,\"fTextColor\":0,\"fTextFont\":42,\"fLineColor\":632,\"fLineStyle\":1,\"fLineWidth\":2,\"fFillColor\":622,\"fFillStyle\":3010,\"fMarkerColor\":1,\"fMarkerStyle\":1,\"fMarkerSize\":1,\"fObject\":{\"$ref\":10},\"fLabel\":\"13.6 TeV\",\"fOption\":\"lpf\"}],\"opt\":[\"lpf\",\"lpf\"]},\"fEntrySeparation\":0.1,\"fMargin\":0.25,\"fNColumns\":1,\"fColumnSeparation\":0},{\"_typename\":\"TPaveText\",\"fUniqueID\":0,\"fBits\":9,\"fLineColor\":1,\"fLineStyle\":1,\"fLineWidth\":1,\"fFillColor\":0,\"fFillStyle\":0,\"fX1\":-2.40258624269788,\"fY1\":0.0415830456596651,\"fX2\":2.40258624269788,\"fY2\":0.0442564949418876,\"fX1NDC\":0.179655172413793,\"fY1NDC\":0.933256663364013,\"fX2NDC\":0.820344827586207,\"fY2NDC\":0.995000004768372,\"fBorderSize\":0,\"fInit\":1,\"fShadowColor\":1,\"fCornerRadius\":0,\"fOption\":\"blNDC\",\"fName\":\"title\",\"fTextAngle\":0,\"fTextSize\":0,\"fTextAlign\":22,\"fTextColor\":1,\"fTextFont\":42,\"fLabel\":\"\",\"fLongest\":52,\"fMargin\":0.05,\"fLines\":{\"_typename\":\"TList\",\"name\":\"TList\",\"arr\":[{\"_typename\":\"TLatex\",\"fUniqueID\":0,\"fBits\":0,\"fName\":\"\",\"fTitle\":\"Pseudorapidity (Eta) of Muon for 13 TeV and 13.6 TeV\",\"fTextAngle\":0,\"fTextSize\":0,\"fTextAlign\":0,\"fTextColor\":0,\"fTextFont\":0,\"fX\":0,\"fY\":0,\"fLineColor\":1,\"fLineStyle\":1,\"fLineWidth\":2,\"fLimitFactorSize\":3,\"fOriginSize\":0.0524818412959576}],\"opt\":[\"\"]}}],\"opt\":[\"\",\"HIST\",\"HIST SAME\",\"\",\"blNDC\"]},\"fExecs\":{\"_typename\":\"TList\",\"name\":\"TList\",\"arr\":[],\"opt\":[]},\"fName\":\"pad1\",\"fTitle\":\"pad1\",\"fNumPaletteColor\":0,\"fNextPaletteColor\":0},{\"_typename\":\"TPad\",\"fUniqueID\":0,\"fBits\":9,\"fLineColor\":1,\"fLineStyle\":1,\"fLineWidth\":1,\"fFillColor\":0,\"fFillStyle\":1001,\"fLeftMargin\":0.1,\"fRightMargin\":0.1,\"fBottomMargin\":0.2,\"fTopMargin\":0.1,\"fXfile\":2,\"fYfile\":2,\"fAfile\":1,\"fXstat\":0.99,\"fYstat\":0.99,\"fAstat\":2,\"fFrameFillColor\":0,\"fFrameLineColor\":1,\"fFrameFillStyle\":1001,\"fFrameLineStyle\":1,\"fFrameLineWidth\":1,\"fFrameBorderSize\":1,\"fFrameBorderMode\":0,\"fX1\":-3.75000005587936,\"fY1\":0.528571423097532,\"fX2\":3.75000005587936,\"fY2\":1.38571428845123,\"fXtoAbsPixelk\":348.00005,\"fXtoPixelk\":348.00005,\"fXtoPixel\":92.7999986171722,\"fYtoAbsPixelk\":521.166715216039,\"fYtoPixelk\":190.766715216039,\"fYtoPixel\":-137.666665347914,\"fUtoAbsPixelk\":5e-5,\"fUtoPixelk\":5e-5,\"fUtoPixel\":696,\"fVtoAbsPixelk\":448.40005,\"fVtoPixelk\":118,\"fVtoPixel\":-118,\"fAbsPixeltoXk\":-3.75000005587936,\"fPixeltoXk\":-3.75000005587936,\"fPixeltoX\":0.0107758622295384,\"fAbsPixeltoYk\":3.7857143114416,\"fPixeltoYk\":0.528571423097532,\"fPixeltoY\":-0.00726392258774323,\"fXlowNDC\":0,\"fYlowNDC\":0.05,\"fXUpNDC\":1,\"fYUpNDC\":0.3,\"fWNDC\":1,\"fHNDC\":0.25,\"fAbsXlowNDC\":0,\"fAbsYlowNDC\":0.05,\"fAbsWNDC\":1,\"fAbsHNDC\":0.25,\"fUxmin\":-3,\"fUymin\":0.7,\"fUxmax\":3,\"fUymax\":1.3,\"fTheta\":30,\"fPhi\":30,\"fAspectRatio\":0,\"fNumber\":0,\"fTickx\":0,\"fTicky\":0,\"fLogx\":0,\"fLogy\":0,\"fLogz\":0,\"fPadPaint\":0,\"fCrosshair\":0,\"fCrosshairPos\":0,\"fBorderSize\":2,\"fBorderMode\":0,\"fModified\":false,\"fGridx\":true,\"fGridy\":true,\"fAbsCoord\":false,\"fEditable\":true,\"fFixedAspectRatio\":false,\"fPrimitives\":{\"_typename\":\"TList\",\"name\":\"TList\",\"arr\":[{\"_typename\":\"TFrame\",\"fUniqueID\":0,\"fBits\":8,\"fLineColor\":1,\"fLineStyle\":1,\"fLineWidth\":1,\"fFillColor\":0,\"fFillStyle\":1001,\"fX1\":-3,\"fY1\":0.7,\"fX2\":3,\"fY2\":1.3,\"fBorderSize\":1,\"fBorderMode\":0},{\"_typename\":\"TH1F\",\"fUniqueID\":0,\"fBits\":520,\"fName\":\"h1_h2\",\"fTitle\":\"\",\"fLineColor\":600,\"fLineStyle\":1,\"fLineWidth\":2,\"fFillColor\":413,\"fFillStyle\":3004,\"fMarkerColor\":1,\"fMarkerStyle\":1,\"fMarkerSize\":1,\"fNcells\":42,\"fXaxis\":{\"_typename\":\"TAxis\",\"fUniqueID\":0,\"fBits\":0,\"fName\":\"xaxis\",\"fTitle\":\"Pseudorapidity (Eta) of Muon\",\"fNdivisions\":510,\"fAxisColor\":1,\"fLabelColor\":1,\"fLabelFont\":43,\"fLabelOffset\":0.005,\"fLabelSize\":10,\"fTickLength\":0.03,\"fTitleOffset\":5,\"fTitleSize\":10,\"fTitleColor\":1,\"fTitleFont\":43,\"fNbins\":40,\"fXmin\":-3,\"fXmax\":3,\"fXbins\":[],\"fFirst\":0,\"fLast\":0,\"fBits2\":0,\"fTimeDisplay\":false,\"fTimeFormat\":\"\",\"fLabels\":null,\"fModLabs\":null},\"fYaxis\":{\"_typename\":\"TAxis\",\"fUniqueID\":0,\"fBits\":4096,\"fName\":\"yaxis\",\"fTitle\":\"Ratio\",\"fNdivisions\":505,\"fAxisColor\":1,\"fLabelColor\":1,\"fLabelFont\":43,\"fLabelOffset\":0.005,\"fLabelSize\":10,\"fTickLength\":0.03,\"fTitleOffset\":1.2,\"fTitleSize\":15,\"fTitleColor\":1,\"fTitleFont\":43,\"fNbins\":1,\"fXmin\":0,\"fXmax\":1,\"fXbins\":[],\"fFirst\":0,\"fLast\":0,\"fBits2\":0,\"fTimeDisplay\":false,\"fTimeFormat\":\"\",\"fLabels\":null,\"fModLabs\":null},\"fZaxis\":{\"_typename\":\"TAxis\",\"fUniqueID\":0,\"fBits\":0,\"fName\":\"zaxis\",\"fTitle\":\"\",\"fNdivisions\":510,\"fAxisColor\":1,\"fLabelColor\":1,\"fLabelFont\":42,\"fLabelOffset\":0.005,\"fLabelSize\":0.035,\"fTickLength\":0.03,\"fTitleOffset\":1,\"fTitleSize\":0.035,\"fTitleColor\":1,\"fTitleFont\":42,\"fNbins\":1,\"fXmin\":0,\"fXmax\":1,\"fXbins\":[],\"fFirst\":0,\"fLast\":0,\"fBits2\":0,\"fTimeDisplay\":false,\"fTimeFormat\":\"\",\"fLabels\":null,\"fModLabs\":null},\"fBarOffset\":0,\"fBarWidth\":1000,\"fEntries\":3253.19150497224,\"fTsumw\":40.7283724546432,\"fTsumw2\":0.509899377355683,\"fTsumwx\":2.07055534422398,\"fTsumwx2\":124.051717271134,\"fMaximum\":1.3,\"fMinimum\":0.7,\"fNormFactor\":0,\"fContour\":[],\"fSumw2\":[0.00481934642185345,0.023232090608653,0.0217718555920047,0.0258441692756242,0.0231243619953255,0.0210194644660282,0.0170153749372778,0.00802793937002812,0.0111348145470899,0.0098574945569937,0.010667919801943,0.00773724354909674,0.00759972187699135,0.00609387557830292,0.00936351074896112,0.00812705977883114,0.00516461191307256,0.00644891284730994,0.00605823349757512,0.00488670009609078,0.00583504569593533,0.00490580237105012,0.00464435458561399,0.00517500150124913,0.00657590679361537,0.00564218799269405,0.00555017369342237,0.00615004937255475,0.00863108233377212,0.00831251285742459,0.00939903710580156,0.0136218622668597,0.00969377751314047,0.0139199138414389,0.0163924017661283,0.0194486314852743,0.0185774410170173,0.012561895936459,0.0460718575679479,0.0244669923630978,0.0311480942579865,0.00441771156858716],\"fOption\":\"\",\"fFunctions\":{\"_typename\":\"TList\",\"name\":\"TList\",\"arr\":[],\"opt\":[]},\"fBufferSize\":0,\"fBuffer\":[],\"fBinStatErrOpt\":0,\"fStatOverflows\":2,\"fArray\":[0.9841711,0.9102511,0.9022872,1.003953,1.120919,1.052689,1.09992,0.8129839,0.992673,1.041137,1.080083,0.9448974,0.9804232,0.9211531,1.148462,1.092956,0.93854,1.057418,1.024442,0.9144646,1.031841,0.9391822,0.8766917,0.9253831,1.013638,0.9245268,0.9260067,0.9817842,1.107683,0.9997877,1.075664,1.179247,0.96828,1.11616,1.109263,1.159605,1.055438,0.8525636,1.447257,0.9511138,1.047604,0.9436196]},{\"_typename\":\"TLine\",\"fUniqueID\":0,\"fBits\":8,\"fLineColor\":1,\"fLineStyle\":1,\"fLineWidth\":1,\"fX1\":-3,\"fY1\":1,\"fX2\":3,\"fY2\":1}],\"opt\":[\"\",\"P*\",\"\"]},\"fExecs\":{\"_typename\":\"TList\",\"name\":\"TList\",\"arr\":[],\"opt\":[]},\"fName\":\"pad2\",\"fTitle\":\"pad2\",\"fNumPaletteColor\":0,\"fNextPaletteColor\":0},{\"_typename\":\"TStyle\",\"fUniqueID\":0,\"fBits\":0,\"fName\":\"Modern\",\"fTitle\":\"Modern Style\",\"fLineColor\":1,\"fLineStyle\":1,\"fLineWidth\":1,\"fFillColor\":19,\"fFillStyle\":1001,\"fMarkerColor\":1,\"fMarkerStyle\":1,\"fMarkerSize\":1,\"fTextAngle\":0,\"fTextSize\":0.05,\"fTextAlign\":11,\"fTextColor\":1,\"fTextFont\":62,\"fXaxis\":{\"_typename\":\"TAttAxis\",\"fNdivisions\":510,\"fAxisColor\":1,\"fLabelColor\":1,\"fLabelFont\":42,\"fLabelOffset\":0.005,\"fLabelSize\":0.035,\"fTickLength\":0.03,\"fTitleOffset\":1,\"fTitleSize\":0.035,\"fTitleColor\":1,\"fTitleFont\":42},\"fYaxis\":{\"_typename\":\"TAttAxis\",\"fNdivisions\":510,\"fAxisColor\":1,\"fLabelColor\":1,\"fLabelFont\":42,\"fLabelOffset\":0.005,\"fLabelSize\":0.035,\"fTickLength\":0.03,\"fTitleOffset\":0,\"fTitleSize\":0.035,\"fTitleColor\":1,\"fTitleFont\":42},\"fZaxis\":{\"_typename\":\"TAttAxis\",\"fNdivisions\":510,\"fAxisColor\":1,\"fLabelColor\":1,\"fLabelFont\":42,\"fLabelOffset\":0.005,\"fLabelSize\":0.035,\"fTickLength\":0.03,\"fTitleOffset\":1,\"fTitleSize\":0.035,\"fTitleColor\":1,\"fTitleFont\":42},\"fBarWidth\":1,\"fBarOffset\":0,\"fColorModelPS\":0,\"fDrawBorder\":0,\"fOptLogx\":0,\"fOptLogy\":0,\"fOptLogz\":0,\"fOptDate\":0,\"fOptStat\":1111,\"fOptTitle\":1,\"fOptFile\":0,\"fOptFit\":0,\"fShowEventStatus\":0,\"fShowEditor\":0,\"fShowToolBar\":0,\"fNumberContours\":20,\"fAttDate\":{\"_typename\":\"TAttText\",\"fTextAngle\":0,\"fTextSize\":0.025,\"fTextAlign\":11,\"fTextColor\":1,\"fTextFont\":62},\"fDateX\":0.01,\"fDateY\":0.01,\"fEndErrorSize\":2,\"fErrorX\":0.5,\"fFuncColor\":2,\"fFuncStyle\":1,\"fFuncWidth\":2,\"fGridColor\":0,\"fGridStyle\":3,\"fGridWidth\":1,\"fLegendBorderSize\":1,\"fLegendFillColor\":0,\"fLegendFont\":42,\"fLegendTextSize\":0,\"fHatchesLineWidth\":1,\"fHatchesSpacing\":1,\"fFrameFillColor\":0,\"fFrameLineColor\":1,\"fFrameFillStyle\":1001,\"fFrameLineStyle\":1,\"fFrameLineWidth\":1,\"fFrameBorderSize\":1,\"fFrameBorderMode\":0,\"fHistFillColor\":0,\"fHistLineColor\":602,\"fHistFillStyle\":1001,\"fHistLineStyle\":1,\"fHistLineWidth\":1,\"fHistMinimumZero\":false,\"fHistTopMargin\":0.05,\"fCanvasPreferGL\":false,\"fCanvasColor\":0,\"fCanvasBorderSize\":2,\"fCanvasBorderMode\":0,\"fCanvasDefH\":500,\"fCanvasDefW\":700,\"fCanvasDefX\":10,\"fCanvasDefY\":10,\"fPadColor\":0,\"fPadBorderSize\":2,\"fPadBorderMode\":0,\"fPadBottomMargin\":0.1,\"fPadTopMargin\":0.1,\"fPadLeftMargin\":0.1,\"fPadRightMargin\":0.1,\"fPadGridX\":false,\"fPadGridY\":false,\"fPadTickX\":0,\"fPadTickY\":0,\"fPaperSizeX\":20,\"fPaperSizeY\":26,\"fScreenFactor\":1,\"fStatColor\":0,\"fStatTextColor\":1,\"fStatBorderSize\":1,\"fStatFont\":42,\"fStatFontSize\":0,\"fStatStyle\":1001,\"fStatFormat\":\"6.4g\",\"fStatX\":0.98,\"fStatY\":0.935,\"fStatW\":0.2,\"fStatH\":0.16,\"fStripDecimals\":true,\"fTitleAlign\":23,\"fTitleColor\":0,\"fTitleTextColor\":1,\"fTitleBorderSize\":0,\"fTitleFont\":42,\"fTitleFontSize\":0.05,\"fTitleStyle\":0,\"fTitleX\":0.5,\"fTitleY\":0.995,\"fTitleW\":0,\"fTitleH\":0,\"fLegoInnerR\":0.5,\"fLineStyle\":[\"\",\"  \",\" 12 12\",\" 4 8\",\" 12 16 4 16\",\" 20 12 4 12\",\" 20 12 4 12 4 12 4 12\",\" 20 20\",\" 20 12 4 12 4 12\",\" 80 20\",\" 80 40 4 40\",\"  \",\"  \",\"  \",\"  \",\"  \",\"  \",\"  \",\"  \",\"  \",\"  \",\"  \",\"  \",\"  \",\"  \",\"  \",\"  \",\"  \",\"  \",\"  \"],\"fHeaderPS\":\"\",\"fTitlePS\":\"\",\"fFitFormat\":\"5.4g\",\"fPaintTextFormat\":\"g\",\"fLineScalePS\":3,\"fJoinLinePS\":0,\"fCapLinePS\":0,\"fTimeOffset\":788918400,\"fImageScaling\":1}],\"opt\":[\"\",\"\",\"\"]},\"fExecs\":null,\"fName\":\"c2\",\"fTitle\":\"\",\"fNumPaletteColor\":0,\"fNextPaletteColor\":0,\"fDISPLAY\":\"$DISPLAY\",\"fDoubleBuffer\":0,\"fRetained\":true,\"fXsizeUser\":0,\"fYsizeUser\":0,\"fXsizeReal\":20,\"fYsizeReal\":14.28571,\"fWindowTopX\":0,\"fWindowTopY\":0,\"fWindowWidth\":0,\"fWindowHeight\":0,\"fCw\":696,\"fCh\":472,\"fCatt\":{\"_typename\":\"TAttCanvas\",\"fXBetween\":2,\"fYBetween\":2,\"fTitleFromTop\":1.2,\"fXdate\":0.2,\"fYdate\":0.3,\"fAdate\":1},\"kMoveOpaque\":true,\"kResizeOpaque\":true,\"fHighLightColor\":2,\"fBatch\":true,\"kShowEventStatus\":false,\"kAutoExec\":true,\"kMenuBar\":true});\n",
       "   Core.settings.HandleKeys = false;\n",
       "   Core.draw(\"root_plot_1664311690699\", obj, \"\");\n",
       "}\n",
       "\n",
       "function script_load_root_plot_1664311690699(src, on_error) {\n",
       "    let script = document.createElement('script');\n",
       "    script.src = src;\n",
       "    script.onload = function() { display_root_plot_1664311690699(JSROOT); };\n",
       "    script.onerror = function() { script.remove(); on_error(); };\n",
       "    document.head.appendChild(script);\n",
       "}\n",
       "\n",
       "if (typeof requirejs !== 'undefined') {\n",
       "\n",
       "    // We are in jupyter notebooks, use require.js which should be configured already\n",
       "    requirejs.config({\n",
       "       paths: { 'JSRootCore' : [ 'scripts/JSRoot.core', 'https://root.cern/js/6.1.1/scripts/JSRoot.core.min', 'https://jsroot.gsi.de/6.1.1/scripts/JSRoot.core.min' ] }\n",
       "    })(['JSRootCore'],  function(Core) {\n",
       "       display_root_plot_1664311690699(Core);\n",
       "    });\n",
       "\n",
       "} else if (typeof JSROOT !== 'undefined') {\n",
       "\n",
       "   // JSROOT already loaded, just use it\n",
       "   display_root_plot_1664311690699(JSROOT);\n",
       "\n",
       "} else {\n",
       "\n",
       "    // We are in jupyterlab without require.js, directly loading jsroot\n",
       "    // Jupyterlab might be installed in a different base_url so we need to know it.\n",
       "    try {\n",
       "        var base_url = JSON.parse(document.getElementById('jupyter-config-data').innerHTML).baseUrl;\n",
       "    } catch(_) {\n",
       "        var base_url = '/';\n",
       "    }\n",
       "\n",
       "    // Try loading a local version of requirejs and fallback to cdn if not possible.\n",
       "    script_load_root_plot_1664311690699(base_url + 'static/scripts/JSRoot.core.js', function(){\n",
       "        console.error('Fail to load JSROOT locally, please check your jupyter_notebook_config.py file');\n",
       "        script_load_root_plot_1664311690699('https://root.cern/js/6.1.1/scripts/JSRoot.core.min.js', function(){\n",
       "            document.getElementById(\"root_plot_1664311690699\").innerHTML = \"Failed to load JSROOT\";\n",
       "        });\n",
       "    });\n",
       "}\n",
       "\n",
       "</script>\n"
      ],
      "text/plain": [
       "<IPython.core.display.HTML object>"
      ]
     },
     "metadata": {},
     "output_type": "display_data"
    }
   ],
   "source": [
    "pad1.cd()\n",
    "h1.Draw(\"HIST\")\n",
    "h2.Draw(\"HIST SAME\")\n",
    "h12_legend.Draw()\n",
    "pad2.cd()\n",
    "h1_h2.Draw(\"P*\")\n",
    "h1.SetTitle(out_title+\" for 13 TeV and 13.6 TeV\")\n",
    "ratio_y_line1 = ROOT.TLine(histogram_settings[\"min\"],1,histogram_settings[\"max\"],1)\n",
    "ratio_y_line1.Draw()\n",
    "\n",
    "c2.Draw()"
   ]
  },
  {
   "cell_type": "markdown",
   "id": "092ba937-a001-4c70-8500-11053eeaf0f7",
   "metadata": {},
   "source": [
    "### Output of Canvas "
   ]
  },
  {
   "cell_type": "code",
   "execution_count": 30,
   "id": "714af89a-1efc-45a8-b08c-01f63956ab8d",
   "metadata": {},
   "outputs": [
    {
     "name": "stderr",
     "output_type": "stream",
     "text": [
      "Info in <TCanvas::Print>: pdf file output/jetall/jetall_eta_tev13-tev13_6.pdf has been created\n"
     ]
    }
   ],
   "source": [
    "c2.Print(output_path+test_name+ayrac+\"tev13-tev13_6.\"+out_format)"
   ]
  },
  {
   "cell_type": "markdown",
   "id": "18d95fa0-d906-41e4-9ced-229803dae7ac",
   "metadata": {},
   "source": [
    "### Reseting Name of Histogram"
   ]
  },
  {
   "cell_type": "code",
   "execution_count": 31,
   "id": "4a00766f-3d84-4aef-a87f-943780d72438",
   "metadata": {},
   "outputs": [],
   "source": [
    "h1.SetTitle(\"\")\n",
    "h2.SetTitle(\"\")\n",
    "h3.SetTitle(\"\")"
   ]
  },
  {
   "cell_type": "markdown",
   "id": "f61a983c-beaa-4ca7-bcf1-87f2177e5f95",
   "metadata": {},
   "source": [
    "## CREATING NEW CANVAS"
   ]
  },
  {
   "cell_type": "code",
   "execution_count": 32,
   "id": "ed76bec7-df02-4a06-baf4-3031fa04ac5b",
   "metadata": {},
   "outputs": [],
   "source": [
    "c2.Close()\n",
    "c3 = ROOT.TCanvas(\"c3\")"
   ]
  },
  {
   "cell_type": "markdown",
   "id": "df1fa97c-949f-40f2-b525-92b308dada86",
   "metadata": {},
   "source": [
    "## CREATING RATIO PLOT"
   ]
  },
  {
   "cell_type": "code",
   "execution_count": 33,
   "id": "f6def7c4-0d8e-457d-a400-ed7890958d2c",
   "metadata": {},
   "outputs": [
    {
     "name": "stderr",
     "output_type": "stream",
     "text": [
      "Warning in <TH1F::Sumw2>: Sum of squares of weights structure already created\n"
     ]
    }
   ],
   "source": [
    "h1_h3 = h1.Clone(\"h1_h3\")\n",
    "h1_h3.Sumw2()\n",
    "h1_h3.SetStats(0)\n",
    "h1_h3.Divide(h3)\n",
    "\n",
    "h1_h3.SetMinimum(ratio_settings[\"min\"])\n",
    "h1_h3.SetMaximum(ratio_settings[\"max\"])\n",
    "\n",
    "y2 = h1_h3.GetYaxis()\n",
    "y2.SetTitle(\"Ratio\")\n",
    "y2.SetNdivisions(505)\n",
    "y2.SetTitleSize(15)\n",
    "y2.SetTitleFont(43)\n",
    "y2.SetTitleOffset(1.2)\n",
    "y2.SetLabelFont(43)\n",
    "y2.SetLabelSize(10)\n",
    "y2.CenterTitle(True)\n",
    "\n",
    "# Adjust x-axis settings\n",
    "x2 = h1_h3.GetXaxis()\n",
    "x2.SetTitleSize(10)\n",
    "x2.SetTitleFont(43)\n",
    "x2.SetTitleOffset(5)\n",
    "x2.SetLabelFont(43)\n",
    "x2.SetLabelSize(15)\n",
    "h1_h3.SetLineColor(ROOT.kBlue)"
   ]
  },
  {
   "cell_type": "markdown",
   "id": "1d63ab7e-6153-455b-94a8-a87fe11f21e7",
   "metadata": {},
   "source": [
    "### Creating Two Canvas TPads "
   ]
  },
  {
   "cell_type": "code",
   "execution_count": 34,
   "id": "01ec8a7d-5942-464c-b079-186f12ef3ce6",
   "metadata": {},
   "outputs": [],
   "source": [
    "pad3 = ROOT.TPad(\"pad3\", \"pad3\", 0, 0.3, 1, 1.0)\n",
    "pad3.SetBottomMargin(0.1)  # joins upper and lower plot\n",
    "pad3.SetGridx()\n",
    "pad3.SetGridy()\n",
    "\n",
    "pad3.Draw()"
   ]
  },
  {
   "cell_type": "code",
   "execution_count": 35,
   "id": "44b50e23-7fee-419f-b64d-d981292d1681",
   "metadata": {},
   "outputs": [],
   "source": [
    "c3.cd()  # returns to main canvas before defining pad2\n",
    "pad4 = ROOT.TPad(\"pad4\", \"pad4\", 0, 0.05, 1, 0.3)\n",
    "pad4.SetTopMargin(0.1)  # joins upper and lower plot\n",
    "pad4.SetBottomMargin(0.2)\n",
    "pad4.SetGridx()\n",
    "pad4.SetGridy()\n",
    "\n",
    "pad4.Draw()"
   ]
  },
  {
   "cell_type": "markdown",
   "id": "b90a36d8-42bb-44b2-80b1-ec821c2784f4",
   "metadata": {},
   "source": [
    "### Setting Legend"
   ]
  },
  {
   "cell_type": "code",
   "execution_count": 36,
   "id": "790bfa9a-8b87-4191-a031-77d6c7e0bccd",
   "metadata": {},
   "outputs": [
    {
     "data": {
      "text/plain": [
       "<cppyy.gbl.TLegendEntry object at 0x55d174c590a0>"
      ]
     },
     "execution_count": 36,
     "metadata": {},
     "output_type": "execute_result"
    }
   ],
   "source": [
    "h13_legend = ROOT.TLegend(0.75,0.75,0.9,0.9)\n",
    "h13_legend.AddEntry(h1,\"13 TeV\")\n",
    "h13_legend.AddEntry(h3,\"14 TeV\")"
   ]
  },
  {
   "cell_type": "markdown",
   "id": "15d68ac2-39d7-44a5-8004-43f4e168464b",
   "metadata": {},
   "source": [
    "### Ploting Histograms and Displaying Canvas "
   ]
  },
  {
   "cell_type": "code",
   "execution_count": 37,
   "id": "0022550a-0c78-4197-9e11-b6fdd4b9e979",
   "metadata": {},
   "outputs": [
    {
     "data": {
      "text/html": [
       "\n",
       "\n",
       "<div id=\"root_plot_1664311691620\"\n",
       "     style=\"width: 696px; height: 472px\">\n",
       "</div>\n",
       "<script>\n",
       "\n",
       "function display_root_plot_1664311691620(Core) {\n",
       "   let obj = Core.parse({\"_typename\":\"TCanvas\",\"fUniqueID\":0,\"fBits\":3342344,\"fLineColor\":1,\"fLineStyle\":1,\"fLineWidth\":1,\"fFillColor\":0,\"fFillStyle\":1001,\"fLeftMargin\":0.1,\"fRightMargin\":0.1,\"fBottomMargin\":0.1,\"fTopMargin\":0.1,\"fXfile\":2,\"fYfile\":2,\"fAfile\":1,\"fXstat\":0.99,\"fYstat\":0.99,\"fAstat\":2,\"fFrameFillColor\":0,\"fFrameLineColor\":1,\"fFrameFillStyle\":1001,\"fFrameLineStyle\":1,\"fFrameLineWidth\":1,\"fFrameBorderSize\":1,\"fFrameBorderMode\":0,\"fX1\":0,\"fY1\":0,\"fX2\":1,\"fY2\":1,\"fXtoAbsPixelk\":5e-5,\"fXtoPixelk\":5e-5,\"fXtoPixel\":696,\"fYtoAbsPixelk\":472.00005,\"fYtoPixelk\":472.00005,\"fYtoPixel\":-472,\"fUtoAbsPixelk\":5e-5,\"fUtoPixelk\":5e-5,\"fUtoPixel\":696,\"fVtoAbsPixelk\":472.00005,\"fVtoPixelk\":472,\"fVtoPixel\":-472,\"fAbsPixeltoXk\":0,\"fPixeltoXk\":0,\"fPixeltoX\":0.0014367816091954,\"fAbsPixeltoYk\":1,\"fPixeltoYk\":0,\"fPixeltoY\":-0.00211864406779661,\"fXlowNDC\":0,\"fYlowNDC\":0,\"fXUpNDC\":1,\"fYUpNDC\":1,\"fWNDC\":1,\"fHNDC\":1,\"fAbsXlowNDC\":0,\"fAbsYlowNDC\":0,\"fAbsWNDC\":1,\"fAbsHNDC\":1,\"fUxmin\":0,\"fUymin\":0,\"fUxmax\":1,\"fUymax\":1,\"fTheta\":30,\"fPhi\":30,\"fAspectRatio\":0,\"fNumber\":0,\"fTickx\":0,\"fTicky\":0,\"fLogx\":0,\"fLogy\":0,\"fLogz\":0,\"fPadPaint\":0,\"fCrosshair\":0,\"fCrosshairPos\":0,\"fBorderSize\":2,\"fBorderMode\":0,\"fModified\":false,\"fGridx\":false,\"fGridy\":false,\"fAbsCoord\":false,\"fEditable\":true,\"fFixedAspectRatio\":false,\"fPrimitives\":{\"_typename\":\"TList\",\"name\":\"TList\",\"arr\":[{\"_typename\":\"TPad\",\"fUniqueID\":0,\"fBits\":9,\"fLineColor\":1,\"fLineStyle\":1,\"fLineWidth\":1,\"fFillColor\":0,\"fFillStyle\":1001,\"fLeftMargin\":0.1,\"fRightMargin\":0.1,\"fBottomMargin\":0.1,\"fTopMargin\":0.1,\"fXfile\":2,\"fYfile\":2,\"fAfile\":1,\"fXstat\":0.99,\"fYstat\":0.99,\"fAstat\":2,\"fFrameFillColor\":0,\"fFrameLineColor\":1,\"fFrameFillStyle\":1001,\"fFrameLineStyle\":1,\"fFrameLineWidth\":1,\"fFrameBorderSize\":1,\"fFrameBorderMode\":0,\"fX1\":-3.75000005587936,\"fY1\":0.00117359744953442,\"fX2\":3.75000005587936,\"fY2\":0.0444729917067058,\"fXtoAbsPixelk\":348.00005,\"fXtoPixelk\":348.00005,\"fXtoPixel\":92.7999986171722,\"fYtoAbsPixelk\":339.355293000009,\"fYtoPixelk\":339.355293000009,\"fYtoPixel\":-7630.59173617141,\"fUtoAbsPixelk\":5e-5,\"fUtoPixelk\":5e-5,\"fUtoPixel\":696,\"fVtoAbsPixelk\":330.40005,\"fVtoPixelk\":330.4,\"fVtoPixel\":-330.4,\"fAbsPixeltoXk\":-3.75000005587936,\"fPixeltoXk\":-3.75000005587936,\"fPixeltoX\":0.0107758622295384,\"fAbsPixeltoYk\":0.0444729917067058,\"fPixeltoYk\":0.00117359744953442,\"fPixeltoY\":-1.31051435403061e-4,\"fXlowNDC\":0,\"fYlowNDC\":0.3,\"fXUpNDC\":1,\"fYUpNDC\":1,\"fWNDC\":1,\"fHNDC\":0.7,\"fAbsXlowNDC\":0,\"fAbsYlowNDC\":0.3,\"fAbsWNDC\":1,\"fAbsHNDC\":0.7,\"fUxmin\":-3,\"fUymin\":0.00550353713333607,\"fUxmax\":3,\"fUymax\":0.0401430520229042,\"fTheta\":30,\"fPhi\":30,\"fAspectRatio\":0,\"fNumber\":0,\"fTickx\":0,\"fTicky\":0,\"fLogx\":0,\"fLogy\":0,\"fLogz\":0,\"fPadPaint\":0,\"fCrosshair\":0,\"fCrosshairPos\":0,\"fBorderSize\":2,\"fBorderMode\":0,\"fModified\":false,\"fGridx\":true,\"fGridy\":true,\"fAbsCoord\":false,\"fEditable\":true,\"fFixedAspectRatio\":false,\"fPrimitives\":{\"_typename\":\"TList\",\"name\":\"TList\",\"arr\":[{\"_typename\":\"TFrame\",\"fUniqueID\":0,\"fBits\":8,\"fLineColor\":1,\"fLineStyle\":1,\"fLineWidth\":1,\"fFillColor\":0,\"fFillStyle\":1001,\"fX1\":-3,\"fY1\":0.00550353713333607,\"fX2\":3,\"fY2\":0.0401430520229042,\"fBorderSize\":1,\"fBorderMode\":0},{\"_typename\":\"TH1F\",\"fUniqueID\":0,\"fBits\":520,\"fName\":\"h1\",\"fTitle\":\"Pseudorapidity (Eta) of Muon for 13 TeV and 14 TeV\",\"fLineColor\":416,\"fLineStyle\":1,\"fLineWidth\":2,\"fFillColor\":413,\"fFillStyle\":3004,\"fMarkerColor\":1,\"fMarkerStyle\":1,\"fMarkerSize\":1,\"fNcells\":42,\"fXaxis\":{\"_typename\":\"TAxis\",\"fUniqueID\":0,\"fBits\":0,\"fName\":\"xaxis\",\"fTitle\":\"Pseudorapidity (Eta) of Muon\",\"fNdivisions\":510,\"fAxisColor\":1,\"fLabelColor\":1,\"fLabelFont\":42,\"fLabelOffset\":0.005,\"fLabelSize\":0.035,\"fTickLength\":0.03,\"fTitleOffset\":1,\"fTitleSize\":0.035,\"fTitleColor\":1,\"fTitleFont\":42,\"fNbins\":40,\"fXmin\":-3,\"fXmax\":3,\"fXbins\":[],\"fFirst\":0,\"fLast\":0,\"fBits2\":0,\"fTimeDisplay\":false,\"fTimeFormat\":\"\",\"fLabels\":null,\"fModLabs\":null},\"fYaxis\":{\"_typename\":\"TAxis\",\"fUniqueID\":0,\"fBits\":4096,\"fName\":\"yaxis\",\"fTitle\":\"Probability\",\"fNdivisions\":510,\"fAxisColor\":1,\"fLabelColor\":1,\"fLabelFont\":43,\"fLabelOffset\":0.005,\"fLabelSize\":10,\"fTickLength\":0.03,\"fTitleOffset\":1,\"fTitleSize\":0.035,\"fTitleColor\":1,\"fTitleFont\":42,\"fNbins\":1,\"fXmin\":0,\"fXmax\":1,\"fXbins\":[],\"fFirst\":0,\"fLast\":0,\"fBits2\":0,\"fTimeDisplay\":false,\"fTimeFormat\":\"\",\"fLabels\":null,\"fModLabs\":null},\"fZaxis\":{\"_typename\":\"TAxis\",\"fUniqueID\":0,\"fBits\":0,\"fName\":\"zaxis\",\"fTitle\":\"\",\"fNdivisions\":510,\"fAxisColor\":1,\"fLabelColor\":1,\"fLabelFont\":42,\"fLabelOffset\":0.005,\"fLabelSize\":0.035,\"fTickLength\":0.03,\"fTitleOffset\":1,\"fTitleSize\":0.035,\"fTitleColor\":1,\"fTitleFont\":42,\"fNbins\":1,\"fXmin\":0,\"fXmax\":1,\"fXbins\":[],\"fFirst\":0,\"fLast\":0,\"fBits2\":0,\"fTimeDisplay\":false,\"fTimeFormat\":\"\",\"fLabels\":null,\"fModLabs\":null},\"fBarOffset\":0,\"fBarWidth\":1000,\"fEntries\":9612,\"fTsumw\":0.917915106117353,\"fTsumw2\":9.54967859048433e-5,\"fTsumwx\":0.010140986240194,\"fTsumwx2\":1.72586809584581,\"fMaximum\":-1111,\"fMinimum\":-1111,\"fNormFactor\":0,\"fContour\":[],\"fSumw2\":[4.30780015755725e-6,7.36006057070083e-7,7.68476912529057e-7,8.4424224193333e-7,1.24471612592735e-6,1.16895079652307e-6,1.61271915446239e-6,1.61271915446239e-6,1.90495685359316e-6,2.42449054093674e-6,2.45696139639572e-6,2.42449054093674e-6,2.70590462158119e-6,2.88990613584871e-6,3.26873278287007e-6,3.3228508753017e-6,3.57179410048717e-6,3.85320818113161e-6,3.78826647021366e-6,3.53932324502819e-6,4.00473883994016e-6,3.76661923324101e-6,3.35532173076067e-6,3.44191067865127e-6,3.39861620470597e-6,3.1496729795205e-6,3.21461469043845e-6,3.35532173076067e-6,3.2362619274111e-6,2.59766843671794e-6,2.76002271401281e-6,2.40284330396409e-6,2.0564875124017e-6,2.04566389391538e-6,1.71013172083931e-6,1.61271915446239e-6,1.33130507381794e-6,1.15812717803675e-6,1.20142165198205e-6,7.79300531015382e-7,7.79300531015382e-7,4.23203482815298e-6],\"fOption\":\"\",\"fFunctions\":{\"_typename\":\"TList\",\"name\":\"TList\",\"arr\":[],\"opt\":[]},\"fBufferSize\":0,\"fBuffer\":[],\"fBinStatErrOpt\":0,\"fStatOverflows\":2,\"fArray\":[0.04140658,0.00707449,0.0073866,0.008114857,0.01196421,0.01123596,0.01550146,0.01550146,0.01831044,0.0233042,0.02361631,0.0233042,0.02600916,0.02777778,0.03141906,0.03193924,0.03433209,0.03703704,0.03641282,0.03401998,0.03849355,0.03620474,0.03225135,0.03308364,0.0326675,0.03027466,0.03089888,0.03225135,0.03110695,0.02496879,0.02652934,0.02309613,0.01976696,0.01966292,0.01643779,0.01550146,0.0127965,0.01113192,0.01154806,0.007490637,0.007490637,0.04067832]},{\"_typename\":\"TH1F\",\"fUniqueID\":0,\"fBits\":520,\"fName\":\"h3\",\"fTitle\":\"\",\"fLineColor\":860,\"fLineStyle\":1,\"fLineWidth\":2,\"fFillColor\":864,\"fFillStyle\":3006,\"fMarkerColor\":1,\"fMarkerStyle\":1,\"fMarkerSize\":1,\"fNcells\":42,\"fXaxis\":{\"_typename\":\"TAxis\",\"fUniqueID\":0,\"fBits\":0,\"fName\":\"xaxis\",\"fTitle\":\"Pseudorapidity (Eta) of Muon\",\"fNdivisions\":510,\"fAxisColor\":1,\"fLabelColor\":1,\"fLabelFont\":42,\"fLabelOffset\":0.005,\"fLabelSize\":0.035,\"fTickLength\":0.03,\"fTitleOffset\":1,\"fTitleSize\":0.035,\"fTitleColor\":1,\"fTitleFont\":42,\"fNbins\":40,\"fXmin\":-3,\"fXmax\":3,\"fXbins\":[],\"fFirst\":0,\"fLast\":0,\"fBits2\":0,\"fTimeDisplay\":false,\"fTimeFormat\":\"\",\"fLabels\":null,\"fModLabs\":null},\"fYaxis\":{\"_typename\":\"TAxis\",\"fUniqueID\":0,\"fBits\":4096,\"fName\":\"yaxis\",\"fTitle\":\"Probability\",\"fNdivisions\":510,\"fAxisColor\":1,\"fLabelColor\":1,\"fLabelFont\":43,\"fLabelOffset\":0.005,\"fLabelSize\":10,\"fTickLength\":0.03,\"fTitleOffset\":1,\"fTitleSize\":0.035,\"fTitleColor\":1,\"fTitleFont\":42,\"fNbins\":1,\"fXmin\":0,\"fXmax\":1,\"fXbins\":[],\"fFirst\":0,\"fLast\":0,\"fBits2\":0,\"fTimeDisplay\":false,\"fTimeFormat\":\"\",\"fLabels\":null,\"fModLabs\":null},\"fZaxis\":{\"_typename\":\"TAxis\",\"fUniqueID\":0,\"fBits\":0,\"fName\":\"zaxis\",\"fTitle\":\"\",\"fNdivisions\":510,\"fAxisColor\":1,\"fLabelColor\":1,\"fLabelFont\":42,\"fLabelOffset\":0.005,\"fLabelSize\":0.035,\"fTickLength\":0.03,\"fTitleOffset\":1,\"fTitleSize\":0.035,\"fTitleColor\":1,\"fTitleFont\":42,\"fNbins\":1,\"fXmin\":0,\"fXmax\":1,\"fXbins\":[],\"fFirst\":0,\"fLast\":0,\"fBits2\":0,\"fTimeDisplay\":false,\"fTimeFormat\":\"\",\"fLabels\":null,\"fModLabs\":null},\"fBarOffset\":0,\"fBarWidth\":1000,\"fEntries\":9583,\"fTsumw\":0.916101429614943,\"fTsumw2\":9.55965177517419e-5,\"fTsumwx\":0.00522664159965773,\"fTsumwx2\":1.73648260715689,\"fMaximum\":-1111,\"fMinimum\":-1111,\"fNormFactor\":0,\"fContour\":[],\"fSumw2\":[4.52991814383468e-6,8.92916557198182e-7,9.47362688734657e-7,9.03805783505477e-7,1.03447649919302e-6,1.05625495180761e-6,1.56804858825047e-6,1.77494388808907e-6,2.24318061930275e-6,2.07984222469333e-6,2.3411836560684e-6,2.53718972959971e-6,2.75497425574561e-6,2.91831265035503e-6,3.33210325003224e-6,3.23410021326659e-6,3.66966926555838e-6,3.49544164464166e-6,3.52810932356355e-6,3.61522313402191e-6,3.72411539709486e-6,3.87656456539699e-6,3.80033998124592e-6,3.54988777617814e-6,3.60433390771461e-6,3.33210325003224e-6,3.11431872388634e-6,3.22321098695929e-6,2.97275878189151e-6,2.47185437175594e-6,2.96186955558421e-6,2.3411836560684e-6,2.19962371407357e-6,1.698719303938e-6,1.7096085302453e-6,1.7096085302453e-6,1.43737787256293e-6,1.21959334641703e-6,1.15425798857326e-6,9.14695009812772e-7,6.53353578437694e-7,4.22501980723042e-6],\"fOption\":\"\",\"fFunctions\":{\"_typename\":\"TList\",\"name\":\"TList\",\"arr\":[],\"opt\":[]},\"fBufferSize\":0,\"fBuffer\":[],\"fBinStatErrOpt\":0,\"fStatOverflows\":2,\"fArray\":[0.0434102,0.00855682,0.009078576,0.00866117,0.009913389,0.01012209,0.01502661,0.01700929,0.0214964,0.01993113,0.02243556,0.02431389,0.02640092,0.02796619,0.03193155,0.03099238,0.03516644,0.03349682,0.03380987,0.03464468,0.0356882,0.03714912,0.03641866,0.03401858,0.03454033,0.03193155,0.02984452,0.03088803,0.02848795,0.02368778,0.0283836,0.02243556,0.02107899,0.01627883,0.01638318,0.01638318,0.01377439,0.01168736,0.01106125,0.008765522,0.006261087,0.04048837]},{\"_typename\":\"TLegend\",\"fUniqueID\":0,\"fBits\":8,\"fLineColor\":1,\"fLineStyle\":1,\"fLineWidth\":1,\"fFillColor\":0,\"fFillStyle\":1001,\"fX1\":1.87500002793968,\"fY1\":0.033648143142413,\"fX2\":3.00000004470349,\"fY2\":0.0401430522809887,\"fX1NDC\":0.75,\"fY1NDC\":0.75,\"fX2NDC\":0.9,\"fY2NDC\":0.9,\"fBorderSize\":1,\"fInit\":1,\"fShadowColor\":1,\"fCornerRadius\":0,\"fOption\":\"brNDC\",\"fName\":\"TPave\",\"fTextAngle\":0,\"fTextSize\":0,\"fTextAlign\":12,\"fTextColor\":1,\"fTextFont\":42,\"fPrimitives\":{\"_typename\":\"TList\",\"name\":\"TList\",\"arr\":[{\"_typename\":\"TLegendEntry\",\"fUniqueID\":0,\"fBits\":0,\"fTextAngle\":0,\"fTextSize\":0,\"fTextAlign\":0,\"fTextColor\":0,\"fTextFont\":42,\"fLineColor\":416,\"fLineStyle\":1,\"fLineWidth\":2,\"fFillColor\":413,\"fFillStyle\":3004,\"fMarkerColor\":1,\"fMarkerStyle\":1,\"fMarkerSize\":1,\"fObject\":{\"$ref\":5},\"fLabel\":\"13 TeV\",\"fOption\":\"lpf\"},{\"_typename\":\"TLegendEntry\",\"fUniqueID\":0,\"fBits\":0,\"fTextAngle\":0,\"fTextSize\":0,\"fTextAlign\":0,\"fTextColor\":0,\"fTextFont\":42,\"fLineColor\":860,\"fLineStyle\":1,\"fLineWidth\":2,\"fFillColor\":864,\"fFillStyle\":3006,\"fMarkerColor\":1,\"fMarkerStyle\":1,\"fMarkerSize\":1,\"fObject\":{\"$ref\":10},\"fLabel\":\"14 TeV\",\"fOption\":\"lpf\"}],\"opt\":[\"lpf\",\"lpf\"]},\"fEntrySeparation\":0.1,\"fMargin\":0.25,\"fNColumns\":1,\"fColumnSeparation\":0},{\"_typename\":\"TPaveText\",\"fUniqueID\":0,\"fBits\":9,\"fLineColor\":1,\"fLineStyle\":1,\"fLineWidth\":1,\"fFillColor\":0,\"fFillStyle\":0,\"fX1\":-2.32715520709111,\"fY1\":0.0415830456596651,\"fX2\":2.32715520709111,\"fY2\":0.0442564949418876,\"fX1NDC\":0.189712643678161,\"fY1NDC\":0.933256663364013,\"fX2NDC\":0.810287356321839,\"fY2NDC\":0.995000004768372,\"fBorderSize\":0,\"fInit\":1,\"fShadowColor\":1,\"fCornerRadius\":0,\"fOption\":\"blNDC\",\"fName\":\"title\",\"fTextAngle\":0,\"fTextSize\":0,\"fTextAlign\":22,\"fTextColor\":1,\"fTextFont\":42,\"fLabel\":\"\",\"fLongest\":50,\"fMargin\":0.05,\"fLines\":{\"_typename\":\"TList\",\"name\":\"TList\",\"arr\":[{\"_typename\":\"TLatex\",\"fUniqueID\":0,\"fBits\":0,\"fName\":\"\",\"fTitle\":\"Pseudorapidity (Eta) of Muon for 13 TeV and 14 TeV\",\"fTextAngle\":0,\"fTextSize\":0,\"fTextAlign\":0,\"fTextColor\":0,\"fTextFont\":0,\"fX\":0,\"fY\":0,\"fLineColor\":1,\"fLineStyle\":1,\"fLineWidth\":2,\"fLimitFactorSize\":3,\"fOriginSize\":0.0524818412959576}],\"opt\":[\"\"]}}],\"opt\":[\"\",\"HIST\",\"HIST SAME\",\"\",\"blNDC\"]},\"fExecs\":{\"_typename\":\"TList\",\"name\":\"TList\",\"arr\":[],\"opt\":[]},\"fName\":\"pad3\",\"fTitle\":\"pad3\",\"fNumPaletteColor\":0,\"fNextPaletteColor\":0},{\"_typename\":\"TPad\",\"fUniqueID\":0,\"fBits\":9,\"fLineColor\":1,\"fLineStyle\":1,\"fLineWidth\":1,\"fFillColor\":0,\"fFillStyle\":1001,\"fLeftMargin\":0.1,\"fRightMargin\":0.1,\"fBottomMargin\":0.2,\"fTopMargin\":0.1,\"fXfile\":2,\"fYfile\":2,\"fAfile\":1,\"fXstat\":0.99,\"fYstat\":0.99,\"fAstat\":2,\"fFrameFillColor\":0,\"fFrameLineColor\":1,\"fFrameFillStyle\":1001,\"fFrameLineStyle\":1,\"fFrameLineWidth\":1,\"fFrameBorderSize\":1,\"fFrameBorderMode\":0,\"fX1\":-3.75000005587936,\"fY1\":0.528571423097532,\"fX2\":3.75000005587936,\"fY2\":1.38571428845123,\"fXtoAbsPixelk\":348.00005,\"fXtoPixelk\":348.00005,\"fXtoPixel\":92.7999986171722,\"fYtoAbsPixelk\":521.166715216039,\"fYtoPixelk\":190.766715216039,\"fYtoPixel\":-137.666665347914,\"fUtoAbsPixelk\":5e-5,\"fUtoPixelk\":5e-5,\"fUtoPixel\":696,\"fVtoAbsPixelk\":448.40005,\"fVtoPixelk\":118,\"fVtoPixel\":-118,\"fAbsPixeltoXk\":-3.75000005587936,\"fPixeltoXk\":-3.75000005587936,\"fPixeltoX\":0.0107758622295384,\"fAbsPixeltoYk\":3.7857143114416,\"fPixeltoYk\":0.528571423097532,\"fPixeltoY\":-0.00726392258774323,\"fXlowNDC\":0,\"fYlowNDC\":0.05,\"fXUpNDC\":1,\"fYUpNDC\":0.3,\"fWNDC\":1,\"fHNDC\":0.25,\"fAbsXlowNDC\":0,\"fAbsYlowNDC\":0.05,\"fAbsWNDC\":1,\"fAbsHNDC\":0.25,\"fUxmin\":-3,\"fUymin\":0.7,\"fUxmax\":3,\"fUymax\":1.3,\"fTheta\":30,\"fPhi\":30,\"fAspectRatio\":0,\"fNumber\":0,\"fTickx\":0,\"fTicky\":0,\"fLogx\":0,\"fLogy\":0,\"fLogz\":0,\"fPadPaint\":0,\"fCrosshair\":0,\"fCrosshairPos\":0,\"fBorderSize\":2,\"fBorderMode\":0,\"fModified\":false,\"fGridx\":true,\"fGridy\":true,\"fAbsCoord\":false,\"fEditable\":true,\"fFixedAspectRatio\":false,\"fPrimitives\":{\"_typename\":\"TList\",\"name\":\"TList\",\"arr\":[{\"_typename\":\"TFrame\",\"fUniqueID\":0,\"fBits\":8,\"fLineColor\":1,\"fLineStyle\":1,\"fLineWidth\":1,\"fFillColor\":0,\"fFillStyle\":1001,\"fX1\":-3,\"fY1\":0.7,\"fX2\":3,\"fY2\":1.3,\"fBorderSize\":1,\"fBorderMode\":0},{\"_typename\":\"TH1F\",\"fUniqueID\":0,\"fBits\":520,\"fName\":\"h1_h3\",\"fTitle\":\"\",\"fLineColor\":600,\"fLineStyle\":1,\"fLineWidth\":2,\"fFillColor\":413,\"fFillStyle\":3004,\"fMarkerColor\":1,\"fMarkerStyle\":1,\"fMarkerSize\":1,\"fNcells\":42,\"fXaxis\":{\"_typename\":\"TAxis\",\"fUniqueID\":0,\"fBits\":0,\"fName\":\"xaxis\",\"fTitle\":\"Pseudorapidity (Eta) of Muon\",\"fNdivisions\":510,\"fAxisColor\":1,\"fLabelColor\":1,\"fLabelFont\":43,\"fLabelOffset\":0.005,\"fLabelSize\":15,\"fTickLength\":0.03,\"fTitleOffset\":5,\"fTitleSize\":10,\"fTitleColor\":1,\"fTitleFont\":43,\"fNbins\":40,\"fXmin\":-3,\"fXmax\":3,\"fXbins\":[],\"fFirst\":0,\"fLast\":0,\"fBits2\":0,\"fTimeDisplay\":false,\"fTimeFormat\":\"\",\"fLabels\":null,\"fModLabs\":null},\"fYaxis\":{\"_typename\":\"TAxis\",\"fUniqueID\":0,\"fBits\":4096,\"fName\":\"yaxis\",\"fTitle\":\"Ratio\",\"fNdivisions\":505,\"fAxisColor\":1,\"fLabelColor\":1,\"fLabelFont\":43,\"fLabelOffset\":0.005,\"fLabelSize\":10,\"fTickLength\":0.03,\"fTitleOffset\":1.2,\"fTitleSize\":15,\"fTitleColor\":1,\"fTitleFont\":43,\"fNbins\":1,\"fXmin\":0,\"fXmax\":1,\"fXbins\":[],\"fFirst\":0,\"fLast\":0,\"fBits2\":0,\"fTimeDisplay\":false,\"fTimeFormat\":\"\",\"fLabels\":null,\"fModLabs\":null},\"fZaxis\":{\"_typename\":\"TAxis\",\"fUniqueID\":0,\"fBits\":0,\"fName\":\"zaxis\",\"fTitle\":\"\",\"fNdivisions\":510,\"fAxisColor\":1,\"fLabelColor\":1,\"fLabelFont\":42,\"fLabelOffset\":0.005,\"fLabelSize\":0.035,\"fTickLength\":0.03,\"fTitleOffset\":1,\"fTitleSize\":0.035,\"fTitleColor\":1,\"fTitleFont\":42,\"fNbins\":1,\"fXmin\":0,\"fXmax\":1,\"fXbins\":[],\"fFirst\":0,\"fLast\":0,\"fBits2\":0,\"fTimeDisplay\":false,\"fTimeFormat\":\"\",\"fLabels\":null,\"fModLabs\":null},\"fBarOffset\":0,\"fBarWidth\":1000,\"fEntries\":3387.56508268278,\"fTsumw\":40.0695029497147,\"fTsumw2\":0.473958441372782,\"fTsumwx\":0.713523432612415,\"fTsumwx2\":118.906943536475,\"fMaximum\":1.3,\"fMinimum\":0.7,\"fNormFactor\":0,\"fContour\":[],\"fSumw2\":[0.00447304202419898,0.0183879808297447,0.0169329720007264,0.0218304011162398,0.0279976588666697,0.0241122551360985,0.0145325517312861,0.0106697301725896,0.00764451226438164,0.0132608529828632,0.010034787945478,0.00804399702653547,0.00771830423444712,0.00737625830302897,0.00636974008240088,0.00703527983574839,0.00571643753593663,0.00724267649086015,0.00689395426114717,0.00585321451999258,0.00654604254815496,0.00539731078351345,0.00477690179439978,0.00587537453909112,0.00555112230987337,0.00602668508885779,0.00735702672135265,0.00720003631404688,0.00835515945876564,0.00952414609123638,0.0066377293067262,0.00970274215475217,0.00898175065301351,0.0170719267592738,0.0127833336987507,0.0117107358730552,0.0135549820899401,0.016578651844372,0.0201020616091504,0.0188362600057006,0.0437348963925807,0.0051831580137248],\"fOption\":\"\",\"fFunctions\":{\"_typename\":\"TList\",\"name\":\"TList\",\"arr\":[],\"opt\":[]},\"fBufferSize\":0,\"fBuffer\":[],\"fBinStatErrOpt\":0,\"fStatOverflows\":2,\"fArray\":[0.9538443,0.8267663,0.8136298,0.9369238,1.206874,1.110043,1.0316,0.9113525,0.8517912,1.169237,1.052629,0.9584728,0.985161,0.9932629,0.9839506,1.030551,0.9762741,1.105688,1.076988,0.9819682,1.078607,0.9745789,0.8855723,0.972517,0.9457784,0.9481112,1.035328,1.044138,1.091934,1.054079,0.9346715,1.029443,0.9377562,1.207883,1.003333,0.9461812,0.9290068,0.9524747,1.04401,0.8545568,1.19638,1.004691]},{\"_typename\":\"TLine\",\"fUniqueID\":0,\"fBits\":8,\"fLineColor\":1,\"fLineStyle\":1,\"fLineWidth\":1,\"fX1\":-3,\"fY1\":1,\"fX2\":3,\"fY2\":1}],\"opt\":[\"\",\"P*\",\"\"]},\"fExecs\":{\"_typename\":\"TList\",\"name\":\"TList\",\"arr\":[],\"opt\":[]},\"fName\":\"pad4\",\"fTitle\":\"pad4\",\"fNumPaletteColor\":0,\"fNextPaletteColor\":0},{\"_typename\":\"TStyle\",\"fUniqueID\":0,\"fBits\":0,\"fName\":\"Modern\",\"fTitle\":\"Modern Style\",\"fLineColor\":1,\"fLineStyle\":1,\"fLineWidth\":1,\"fFillColor\":19,\"fFillStyle\":1001,\"fMarkerColor\":1,\"fMarkerStyle\":1,\"fMarkerSize\":1,\"fTextAngle\":0,\"fTextSize\":0.05,\"fTextAlign\":11,\"fTextColor\":1,\"fTextFont\":62,\"fXaxis\":{\"_typename\":\"TAttAxis\",\"fNdivisions\":510,\"fAxisColor\":1,\"fLabelColor\":1,\"fLabelFont\":42,\"fLabelOffset\":0.005,\"fLabelSize\":0.035,\"fTickLength\":0.03,\"fTitleOffset\":1,\"fTitleSize\":0.035,\"fTitleColor\":1,\"fTitleFont\":42},\"fYaxis\":{\"_typename\":\"TAttAxis\",\"fNdivisions\":510,\"fAxisColor\":1,\"fLabelColor\":1,\"fLabelFont\":42,\"fLabelOffset\":0.005,\"fLabelSize\":0.035,\"fTickLength\":0.03,\"fTitleOffset\":0,\"fTitleSize\":0.035,\"fTitleColor\":1,\"fTitleFont\":42},\"fZaxis\":{\"_typename\":\"TAttAxis\",\"fNdivisions\":510,\"fAxisColor\":1,\"fLabelColor\":1,\"fLabelFont\":42,\"fLabelOffset\":0.005,\"fLabelSize\":0.035,\"fTickLength\":0.03,\"fTitleOffset\":1,\"fTitleSize\":0.035,\"fTitleColor\":1,\"fTitleFont\":42},\"fBarWidth\":1,\"fBarOffset\":0,\"fColorModelPS\":0,\"fDrawBorder\":0,\"fOptLogx\":0,\"fOptLogy\":0,\"fOptLogz\":0,\"fOptDate\":0,\"fOptStat\":1111,\"fOptTitle\":1,\"fOptFile\":0,\"fOptFit\":0,\"fShowEventStatus\":0,\"fShowEditor\":0,\"fShowToolBar\":0,\"fNumberContours\":20,\"fAttDate\":{\"_typename\":\"TAttText\",\"fTextAngle\":0,\"fTextSize\":0.025,\"fTextAlign\":11,\"fTextColor\":1,\"fTextFont\":62},\"fDateX\":0.01,\"fDateY\":0.01,\"fEndErrorSize\":2,\"fErrorX\":0.5,\"fFuncColor\":2,\"fFuncStyle\":1,\"fFuncWidth\":2,\"fGridColor\":0,\"fGridStyle\":3,\"fGridWidth\":1,\"fLegendBorderSize\":1,\"fLegendFillColor\":0,\"fLegendFont\":42,\"fLegendTextSize\":0,\"fHatchesLineWidth\":1,\"fHatchesSpacing\":1,\"fFrameFillColor\":0,\"fFrameLineColor\":1,\"fFrameFillStyle\":1001,\"fFrameLineStyle\":1,\"fFrameLineWidth\":1,\"fFrameBorderSize\":1,\"fFrameBorderMode\":0,\"fHistFillColor\":0,\"fHistLineColor\":602,\"fHistFillStyle\":1001,\"fHistLineStyle\":1,\"fHistLineWidth\":1,\"fHistMinimumZero\":false,\"fHistTopMargin\":0.05,\"fCanvasPreferGL\":false,\"fCanvasColor\":0,\"fCanvasBorderSize\":2,\"fCanvasBorderMode\":0,\"fCanvasDefH\":500,\"fCanvasDefW\":700,\"fCanvasDefX\":10,\"fCanvasDefY\":10,\"fPadColor\":0,\"fPadBorderSize\":2,\"fPadBorderMode\":0,\"fPadBottomMargin\":0.1,\"fPadTopMargin\":0.1,\"fPadLeftMargin\":0.1,\"fPadRightMargin\":0.1,\"fPadGridX\":false,\"fPadGridY\":false,\"fPadTickX\":0,\"fPadTickY\":0,\"fPaperSizeX\":20,\"fPaperSizeY\":26,\"fScreenFactor\":1,\"fStatColor\":0,\"fStatTextColor\":1,\"fStatBorderSize\":1,\"fStatFont\":42,\"fStatFontSize\":0,\"fStatStyle\":1001,\"fStatFormat\":\"6.4g\",\"fStatX\":0.98,\"fStatY\":0.935,\"fStatW\":0.2,\"fStatH\":0.16,\"fStripDecimals\":true,\"fTitleAlign\":23,\"fTitleColor\":0,\"fTitleTextColor\":1,\"fTitleBorderSize\":0,\"fTitleFont\":42,\"fTitleFontSize\":0.05,\"fTitleStyle\":0,\"fTitleX\":0.5,\"fTitleY\":0.995,\"fTitleW\":0,\"fTitleH\":0,\"fLegoInnerR\":0.5,\"fLineStyle\":[\"\",\"  \",\" 12 12\",\" 4 8\",\" 12 16 4 16\",\" 20 12 4 12\",\" 20 12 4 12 4 12 4 12\",\" 20 20\",\" 20 12 4 12 4 12\",\" 80 20\",\" 80 40 4 40\",\"  \",\"  \",\"  \",\"  \",\"  \",\"  \",\"  \",\"  \",\"  \",\"  \",\"  \",\"  \",\"  \",\"  \",\"  \",\"  \",\"  \",\"  \",\"  \"],\"fHeaderPS\":\"\",\"fTitlePS\":\"\",\"fFitFormat\":\"5.4g\",\"fPaintTextFormat\":\"g\",\"fLineScalePS\":3,\"fJoinLinePS\":0,\"fCapLinePS\":0,\"fTimeOffset\":788918400,\"fImageScaling\":1}],\"opt\":[\"\",\"\",\"\"]},\"fExecs\":null,\"fName\":\"c3\",\"fTitle\":\"\",\"fNumPaletteColor\":0,\"fNextPaletteColor\":0,\"fDISPLAY\":\"$DISPLAY\",\"fDoubleBuffer\":0,\"fRetained\":true,\"fXsizeUser\":0,\"fYsizeUser\":0,\"fXsizeReal\":20,\"fYsizeReal\":14.28571,\"fWindowTopX\":0,\"fWindowTopY\":0,\"fWindowWidth\":0,\"fWindowHeight\":0,\"fCw\":696,\"fCh\":472,\"fCatt\":{\"_typename\":\"TAttCanvas\",\"fXBetween\":2,\"fYBetween\":2,\"fTitleFromTop\":1.2,\"fXdate\":0.2,\"fYdate\":0.3,\"fAdate\":1},\"kMoveOpaque\":true,\"kResizeOpaque\":true,\"fHighLightColor\":2,\"fBatch\":true,\"kShowEventStatus\":false,\"kAutoExec\":true,\"kMenuBar\":true});\n",
       "   Core.settings.HandleKeys = false;\n",
       "   Core.draw(\"root_plot_1664311691620\", obj, \"\");\n",
       "}\n",
       "\n",
       "function script_load_root_plot_1664311691620(src, on_error) {\n",
       "    let script = document.createElement('script');\n",
       "    script.src = src;\n",
       "    script.onload = function() { display_root_plot_1664311691620(JSROOT); };\n",
       "    script.onerror = function() { script.remove(); on_error(); };\n",
       "    document.head.appendChild(script);\n",
       "}\n",
       "\n",
       "if (typeof requirejs !== 'undefined') {\n",
       "\n",
       "    // We are in jupyter notebooks, use require.js which should be configured already\n",
       "    requirejs.config({\n",
       "       paths: { 'JSRootCore' : [ 'scripts/JSRoot.core', 'https://root.cern/js/6.1.1/scripts/JSRoot.core.min', 'https://jsroot.gsi.de/6.1.1/scripts/JSRoot.core.min' ] }\n",
       "    })(['JSRootCore'],  function(Core) {\n",
       "       display_root_plot_1664311691620(Core);\n",
       "    });\n",
       "\n",
       "} else if (typeof JSROOT !== 'undefined') {\n",
       "\n",
       "   // JSROOT already loaded, just use it\n",
       "   display_root_plot_1664311691620(JSROOT);\n",
       "\n",
       "} else {\n",
       "\n",
       "    // We are in jupyterlab without require.js, directly loading jsroot\n",
       "    // Jupyterlab might be installed in a different base_url so we need to know it.\n",
       "    try {\n",
       "        var base_url = JSON.parse(document.getElementById('jupyter-config-data').innerHTML).baseUrl;\n",
       "    } catch(_) {\n",
       "        var base_url = '/';\n",
       "    }\n",
       "\n",
       "    // Try loading a local version of requirejs and fallback to cdn if not possible.\n",
       "    script_load_root_plot_1664311691620(base_url + 'static/scripts/JSRoot.core.js', function(){\n",
       "        console.error('Fail to load JSROOT locally, please check your jupyter_notebook_config.py file');\n",
       "        script_load_root_plot_1664311691620('https://root.cern/js/6.1.1/scripts/JSRoot.core.min.js', function(){\n",
       "            document.getElementById(\"root_plot_1664311691620\").innerHTML = \"Failed to load JSROOT\";\n",
       "        });\n",
       "    });\n",
       "}\n",
       "\n",
       "</script>\n"
      ],
      "text/plain": [
       "<IPython.core.display.HTML object>"
      ]
     },
     "metadata": {},
     "output_type": "display_data"
    }
   ],
   "source": [
    "pad3.cd()\n",
    "h1.Draw(\"HIST\")\n",
    "h3.Draw(\"HIST SAME\")\n",
    "h13_legend.Draw()\n",
    "pad4.cd()\n",
    "h1_h3.Draw(\"P*\")\n",
    "h1.SetTitle(out_title+\" for 13 TeV and 14 TeV\")\n",
    "ratio_y_line2 = ROOT.TLine(histogram_settings[\"min\"],1,histogram_settings[\"max\"],1)\n",
    "ratio_y_line2.Draw()\n",
    "\n",
    "c3.Draw()\n"
   ]
  },
  {
   "cell_type": "markdown",
   "id": "34ec1605-3798-47e2-90de-3b3ff520e8b4",
   "metadata": {},
   "source": [
    "### Output of Canvas "
   ]
  },
  {
   "cell_type": "code",
   "execution_count": 38,
   "id": "9ebb7ae5-e170-4939-9134-906efbc434c8",
   "metadata": {},
   "outputs": [
    {
     "name": "stderr",
     "output_type": "stream",
     "text": [
      "Info in <TCanvas::Print>: pdf file output/jetall/jetall_eta_tev13-tev14.pdf has been created\n"
     ]
    }
   ],
   "source": [
    "c3.Print(output_path+test_name+ayrac+\"tev13-tev14.\"+out_format)"
   ]
  },
  {
   "cell_type": "markdown",
   "id": "4dce9443-1f55-46be-b90a-68e1cdf009ad",
   "metadata": {},
   "source": [
    "## CREATING NEW CANVAS"
   ]
  },
  {
   "cell_type": "code",
   "execution_count": 39,
   "id": "396704d7-2198-4449-bd31-f4ed803822e4",
   "metadata": {},
   "outputs": [],
   "source": [
    "c3.Close()\n",
    "c4 = ROOT.TCanvas(\"c4\")"
   ]
  },
  {
   "cell_type": "markdown",
   "id": "7e6018f2-ba84-4cee-9d7b-74e71f4514b4",
   "metadata": {},
   "source": [
    "### Creating Three Canvas TPads "
   ]
  },
  {
   "cell_type": "code",
   "execution_count": 40,
   "id": "0c591eb0-4134-46ac-a08a-b75e26785369",
   "metadata": {},
   "outputs": [],
   "source": [
    "pad5 = ROOT.TPad(\"pad7\",\"pad7\",0,0.50,1,1)\n",
    "pad6 = ROOT.TPad(\"pad6\",\"pad6\",0,0.275,1,0.50)\n",
    "pad7 = ROOT.TPad(\"pad5\",\"pad5\",0,0.05,1,0.275)\n",
    "\n",
    "pad5.SetBottomMargin(0.1)\n",
    "pad5.SetGridx()\n",
    "pad5.SetGridy()\n",
    "\n",
    "pad6.SetTopMargin(0.2)  # joins upper and lower plot\n",
    "pad6.SetBottomMargin(0.25)\n",
    "pad6.SetGridx()\n",
    "pad6.SetGridy()\n",
    "\n",
    "pad7.SetTopMargin(0.2)  # joins upper and lower plot\n",
    "pad7.SetBottomMargin(0.25)\n",
    "pad7.SetGridx()\n",
    "pad7.SetGridy()\n",
    "\n",
    "pad5.Draw()\n",
    "pad6.Draw()\n",
    "pad7.Draw()"
   ]
  },
  {
   "cell_type": "markdown",
   "id": "c4e1b8a9-0d3b-4356-834d-78eae4c84c02",
   "metadata": {},
   "source": [
    "### Setting Legend"
   ]
  },
  {
   "cell_type": "code",
   "execution_count": 41,
   "id": "298d19b4-79a8-42ec-87a9-f5e5fc7af2e0",
   "metadata": {},
   "outputs": [
    {
     "data": {
      "text/plain": [
       "<cppyy.gbl.TLegendEntry object at 0x55d174c69390>"
      ]
     },
     "execution_count": 41,
     "metadata": {},
     "output_type": "execute_result"
    }
   ],
   "source": [
    "h123_legend = ROOT.TLegend(0.75,0.75,0.9,0.9)\n",
    "h123_legend.AddEntry(h1,\"13 TeV\")\n",
    "h123_legend.AddEntry(h2,\"13.6 TeV\")\n",
    "h123_legend.AddEntry(h3,\"14 TeV\")"
   ]
  },
  {
   "cell_type": "markdown",
   "id": "b722c383-c8fa-4b4c-8379-3f740609bc05",
   "metadata": {},
   "source": [
    "### Setting Title of Ratio Plots"
   ]
  },
  {
   "cell_type": "code",
   "execution_count": 42,
   "id": "82dcf9ef-b000-418d-8d27-b76c2eb3dc96",
   "metadata": {},
   "outputs": [],
   "source": [
    "h1_h2.SetTitle(\"13.6 TeV / 13 TeV\")\n",
    "h1_h2.SetLineColor(ROOT.kRed)\n",
    "\n",
    "h1_h3.SetTitle(\"14 TeV / 13 TeV\")\n",
    "h1_h3.SetLineColor(ROOT.kAzure + 4)"
   ]
  },
  {
   "cell_type": "markdown",
   "id": "004f0470-f69a-4849-8e37-8ae59bc8d044",
   "metadata": {},
   "source": [
    "### Ploting Histograms and Displaying Canvas "
   ]
  },
  {
   "cell_type": "code",
   "execution_count": 43,
   "id": "b3fba23f-9bc4-486e-956c-0d51187a40ac",
   "metadata": {},
   "outputs": [
    {
     "data": {
      "text/html": [
       "\n",
       "\n",
       "<div id=\"root_plot_1664311692325\"\n",
       "     style=\"width: 696px; height: 472px\">\n",
       "</div>\n",
       "<script>\n",
       "\n",
       "function display_root_plot_1664311692325(Core) {\n",
       "   let obj = Core.parse({\"_typename\":\"TCanvas\",\"fUniqueID\":0,\"fBits\":3342344,\"fLineColor\":1,\"fLineStyle\":1,\"fLineWidth\":1,\"fFillColor\":0,\"fFillStyle\":1001,\"fLeftMargin\":0.1,\"fRightMargin\":0.1,\"fBottomMargin\":0.1,\"fTopMargin\":0.1,\"fXfile\":2,\"fYfile\":2,\"fAfile\":1,\"fXstat\":0.99,\"fYstat\":0.99,\"fAstat\":2,\"fFrameFillColor\":0,\"fFrameLineColor\":1,\"fFrameFillStyle\":1001,\"fFrameLineStyle\":1,\"fFrameLineWidth\":1,\"fFrameBorderSize\":1,\"fFrameBorderMode\":0,\"fX1\":0,\"fY1\":0,\"fX2\":1,\"fY2\":1,\"fXtoAbsPixelk\":5e-5,\"fXtoPixelk\":5e-5,\"fXtoPixel\":696,\"fYtoAbsPixelk\":472.00005,\"fYtoPixelk\":472.00005,\"fYtoPixel\":-472,\"fUtoAbsPixelk\":5e-5,\"fUtoPixelk\":5e-5,\"fUtoPixel\":696,\"fVtoAbsPixelk\":472.00005,\"fVtoPixelk\":472,\"fVtoPixel\":-472,\"fAbsPixeltoXk\":0,\"fPixeltoXk\":0,\"fPixeltoX\":0.0014367816091954,\"fAbsPixeltoYk\":1,\"fPixeltoYk\":0,\"fPixeltoY\":-0.00211864406779661,\"fXlowNDC\":0,\"fYlowNDC\":0,\"fXUpNDC\":1,\"fYUpNDC\":1,\"fWNDC\":1,\"fHNDC\":1,\"fAbsXlowNDC\":0,\"fAbsYlowNDC\":0,\"fAbsWNDC\":1,\"fAbsHNDC\":1,\"fUxmin\":0,\"fUymin\":0,\"fUxmax\":1,\"fUymax\":1,\"fTheta\":30,\"fPhi\":30,\"fAspectRatio\":0,\"fNumber\":0,\"fTickx\":0,\"fTicky\":0,\"fLogx\":0,\"fLogy\":0,\"fLogz\":0,\"fPadPaint\":0,\"fCrosshair\":0,\"fCrosshairPos\":0,\"fBorderSize\":2,\"fBorderMode\":0,\"fModified\":false,\"fGridx\":false,\"fGridy\":false,\"fAbsCoord\":false,\"fEditable\":true,\"fFixedAspectRatio\":false,\"fPrimitives\":{\"_typename\":\"TList\",\"name\":\"TList\",\"arr\":[{\"_typename\":\"TPad\",\"fUniqueID\":0,\"fBits\":9,\"fLineColor\":1,\"fLineStyle\":1,\"fLineWidth\":1,\"fFillColor\":0,\"fFillStyle\":1001,\"fLeftMargin\":0.1,\"fRightMargin\":0.1,\"fBottomMargin\":0.1,\"fTopMargin\":0.1,\"fXfile\":2,\"fYfile\":2,\"fAfile\":1,\"fXstat\":0.99,\"fYstat\":0.99,\"fAstat\":2,\"fFrameFillColor\":0,\"fFrameLineColor\":1,\"fFrameFillStyle\":1001,\"fFrameLineStyle\":1,\"fFrameLineWidth\":1,\"fFrameBorderSize\":1,\"fFrameBorderMode\":0,\"fX1\":-3.75000005587936,\"fY1\":0.00117359744953442,\"fX2\":3.75000005587936,\"fY2\":0.0444729917067058,\"fXtoAbsPixelk\":348.00005,\"fXtoPixelk\":348.00005,\"fXtoPixel\":92.7999986171722,\"fYtoAbsPixelk\":242.396652142864,\"fYtoPixelk\":242.396652142864,\"fYtoPixel\":-5450.42266869387,\"fUtoAbsPixelk\":5e-5,\"fUtoPixelk\":5e-5,\"fUtoPixel\":696,\"fVtoAbsPixelk\":236.00005,\"fVtoPixelk\":236,\"fVtoPixel\":-236,\"fAbsPixeltoXk\":-3.75000005587936,\"fPixeltoXk\":-3.75000005587936,\"fPixeltoX\":0.0107758622295384,\"fAbsPixeltoYk\":0.0444729917067058,\"fPixeltoYk\":0.00117359744953442,\"fPixeltoY\":-1.83472009564286e-4,\"fXlowNDC\":0,\"fYlowNDC\":0.5,\"fXUpNDC\":1,\"fYUpNDC\":1,\"fWNDC\":1,\"fHNDC\":0.5,\"fAbsXlowNDC\":0,\"fAbsYlowNDC\":0.5,\"fAbsWNDC\":1,\"fAbsHNDC\":0.5,\"fUxmin\":-3,\"fUymin\":0.00550353713333607,\"fUxmax\":3,\"fUymax\":0.0401430520229042,\"fTheta\":30,\"fPhi\":30,\"fAspectRatio\":0,\"fNumber\":0,\"fTickx\":0,\"fTicky\":0,\"fLogx\":0,\"fLogy\":0,\"fLogz\":0,\"fPadPaint\":0,\"fCrosshair\":0,\"fCrosshairPos\":0,\"fBorderSize\":2,\"fBorderMode\":0,\"fModified\":false,\"fGridx\":true,\"fGridy\":true,\"fAbsCoord\":false,\"fEditable\":true,\"fFixedAspectRatio\":false,\"fPrimitives\":{\"_typename\":\"TList\",\"name\":\"TList\",\"arr\":[{\"_typename\":\"TFrame\",\"fUniqueID\":0,\"fBits\":8,\"fLineColor\":1,\"fLineStyle\":1,\"fLineWidth\":1,\"fFillColor\":0,\"fFillStyle\":1001,\"fX1\":-3,\"fY1\":0.00550353713333607,\"fX2\":3,\"fY2\":0.0401430520229042,\"fBorderSize\":1,\"fBorderMode\":0},{\"_typename\":\"TH1F\",\"fUniqueID\":0,\"fBits\":520,\"fName\":\"h1\",\"fTitle\":\"Pseudorapidity (Eta) of Muon for 13 TeV, 13.6 TeV and 14 TeV\",\"fLineColor\":416,\"fLineStyle\":1,\"fLineWidth\":2,\"fFillColor\":413,\"fFillStyle\":3004,\"fMarkerColor\":1,\"fMarkerStyle\":1,\"fMarkerSize\":1,\"fNcells\":42,\"fXaxis\":{\"_typename\":\"TAxis\",\"fUniqueID\":0,\"fBits\":0,\"fName\":\"xaxis\",\"fTitle\":\"Pseudorapidity (Eta) of Muon\",\"fNdivisions\":510,\"fAxisColor\":1,\"fLabelColor\":1,\"fLabelFont\":42,\"fLabelOffset\":0.005,\"fLabelSize\":0.035,\"fTickLength\":0.03,\"fTitleOffset\":1,\"fTitleSize\":0.035,\"fTitleColor\":1,\"fTitleFont\":42,\"fNbins\":40,\"fXmin\":-3,\"fXmax\":3,\"fXbins\":[],\"fFirst\":0,\"fLast\":0,\"fBits2\":0,\"fTimeDisplay\":false,\"fTimeFormat\":\"\",\"fLabels\":null,\"fModLabs\":null},\"fYaxis\":{\"_typename\":\"TAxis\",\"fUniqueID\":0,\"fBits\":4096,\"fName\":\"yaxis\",\"fTitle\":\"Probability\",\"fNdivisions\":510,\"fAxisColor\":1,\"fLabelColor\":1,\"fLabelFont\":43,\"fLabelOffset\":0.005,\"fLabelSize\":10,\"fTickLength\":0.03,\"fTitleOffset\":1,\"fTitleSize\":0.035,\"fTitleColor\":1,\"fTitleFont\":42,\"fNbins\":1,\"fXmin\":0,\"fXmax\":1,\"fXbins\":[],\"fFirst\":0,\"fLast\":0,\"fBits2\":0,\"fTimeDisplay\":false,\"fTimeFormat\":\"\",\"fLabels\":null,\"fModLabs\":null},\"fZaxis\":{\"_typename\":\"TAxis\",\"fUniqueID\":0,\"fBits\":0,\"fName\":\"zaxis\",\"fTitle\":\"\",\"fNdivisions\":510,\"fAxisColor\":1,\"fLabelColor\":1,\"fLabelFont\":42,\"fLabelOffset\":0.005,\"fLabelSize\":0.035,\"fTickLength\":0.03,\"fTitleOffset\":1,\"fTitleSize\":0.035,\"fTitleColor\":1,\"fTitleFont\":42,\"fNbins\":1,\"fXmin\":0,\"fXmax\":1,\"fXbins\":[],\"fFirst\":0,\"fLast\":0,\"fBits2\":0,\"fTimeDisplay\":false,\"fTimeFormat\":\"\",\"fLabels\":null,\"fModLabs\":null},\"fBarOffset\":0,\"fBarWidth\":1000,\"fEntries\":9612,\"fTsumw\":0.917915106117353,\"fTsumw2\":9.54967859048433e-5,\"fTsumwx\":0.010140986240194,\"fTsumwx2\":1.72586809584581,\"fMaximum\":-1111,\"fMinimum\":-1111,\"fNormFactor\":0,\"fContour\":[],\"fSumw2\":[4.30780015755725e-6,7.36006057070083e-7,7.68476912529057e-7,8.4424224193333e-7,1.24471612592735e-6,1.16895079652307e-6,1.61271915446239e-6,1.61271915446239e-6,1.90495685359316e-6,2.42449054093674e-6,2.45696139639572e-6,2.42449054093674e-6,2.70590462158119e-6,2.88990613584871e-6,3.26873278287007e-6,3.3228508753017e-6,3.57179410048717e-6,3.85320818113161e-6,3.78826647021366e-6,3.53932324502819e-6,4.00473883994016e-6,3.76661923324101e-6,3.35532173076067e-6,3.44191067865127e-6,3.39861620470597e-6,3.1496729795205e-6,3.21461469043845e-6,3.35532173076067e-6,3.2362619274111e-6,2.59766843671794e-6,2.76002271401281e-6,2.40284330396409e-6,2.0564875124017e-6,2.04566389391538e-6,1.71013172083931e-6,1.61271915446239e-6,1.33130507381794e-6,1.15812717803675e-6,1.20142165198205e-6,7.79300531015382e-7,7.79300531015382e-7,4.23203482815298e-6],\"fOption\":\"\",\"fFunctions\":{\"_typename\":\"TList\",\"name\":\"TList\",\"arr\":[],\"opt\":[]},\"fBufferSize\":0,\"fBuffer\":[],\"fBinStatErrOpt\":0,\"fStatOverflows\":2,\"fArray\":[0.04140658,0.00707449,0.0073866,0.008114857,0.01196421,0.01123596,0.01550146,0.01550146,0.01831044,0.0233042,0.02361631,0.0233042,0.02600916,0.02777778,0.03141906,0.03193924,0.03433209,0.03703704,0.03641282,0.03401998,0.03849355,0.03620474,0.03225135,0.03308364,0.0326675,0.03027466,0.03089888,0.03225135,0.03110695,0.02496879,0.02652934,0.02309613,0.01976696,0.01966292,0.01643779,0.01550146,0.0127965,0.01113192,0.01154806,0.007490637,0.007490637,0.04067832]},{\"_typename\":\"TH1F\",\"fUniqueID\":0,\"fBits\":520,\"fName\":\"h2\",\"fTitle\":\"\",\"fLineColor\":632,\"fLineStyle\":1,\"fLineWidth\":2,\"fFillColor\":622,\"fFillStyle\":3010,\"fMarkerColor\":1,\"fMarkerStyle\":1,\"fMarkerSize\":1,\"fNcells\":42,\"fXaxis\":{\"_typename\":\"TAxis\",\"fUniqueID\":0,\"fBits\":0,\"fName\":\"xaxis\",\"fTitle\":\"Pseudorapidity (Eta) of Muon\",\"fNdivisions\":510,\"fAxisColor\":1,\"fLabelColor\":1,\"fLabelFont\":42,\"fLabelOffset\":0.005,\"fLabelSize\":0.035,\"fTickLength\":0.03,\"fTitleOffset\":1,\"fTitleSize\":0.035,\"fTitleColor\":1,\"fTitleFont\":42,\"fNbins\":40,\"fXmin\":-3,\"fXmax\":3,\"fXbins\":[],\"fFirst\":0,\"fLast\":0,\"fBits2\":0,\"fTimeDisplay\":false,\"fTimeFormat\":\"\",\"fLabels\":null,\"fModLabs\":null},\"fYaxis\":{\"_typename\":\"TAxis\",\"fUniqueID\":0,\"fBits\":4096,\"fName\":\"yaxis\",\"fTitle\":\"Probability\",\"fNdivisions\":510,\"fAxisColor\":1,\"fLabelColor\":1,\"fLabelFont\":43,\"fLabelOffset\":0.005,\"fLabelSize\":10,\"fTickLength\":0.03,\"fTitleOffset\":1,\"fTitleSize\":0.035,\"fTitleColor\":1,\"fTitleFont\":42,\"fNbins\":1,\"fXmin\":0,\"fXmax\":1,\"fXbins\":[],\"fFirst\":0,\"fLast\":0,\"fBits2\":0,\"fTimeDisplay\":false,\"fTimeFormat\":\"\",\"fLabels\":null,\"fModLabs\":null},\"fZaxis\":{\"_typename\":\"TAxis\",\"fUniqueID\":0,\"fBits\":0,\"fName\":\"zaxis\",\"fTitle\":\"\",\"fNdivisions\":510,\"fAxisColor\":1,\"fLabelColor\":1,\"fLabelFont\":42,\"fLabelOffset\":0.005,\"fLabelSize\":0.035,\"fTickLength\":0.03,\"fTitleOffset\":1,\"fTitleSize\":0.035,\"fTitleColor\":1,\"fTitleFont\":42,\"fNbins\":1,\"fXmin\":0,\"fXmax\":1,\"fXbins\":[],\"fFirst\":0,\"fLast\":0,\"fBits2\":0,\"fTimeDisplay\":false,\"fTimeFormat\":\"\",\"fLabels\":null,\"fModLabs\":null},\"fBarOffset\":0,\"fBarWidth\":1000,\"fEntries\":9650,\"fTsumw\":0.914818652849741,\"fTsumw2\":9.47998603989369e-5,\"fTsumwx\":-0.0114726385000582,\"fTsumwx2\":1.67982297283106,\"fMaximum\":-1111,\"fMinimum\":-1111,\"fNormFactor\":0,\"fContour\":[],\"fSumw2\":[4.35984858653924e-6,8.05390748744933e-7,8.48344922011329e-7,8.3760637869473e-7,1.10606996160971e-6,1.10606996160971e-6,1.46044189105748e-6,1.97589197025424e-6,1.91146071035464e-6,2.31952535638541e-6,2.26583263980241e-6,2.55577330935059e-6,2.74906708904937e-6,3.12491610513034e-6,2.83497543558216e-6,3.02826921528095e-6,3.79070579075948e-6,3.6296276410105e-6,3.68332035759349e-6,3.85513705065908e-6,3.86587559397568e-6,3.99473811377487e-6,3.81218287739268e-6,3.70479744422669e-6,3.33968697146232e-6,3.39337968804532e-6,3.45781094794491e-6,3.40411823136192e-6,2.91014523879836e-6,2.58798893930038e-6,2.55577330935059e-6,2.02958468683723e-6,2.11549303337002e-6,1.82555236382185e-6,1.53561169427367e-6,1.38527208784128e-6,1.2564095680421e-6,1.35305645789149e-6,8.26867835378131e-7,8.16129292061532e-7,7.40959488845338e-7,4.46723401970523e-6],\"fOption\":\"\",\"fFunctions\":{\"_typename\":\"TList\",\"name\":\"TList\",\"arr\":[],\"opt\":[]},\"fBufferSize\":0,\"fBuffer\":[],\"fBinStatErrOpt\":0,\"fStatOverflows\":2,\"fArray\":[0.04207254,0.007772021,0.008186528,0.008082901,0.01067358,0.01067358,0.01409326,0.01906736,0.0184456,0.02238342,0.02186528,0.02466321,0.0265285,0.03015544,0.02735751,0.0292228,0.03658031,0.03502591,0.03554404,0.03720207,0.0373057,0.03854922,0.03678757,0.03575129,0.03222798,0.03274611,0.03336788,0.03284974,0.0280829,0.02497409,0.02466321,0.01958549,0.02041451,0.01761658,0.01481865,0.01336788,0.01212435,0.01305699,0.007979275,0.007875647,0.007150259,0.04310881]},{\"_typename\":\"TH1F\",\"fUniqueID\":0,\"fBits\":520,\"fName\":\"h3\",\"fTitle\":\"\",\"fLineColor\":860,\"fLineStyle\":1,\"fLineWidth\":2,\"fFillColor\":864,\"fFillStyle\":3006,\"fMarkerColor\":1,\"fMarkerStyle\":1,\"fMarkerSize\":1,\"fNcells\":42,\"fXaxis\":{\"_typename\":\"TAxis\",\"fUniqueID\":0,\"fBits\":0,\"fName\":\"xaxis\",\"fTitle\":\"Pseudorapidity (Eta) of Muon\",\"fNdivisions\":510,\"fAxisColor\":1,\"fLabelColor\":1,\"fLabelFont\":42,\"fLabelOffset\":0.005,\"fLabelSize\":0.035,\"fTickLength\":0.03,\"fTitleOffset\":1,\"fTitleSize\":0.035,\"fTitleColor\":1,\"fTitleFont\":42,\"fNbins\":40,\"fXmin\":-3,\"fXmax\":3,\"fXbins\":[],\"fFirst\":0,\"fLast\":0,\"fBits2\":0,\"fTimeDisplay\":false,\"fTimeFormat\":\"\",\"fLabels\":null,\"fModLabs\":null},\"fYaxis\":{\"_typename\":\"TAxis\",\"fUniqueID\":0,\"fBits\":4096,\"fName\":\"yaxis\",\"fTitle\":\"Probability\",\"fNdivisions\":510,\"fAxisColor\":1,\"fLabelColor\":1,\"fLabelFont\":43,\"fLabelOffset\":0.005,\"fLabelSize\":10,\"fTickLength\":0.03,\"fTitleOffset\":1,\"fTitleSize\":0.035,\"fTitleColor\":1,\"fTitleFont\":42,\"fNbins\":1,\"fXmin\":0,\"fXmax\":1,\"fXbins\":[],\"fFirst\":0,\"fLast\":0,\"fBits2\":0,\"fTimeDisplay\":false,\"fTimeFormat\":\"\",\"fLabels\":null,\"fModLabs\":null},\"fZaxis\":{\"_typename\":\"TAxis\",\"fUniqueID\":0,\"fBits\":0,\"fName\":\"zaxis\",\"fTitle\":\"\",\"fNdivisions\":510,\"fAxisColor\":1,\"fLabelColor\":1,\"fLabelFont\":42,\"fLabelOffset\":0.005,\"fLabelSize\":0.035,\"fTickLength\":0.03,\"fTitleOffset\":1,\"fTitleSize\":0.035,\"fTitleColor\":1,\"fTitleFont\":42,\"fNbins\":1,\"fXmin\":0,\"fXmax\":1,\"fXbins\":[],\"fFirst\":0,\"fLast\":0,\"fBits2\":0,\"fTimeDisplay\":false,\"fTimeFormat\":\"\",\"fLabels\":null,\"fModLabs\":null},\"fBarOffset\":0,\"fBarWidth\":1000,\"fEntries\":9583,\"fTsumw\":0.916101429614943,\"fTsumw2\":9.55965177517419e-5,\"fTsumwx\":0.00522664159965773,\"fTsumwx2\":1.73648260715689,\"fMaximum\":-1111,\"fMinimum\":-1111,\"fNormFactor\":0,\"fContour\":[],\"fSumw2\":[4.52991814383468e-6,8.92916557198182e-7,9.47362688734657e-7,9.03805783505477e-7,1.03447649919302e-6,1.05625495180761e-6,1.56804858825047e-6,1.77494388808907e-6,2.24318061930275e-6,2.07984222469333e-6,2.3411836560684e-6,2.53718972959971e-6,2.75497425574561e-6,2.91831265035503e-6,3.33210325003224e-6,3.23410021326659e-6,3.66966926555838e-6,3.49544164464166e-6,3.52810932356355e-6,3.61522313402191e-6,3.72411539709486e-6,3.87656456539699e-6,3.80033998124592e-6,3.54988777617814e-6,3.60433390771461e-6,3.33210325003224e-6,3.11431872388634e-6,3.22321098695929e-6,2.97275878189151e-6,2.47185437175594e-6,2.96186955558421e-6,2.3411836560684e-6,2.19962371407357e-6,1.698719303938e-6,1.7096085302453e-6,1.7096085302453e-6,1.43737787256293e-6,1.21959334641703e-6,1.15425798857326e-6,9.14695009812772e-7,6.53353578437694e-7,4.22501980723042e-6],\"fOption\":\"\",\"fFunctions\":{\"_typename\":\"TList\",\"name\":\"TList\",\"arr\":[],\"opt\":[]},\"fBufferSize\":0,\"fBuffer\":[],\"fBinStatErrOpt\":0,\"fStatOverflows\":2,\"fArray\":[0.0434102,0.00855682,0.009078576,0.00866117,0.009913389,0.01012209,0.01502661,0.01700929,0.0214964,0.01993113,0.02243556,0.02431389,0.02640092,0.02796619,0.03193155,0.03099238,0.03516644,0.03349682,0.03380987,0.03464468,0.0356882,0.03714912,0.03641866,0.03401858,0.03454033,0.03193155,0.02984452,0.03088803,0.02848795,0.02368778,0.0283836,0.02243556,0.02107899,0.01627883,0.01638318,0.01638318,0.01377439,0.01168736,0.01106125,0.008765522,0.006261087,0.04048837]},{\"_typename\":\"TLegend\",\"fUniqueID\":0,\"fBits\":8,\"fLineColor\":1,\"fLineStyle\":1,\"fLineWidth\":1,\"fFillColor\":0,\"fFillStyle\":1001,\"fX1\":1.87500002793968,\"fY1\":0.033648143142413,\"fX2\":3.00000004470349,\"fY2\":0.0401430522809887,\"fX1NDC\":0.75,\"fY1NDC\":0.75,\"fX2NDC\":0.9,\"fY2NDC\":0.9,\"fBorderSize\":1,\"fInit\":1,\"fShadowColor\":1,\"fCornerRadius\":0,\"fOption\":\"brNDC\",\"fName\":\"TPave\",\"fTextAngle\":0,\"fTextSize\":0,\"fTextAlign\":12,\"fTextColor\":1,\"fTextFont\":42,\"fPrimitives\":{\"_typename\":\"TList\",\"name\":\"TList\",\"arr\":[{\"_typename\":\"TLegendEntry\",\"fUniqueID\":0,\"fBits\":0,\"fTextAngle\":0,\"fTextSize\":0,\"fTextAlign\":0,\"fTextColor\":0,\"fTextFont\":42,\"fLineColor\":416,\"fLineStyle\":1,\"fLineWidth\":2,\"fFillColor\":413,\"fFillStyle\":3004,\"fMarkerColor\":1,\"fMarkerStyle\":1,\"fMarkerSize\":1,\"fObject\":{\"$ref\":5},\"fLabel\":\"13 TeV\",\"fOption\":\"lpf\"},{\"_typename\":\"TLegendEntry\",\"fUniqueID\":0,\"fBits\":0,\"fTextAngle\":0,\"fTextSize\":0,\"fTextAlign\":0,\"fTextColor\":0,\"fTextFont\":42,\"fLineColor\":632,\"fLineStyle\":1,\"fLineWidth\":2,\"fFillColor\":622,\"fFillStyle\":3010,\"fMarkerColor\":1,\"fMarkerStyle\":1,\"fMarkerSize\":1,\"fObject\":{\"$ref\":10},\"fLabel\":\"13.6 TeV\",\"fOption\":\"lpf\"},{\"_typename\":\"TLegendEntry\",\"fUniqueID\":0,\"fBits\":0,\"fTextAngle\":0,\"fTextSize\":0,\"fTextAlign\":0,\"fTextColor\":0,\"fTextFont\":42,\"fLineColor\":860,\"fLineStyle\":1,\"fLineWidth\":2,\"fFillColor\":864,\"fFillStyle\":3006,\"fMarkerColor\":1,\"fMarkerStyle\":1,\"fMarkerSize\":1,\"fObject\":{\"$ref\":15},\"fLabel\":\"14 TeV\",\"fOption\":\"lpf\"}],\"opt\":[\"lpf\",\"lpf\",\"lpf\"]},\"fEntrySeparation\":0.1,\"fMargin\":0.25,\"fNColumns\":1,\"fColumnSeparation\":0},{\"_typename\":\"TPaveText\",\"fUniqueID\":0,\"fBits\":9,\"fLineColor\":1,\"fLineStyle\":1,\"fLineWidth\":1,\"fFillColor\":0,\"fFillStyle\":0,\"fX1\":-2.62500003911555,\"fY1\":0.0389725010664361,\"fX2\":2.62500003911555,\"fY2\":0.0442564949418876,\"fX1NDC\":0.15,\"fY1NDC\":0.872966106463287,\"fX2NDC\":0.85,\"fY2NDC\":0.995000004768372,\"fBorderSize\":0,\"fInit\":1,\"fShadowColor\":1,\"fCornerRadius\":0,\"fOption\":\"blNDC\",\"fName\":\"title\",\"fTextAngle\":0,\"fTextSize\":0,\"fTextAlign\":22,\"fTextColor\":1,\"fTextFont\":42,\"fLabel\":\"\",\"fLongest\":60,\"fMargin\":0.05,\"fLines\":{\"_typename\":\"TList\",\"name\":\"TList\",\"arr\":[{\"_typename\":\"TLatex\",\"fUniqueID\":0,\"fBits\":0,\"fName\":\"\",\"fTitle\":\"Pseudorapidity (Eta) of Muon for 13 TeV, 13.6 TeV and 14 TeV\",\"fTextAngle\":0,\"fTextSize\":0,\"fTextAlign\":0,\"fTextColor\":0,\"fTextFont\":0,\"fX\":0,\"fY\":0,\"fLineColor\":1,\"fLineStyle\":1,\"fLineWidth\":2,\"fLimitFactorSize\":3,\"fOriginSize\":0.1037288159132}],\"opt\":[\"\"]}}],\"opt\":[\"\",\"HIST\",\"HIST SAME\",\"HIST SAME\",\"\",\"blNDC\"]},\"fExecs\":{\"_typename\":\"TList\",\"name\":\"TList\",\"arr\":[],\"opt\":[]},\"fName\":\"pad7\",\"fTitle\":\"pad7\",\"fNumPaletteColor\":0,\"fNextPaletteColor\":0},{\"_typename\":\"TPad\",\"fUniqueID\":0,\"fBits\":9,\"fLineColor\":1,\"fLineStyle\":1,\"fLineWidth\":1,\"fFillColor\":0,\"fFillStyle\":1001,\"fLeftMargin\":0.1,\"fRightMargin\":0.1,\"fBottomMargin\":0.25,\"fTopMargin\":0.2,\"fXfile\":2,\"fYfile\":2,\"fAfile\":1,\"fXstat\":0.99,\"fYstat\":0.99,\"fAstat\":2,\"fFrameFillColor\":0,\"fFrameLineColor\":1,\"fFrameFillStyle\":1001,\"fFrameLineStyle\":1,\"fFrameLineWidth\":1,\"fFrameBorderSize\":1,\"fFrameBorderMode\":0,\"fX1\":-3.75000005587936,\"fY1\":0.427272733183931,\"fX2\":3.75000005587936,\"fY2\":1.51818181670402,\"fXtoAbsPixelk\":348.00005,\"fXtoPixelk\":348.00005,\"fXtoPixel\":92.7999986171722,\"fYtoAbsPixelk\":383.795050857189,\"fYtoPixelk\":147.795050857189,\"fYtoPixel\":-97.3500006593763,\"fUtoAbsPixelk\":5e-5,\"fUtoPixelk\":5e-5,\"fUtoPixel\":696,\"fVtoAbsPixelk\":342.20005,\"fVtoPixelk\":106.2,\"fVtoPixel\":-106.2,\"fAbsPixeltoXk\":-3.75000005587936,\"fPixeltoXk\":-3.75000005587936,\"fPixeltoX\":0.0107758622295384,\"fAbsPixeltoYk\":3.94242422452643,\"fPixeltoYk\":0.427272733183931,\"fPixeltoY\":-0.0102722135924679,\"fXlowNDC\":0,\"fYlowNDC\":0.275,\"fXUpNDC\":1,\"fYUpNDC\":0.5,\"fWNDC\":1,\"fHNDC\":0.225,\"fAbsXlowNDC\":0,\"fAbsYlowNDC\":0.275,\"fAbsWNDC\":1,\"fAbsHNDC\":0.225,\"fUxmin\":-3,\"fUymin\":0.7,\"fUxmax\":3,\"fUymax\":1.3,\"fTheta\":30,\"fPhi\":30,\"fAspectRatio\":0,\"fNumber\":0,\"fTickx\":0,\"fTicky\":0,\"fLogx\":0,\"fLogy\":0,\"fLogz\":0,\"fPadPaint\":0,\"fCrosshair\":0,\"fCrosshairPos\":0,\"fBorderSize\":2,\"fBorderMode\":0,\"fModified\":false,\"fGridx\":true,\"fGridy\":true,\"fAbsCoord\":false,\"fEditable\":true,\"fFixedAspectRatio\":false,\"fPrimitives\":{\"_typename\":\"TList\",\"name\":\"TList\",\"arr\":[{\"_typename\":\"TFrame\",\"fUniqueID\":0,\"fBits\":8,\"fLineColor\":1,\"fLineStyle\":1,\"fLineWidth\":1,\"fFillColor\":0,\"fFillStyle\":1001,\"fX1\":-3,\"fY1\":0.7,\"fX2\":3,\"fY2\":1.3,\"fBorderSize\":1,\"fBorderMode\":0},{\"_typename\":\"TH1F\",\"fUniqueID\":0,\"fBits\":520,\"fName\":\"h1_h2\",\"fTitle\":\"13.6 TeV \\/ 13 TeV\",\"fLineColor\":632,\"fLineStyle\":1,\"fLineWidth\":2,\"fFillColor\":413,\"fFillStyle\":3004,\"fMarkerColor\":1,\"fMarkerStyle\":1,\"fMarkerSize\":1,\"fNcells\":42,\"fXaxis\":{\"_typename\":\"TAxis\",\"fUniqueID\":0,\"fBits\":0,\"fName\":\"xaxis\",\"fTitle\":\"Pseudorapidity (Eta) of Muon\",\"fNdivisions\":510,\"fAxisColor\":1,\"fLabelColor\":1,\"fLabelFont\":43,\"fLabelOffset\":0.005,\"fLabelSize\":10,\"fTickLength\":0.03,\"fTitleOffset\":5,\"fTitleSize\":10,\"fTitleColor\":1,\"fTitleFont\":43,\"fNbins\":40,\"fXmin\":-3,\"fXmax\":3,\"fXbins\":[],\"fFirst\":0,\"fLast\":0,\"fBits2\":0,\"fTimeDisplay\":false,\"fTimeFormat\":\"\",\"fLabels\":null,\"fModLabs\":null},\"fYaxis\":{\"_typename\":\"TAxis\",\"fUniqueID\":0,\"fBits\":4096,\"fName\":\"yaxis\",\"fTitle\":\"Ratio\",\"fNdivisions\":505,\"fAxisColor\":1,\"fLabelColor\":1,\"fLabelFont\":43,\"fLabelOffset\":0.005,\"fLabelSize\":10,\"fTickLength\":0.03,\"fTitleOffset\":1.2,\"fTitleSize\":15,\"fTitleColor\":1,\"fTitleFont\":43,\"fNbins\":1,\"fXmin\":0,\"fXmax\":1,\"fXbins\":[],\"fFirst\":0,\"fLast\":0,\"fBits2\":0,\"fTimeDisplay\":false,\"fTimeFormat\":\"\",\"fLabels\":null,\"fModLabs\":null},\"fZaxis\":{\"_typename\":\"TAxis\",\"fUniqueID\":0,\"fBits\":0,\"fName\":\"zaxis\",\"fTitle\":\"\",\"fNdivisions\":510,\"fAxisColor\":1,\"fLabelColor\":1,\"fLabelFont\":42,\"fLabelOffset\":0.005,\"fLabelSize\":0.035,\"fTickLength\":0.03,\"fTitleOffset\":1,\"fTitleSize\":0.035,\"fTitleColor\":1,\"fTitleFont\":42,\"fNbins\":1,\"fXmin\":0,\"fXmax\":1,\"fXbins\":[],\"fFirst\":0,\"fLast\":0,\"fBits2\":0,\"fTimeDisplay\":false,\"fTimeFormat\":\"\",\"fLabels\":null,\"fModLabs\":null},\"fBarOffset\":0,\"fBarWidth\":1000,\"fEntries\":3253.19150497224,\"fTsumw\":40.7283724546432,\"fTsumw2\":0.509899377355683,\"fTsumwx\":2.07055534422398,\"fTsumwx2\":124.051717271134,\"fMaximum\":1.3,\"fMinimum\":0.7,\"fNormFactor\":0,\"fContour\":[],\"fSumw2\":[0.00481934642185345,0.023232090608653,0.0217718555920047,0.0258441692756242,0.0231243619953255,0.0210194644660282,0.0170153749372778,0.00802793937002812,0.0111348145470899,0.0098574945569937,0.010667919801943,0.00773724354909674,0.00759972187699135,0.00609387557830292,0.00936351074896112,0.00812705977883114,0.00516461191307256,0.00644891284730994,0.00605823349757512,0.00488670009609078,0.00583504569593533,0.00490580237105012,0.00464435458561399,0.00517500150124913,0.00657590679361537,0.00564218799269405,0.00555017369342237,0.00615004937255475,0.00863108233377212,0.00831251285742459,0.00939903710580156,0.0136218622668597,0.00969377751314047,0.0139199138414389,0.0163924017661283,0.0194486314852743,0.0185774410170173,0.012561895936459,0.0460718575679479,0.0244669923630978,0.0311480942579865,0.00441771156858716],\"fOption\":\"\",\"fFunctions\":{\"_typename\":\"TList\",\"name\":\"TList\",\"arr\":[],\"opt\":[]},\"fBufferSize\":0,\"fBuffer\":[],\"fBinStatErrOpt\":0,\"fStatOverflows\":2,\"fArray\":[0.9841711,0.9102511,0.9022872,1.003953,1.120919,1.052689,1.09992,0.8129839,0.992673,1.041137,1.080083,0.9448974,0.9804232,0.9211531,1.148462,1.092956,0.93854,1.057418,1.024442,0.9144646,1.031841,0.9391822,0.8766917,0.9253831,1.013638,0.9245268,0.9260067,0.9817842,1.107683,0.9997877,1.075664,1.179247,0.96828,1.11616,1.109263,1.159605,1.055438,0.8525636,1.447257,0.9511138,1.047604,0.9436196]},{\"_typename\":\"TLine\",\"fUniqueID\":0,\"fBits\":8,\"fLineColor\":1,\"fLineStyle\":1,\"fLineWidth\":1,\"fX1\":-3,\"fY1\":1,\"fX2\":3,\"fY2\":1},{\"_typename\":\"TPaveText\",\"fUniqueID\":0,\"fBits\":9,\"fLineColor\":1,\"fLineStyle\":1,\"fLineWidth\":1,\"fFillColor\":0,\"fFillStyle\":0,\"fX1\":-0.559913801446815,\"fY1\":1.38946071337866,\"fX2\":0.559913801446815,\"fY2\":1.51272727648828,\"fX1NDC\":0.425344827586207,\"fY1NDC\":0.882005654485886,\"fX2NDC\":0.574655172413793,\"fY2NDC\":0.995000004768372,\"fBorderSize\":0,\"fInit\":1,\"fShadowColor\":1,\"fCornerRadius\":0,\"fOption\":\"blNDC\",\"fName\":\"title\",\"fTextAngle\":0,\"fTextSize\":0,\"fTextAlign\":22,\"fTextColor\":1,\"fTextFont\":42,\"fLabel\":\"\",\"fLongest\":17,\"fMargin\":0.05,\"fLines\":{\"_typename\":\"TList\",\"name\":\"TList\",\"arr\":[{\"_typename\":\"TLatex\",\"fUniqueID\":0,\"fBits\":0,\"fName\":\"\",\"fTitle\":\"13.6 TeV \\/ 13 TeV\",\"fTextAngle\":0,\"fTextSize\":0,\"fTextAlign\":0,\"fTextColor\":0,\"fTextFont\":0,\"fX\":0,\"fY\":0,\"fLineColor\":1,\"fLineStyle\":1,\"fLineWidth\":2,\"fLimitFactorSize\":3,\"fOriginSize\":0.096045196056366}],\"opt\":[\"\"]}}],\"opt\":[\"\",\"P*\",\"\",\"blNDC\"]},\"fExecs\":{\"_typename\":\"TList\",\"name\":\"TList\",\"arr\":[],\"opt\":[]},\"fName\":\"pad6\",\"fTitle\":\"pad6\",\"fNumPaletteColor\":0,\"fNextPaletteColor\":0},{\"_typename\":\"TPad\",\"fUniqueID\":0,\"fBits\":9,\"fLineColor\":1,\"fLineStyle\":1,\"fLineWidth\":1,\"fFillColor\":0,\"fFillStyle\":1001,\"fLeftMargin\":0.1,\"fRightMargin\":0.1,\"fBottomMargin\":0.25,\"fTopMargin\":0.2,\"fXfile\":2,\"fYfile\":2,\"fAfile\":1,\"fXstat\":0.99,\"fYstat\":0.99,\"fAstat\":2,\"fFrameFillColor\":0,\"fFrameLineColor\":1,\"fFrameFillStyle\":1001,\"fFrameLineStyle\":1,\"fFrameLineWidth\":1,\"fFrameBorderSize\":1,\"fFrameBorderMode\":0,\"fX1\":-3.75000005587936,\"fY1\":0.427272733183931,\"fX2\":3.75000005587936,\"fY2\":1.51818181670402,\"fXtoAbsPixelk\":348.00005,\"fXtoPixelk\":348.00005,\"fXtoPixel\":92.7999986171722,\"fYtoAbsPixelk\":489.995050857189,\"fYtoPixelk\":147.795050857189,\"fYtoPixel\":-97.3500006593764,\"fUtoAbsPixelk\":5e-5,\"fUtoPixelk\":5e-5,\"fUtoPixel\":696,\"fVtoAbsPixelk\":448.40005,\"fVtoPixelk\":106.2,\"fVtoPixel\":-106.2,\"fAbsPixeltoXk\":-3.75000005587936,\"fPixeltoXk\":-3.75000005587936,\"fPixeltoX\":0.0107758622295384,\"fAbsPixeltoYk\":5.03333330804651,\"fPixeltoYk\":0.427272733183931,\"fPixeltoY\":-0.0102722135924678,\"fXlowNDC\":0,\"fYlowNDC\":0.05,\"fXUpNDC\":1,\"fYUpNDC\":0.275,\"fWNDC\":1,\"fHNDC\":0.225,\"fAbsXlowNDC\":0,\"fAbsYlowNDC\":0.05,\"fAbsWNDC\":1,\"fAbsHNDC\":0.225,\"fUxmin\":-3,\"fUymin\":0.7,\"fUxmax\":3,\"fUymax\":1.3,\"fTheta\":30,\"fPhi\":30,\"fAspectRatio\":0,\"fNumber\":0,\"fTickx\":0,\"fTicky\":0,\"fLogx\":0,\"fLogy\":0,\"fLogz\":0,\"fPadPaint\":0,\"fCrosshair\":0,\"fCrosshairPos\":0,\"fBorderSize\":2,\"fBorderMode\":0,\"fModified\":false,\"fGridx\":true,\"fGridy\":true,\"fAbsCoord\":false,\"fEditable\":true,\"fFixedAspectRatio\":false,\"fPrimitives\":{\"_typename\":\"TList\",\"name\":\"TList\",\"arr\":[{\"_typename\":\"TFrame\",\"fUniqueID\":0,\"fBits\":8,\"fLineColor\":1,\"fLineStyle\":1,\"fLineWidth\":1,\"fFillColor\":0,\"fFillStyle\":1001,\"fX1\":-3,\"fY1\":0.7,\"fX2\":3,\"fY2\":1.3,\"fBorderSize\":1,\"fBorderMode\":0},{\"_typename\":\"TH1F\",\"fUniqueID\":0,\"fBits\":520,\"fName\":\"h1_h3\",\"fTitle\":\"14 TeV \\/ 13 TeV\",\"fLineColor\":864,\"fLineStyle\":1,\"fLineWidth\":2,\"fFillColor\":413,\"fFillStyle\":3004,\"fMarkerColor\":1,\"fMarkerStyle\":1,\"fMarkerSize\":1,\"fNcells\":42,\"fXaxis\":{\"_typename\":\"TAxis\",\"fUniqueID\":0,\"fBits\":0,\"fName\":\"xaxis\",\"fTitle\":\"Pseudorapidity (Eta) of Muon\",\"fNdivisions\":510,\"fAxisColor\":1,\"fLabelColor\":1,\"fLabelFont\":43,\"fLabelOffset\":0.005,\"fLabelSize\":15,\"fTickLength\":0.03,\"fTitleOffset\":5,\"fTitleSize\":10,\"fTitleColor\":1,\"fTitleFont\":43,\"fNbins\":40,\"fXmin\":-3,\"fXmax\":3,\"fXbins\":[],\"fFirst\":0,\"fLast\":0,\"fBits2\":0,\"fTimeDisplay\":false,\"fTimeFormat\":\"\",\"fLabels\":null,\"fModLabs\":null},\"fYaxis\":{\"_typename\":\"TAxis\",\"fUniqueID\":0,\"fBits\":4096,\"fName\":\"yaxis\",\"fTitle\":\"Ratio\",\"fNdivisions\":505,\"fAxisColor\":1,\"fLabelColor\":1,\"fLabelFont\":43,\"fLabelOffset\":0.005,\"fLabelSize\":10,\"fTickLength\":0.03,\"fTitleOffset\":1.2,\"fTitleSize\":15,\"fTitleColor\":1,\"fTitleFont\":43,\"fNbins\":1,\"fXmin\":0,\"fXmax\":1,\"fXbins\":[],\"fFirst\":0,\"fLast\":0,\"fBits2\":0,\"fTimeDisplay\":false,\"fTimeFormat\":\"\",\"fLabels\":null,\"fModLabs\":null},\"fZaxis\":{\"_typename\":\"TAxis\",\"fUniqueID\":0,\"fBits\":0,\"fName\":\"zaxis\",\"fTitle\":\"\",\"fNdivisions\":510,\"fAxisColor\":1,\"fLabelColor\":1,\"fLabelFont\":42,\"fLabelOffset\":0.005,\"fLabelSize\":0.035,\"fTickLength\":0.03,\"fTitleOffset\":1,\"fTitleSize\":0.035,\"fTitleColor\":1,\"fTitleFont\":42,\"fNbins\":1,\"fXmin\":0,\"fXmax\":1,\"fXbins\":[],\"fFirst\":0,\"fLast\":0,\"fBits2\":0,\"fTimeDisplay\":false,\"fTimeFormat\":\"\",\"fLabels\":null,\"fModLabs\":null},\"fBarOffset\":0,\"fBarWidth\":1000,\"fEntries\":3387.56508268278,\"fTsumw\":40.0695029497147,\"fTsumw2\":0.473958441372782,\"fTsumwx\":0.713523432612415,\"fTsumwx2\":118.906943536475,\"fMaximum\":1.3,\"fMinimum\":0.7,\"fNormFactor\":0,\"fContour\":[],\"fSumw2\":[0.00447304202419898,0.0183879808297447,0.0169329720007264,0.0218304011162398,0.0279976588666697,0.0241122551360985,0.0145325517312861,0.0106697301725896,0.00764451226438164,0.0132608529828632,0.010034787945478,0.00804399702653547,0.00771830423444712,0.00737625830302897,0.00636974008240088,0.00703527983574839,0.00571643753593663,0.00724267649086015,0.00689395426114717,0.00585321451999258,0.00654604254815496,0.00539731078351345,0.00477690179439978,0.00587537453909112,0.00555112230987337,0.00602668508885779,0.00735702672135265,0.00720003631404688,0.00835515945876564,0.00952414609123638,0.0066377293067262,0.00970274215475217,0.00898175065301351,0.0170719267592738,0.0127833336987507,0.0117107358730552,0.0135549820899401,0.016578651844372,0.0201020616091504,0.0188362600057006,0.0437348963925807,0.0051831580137248],\"fOption\":\"\",\"fFunctions\":{\"_typename\":\"TList\",\"name\":\"TList\",\"arr\":[],\"opt\":[]},\"fBufferSize\":0,\"fBuffer\":[],\"fBinStatErrOpt\":0,\"fStatOverflows\":2,\"fArray\":[0.9538443,0.8267663,0.8136298,0.9369238,1.206874,1.110043,1.0316,0.9113525,0.8517912,1.169237,1.052629,0.9584728,0.985161,0.9932629,0.9839506,1.030551,0.9762741,1.105688,1.076988,0.9819682,1.078607,0.9745789,0.8855723,0.972517,0.9457784,0.9481112,1.035328,1.044138,1.091934,1.054079,0.9346715,1.029443,0.9377562,1.207883,1.003333,0.9461812,0.9290068,0.9524747,1.04401,0.8545568,1.19638,1.004691]},{\"_typename\":\"TLine\",\"fUniqueID\":0,\"fBits\":8,\"fLineColor\":1,\"fLineStyle\":1,\"fLineWidth\":1,\"fX1\":-3,\"fY1\":1,\"fX2\":3,\"fY2\":1},{\"_typename\":\"TPaveText\",\"fUniqueID\":0,\"fBits\":9,\"fLineColor\":1,\"fLineStyle\":1,\"fLineWidth\":1,\"fFillColor\":0,\"fFillStyle\":0,\"fX1\":-0.506034490299123,\"fY1\":1.38946071337866,\"fX2\":0.506034490299123,\"fY2\":1.51272727648828,\"fX1NDC\":0.432528735632184,\"fY1NDC\":0.882005654485886,\"fX2NDC\":0.567471264367816,\"fY2NDC\":0.995000004768372,\"fBorderSize\":0,\"fInit\":1,\"fShadowColor\":1,\"fCornerRadius\":0,\"fOption\":\"blNDC\",\"fName\":\"title\",\"fTextAngle\":0,\"fTextSize\":0,\"fTextAlign\":22,\"fTextColor\":1,\"fTextFont\":42,\"fLabel\":\"\",\"fLongest\":15,\"fMargin\":0.05,\"fLines\":{\"_typename\":\"TList\",\"name\":\"TList\",\"arr\":[{\"_typename\":\"TLatex\",\"fUniqueID\":0,\"fBits\":0,\"fName\":\"\",\"fTitle\":\"14 TeV \\/ 13 TeV\",\"fTextAngle\":0,\"fTextSize\":0,\"fTextAlign\":0,\"fTextColor\":0,\"fTextFont\":0,\"fX\":0,\"fY\":0,\"fLineColor\":1,\"fLineStyle\":1,\"fLineWidth\":2,\"fLimitFactorSize\":3,\"fOriginSize\":0.096045196056366}],\"opt\":[\"\"]}}],\"opt\":[\"\",\"P*\",\"\",\"blNDC\"]},\"fExecs\":{\"_typename\":\"TList\",\"name\":\"TList\",\"arr\":[],\"opt\":[]},\"fName\":\"pad5\",\"fTitle\":\"pad5\",\"fNumPaletteColor\":0,\"fNextPaletteColor\":0},{\"_typename\":\"TStyle\",\"fUniqueID\":0,\"fBits\":0,\"fName\":\"Modern\",\"fTitle\":\"Modern Style\",\"fLineColor\":1,\"fLineStyle\":1,\"fLineWidth\":1,\"fFillColor\":19,\"fFillStyle\":1001,\"fMarkerColor\":1,\"fMarkerStyle\":1,\"fMarkerSize\":1,\"fTextAngle\":0,\"fTextSize\":0.05,\"fTextAlign\":11,\"fTextColor\":1,\"fTextFont\":62,\"fXaxis\":{\"_typename\":\"TAttAxis\",\"fNdivisions\":510,\"fAxisColor\":1,\"fLabelColor\":1,\"fLabelFont\":42,\"fLabelOffset\":0.005,\"fLabelSize\":0.035,\"fTickLength\":0.03,\"fTitleOffset\":1,\"fTitleSize\":0.035,\"fTitleColor\":1,\"fTitleFont\":42},\"fYaxis\":{\"_typename\":\"TAttAxis\",\"fNdivisions\":510,\"fAxisColor\":1,\"fLabelColor\":1,\"fLabelFont\":42,\"fLabelOffset\":0.005,\"fLabelSize\":0.035,\"fTickLength\":0.03,\"fTitleOffset\":0,\"fTitleSize\":0.035,\"fTitleColor\":1,\"fTitleFont\":42},\"fZaxis\":{\"_typename\":\"TAttAxis\",\"fNdivisions\":510,\"fAxisColor\":1,\"fLabelColor\":1,\"fLabelFont\":42,\"fLabelOffset\":0.005,\"fLabelSize\":0.035,\"fTickLength\":0.03,\"fTitleOffset\":1,\"fTitleSize\":0.035,\"fTitleColor\":1,\"fTitleFont\":42},\"fBarWidth\":1,\"fBarOffset\":0,\"fColorModelPS\":0,\"fDrawBorder\":0,\"fOptLogx\":0,\"fOptLogy\":0,\"fOptLogz\":0,\"fOptDate\":0,\"fOptStat\":1111,\"fOptTitle\":1,\"fOptFile\":0,\"fOptFit\":0,\"fShowEventStatus\":0,\"fShowEditor\":0,\"fShowToolBar\":0,\"fNumberContours\":20,\"fAttDate\":{\"_typename\":\"TAttText\",\"fTextAngle\":0,\"fTextSize\":0.025,\"fTextAlign\":11,\"fTextColor\":1,\"fTextFont\":62},\"fDateX\":0.01,\"fDateY\":0.01,\"fEndErrorSize\":2,\"fErrorX\":0.5,\"fFuncColor\":2,\"fFuncStyle\":1,\"fFuncWidth\":2,\"fGridColor\":0,\"fGridStyle\":3,\"fGridWidth\":1,\"fLegendBorderSize\":1,\"fLegendFillColor\":0,\"fLegendFont\":42,\"fLegendTextSize\":0,\"fHatchesLineWidth\":1,\"fHatchesSpacing\":1,\"fFrameFillColor\":0,\"fFrameLineColor\":1,\"fFrameFillStyle\":1001,\"fFrameLineStyle\":1,\"fFrameLineWidth\":1,\"fFrameBorderSize\":1,\"fFrameBorderMode\":0,\"fHistFillColor\":0,\"fHistLineColor\":602,\"fHistFillStyle\":1001,\"fHistLineStyle\":1,\"fHistLineWidth\":1,\"fHistMinimumZero\":false,\"fHistTopMargin\":0.05,\"fCanvasPreferGL\":false,\"fCanvasColor\":0,\"fCanvasBorderSize\":2,\"fCanvasBorderMode\":0,\"fCanvasDefH\":500,\"fCanvasDefW\":700,\"fCanvasDefX\":10,\"fCanvasDefY\":10,\"fPadColor\":0,\"fPadBorderSize\":2,\"fPadBorderMode\":0,\"fPadBottomMargin\":0.1,\"fPadTopMargin\":0.1,\"fPadLeftMargin\":0.1,\"fPadRightMargin\":0.1,\"fPadGridX\":false,\"fPadGridY\":false,\"fPadTickX\":0,\"fPadTickY\":0,\"fPaperSizeX\":20,\"fPaperSizeY\":26,\"fScreenFactor\":1,\"fStatColor\":0,\"fStatTextColor\":1,\"fStatBorderSize\":1,\"fStatFont\":42,\"fStatFontSize\":0,\"fStatStyle\":1001,\"fStatFormat\":\"6.4g\",\"fStatX\":0.98,\"fStatY\":0.935,\"fStatW\":0.2,\"fStatH\":0.16,\"fStripDecimals\":true,\"fTitleAlign\":23,\"fTitleColor\":0,\"fTitleTextColor\":1,\"fTitleBorderSize\":0,\"fTitleFont\":42,\"fTitleFontSize\":0.1,\"fTitleStyle\":0,\"fTitleX\":0.5,\"fTitleY\":0.995,\"fTitleW\":0,\"fTitleH\":0,\"fLegoInnerR\":0.5,\"fLineStyle\":[\"\",\"  \",\" 12 12\",\" 4 8\",\" 12 16 4 16\",\" 20 12 4 12\",\" 20 12 4 12 4 12 4 12\",\" 20 20\",\" 20 12 4 12 4 12\",\" 80 20\",\" 80 40 4 40\",\"  \",\"  \",\"  \",\"  \",\"  \",\"  \",\"  \",\"  \",\"  \",\"  \",\"  \",\"  \",\"  \",\"  \",\"  \",\"  \",\"  \",\"  \",\"  \"],\"fHeaderPS\":\"\",\"fTitlePS\":\"\",\"fFitFormat\":\"5.4g\",\"fPaintTextFormat\":\"g\",\"fLineScalePS\":3,\"fJoinLinePS\":0,\"fCapLinePS\":0,\"fTimeOffset\":788918400,\"fImageScaling\":1}],\"opt\":[\"\",\"\",\"\",\"\"]},\"fExecs\":null,\"fName\":\"c4\",\"fTitle\":\"\",\"fNumPaletteColor\":0,\"fNextPaletteColor\":0,\"fDISPLAY\":\"$DISPLAY\",\"fDoubleBuffer\":0,\"fRetained\":true,\"fXsizeUser\":0,\"fYsizeUser\":0,\"fXsizeReal\":20,\"fYsizeReal\":14.28571,\"fWindowTopX\":0,\"fWindowTopY\":0,\"fWindowWidth\":0,\"fWindowHeight\":0,\"fCw\":696,\"fCh\":472,\"fCatt\":{\"_typename\":\"TAttCanvas\",\"fXBetween\":2,\"fYBetween\":2,\"fTitleFromTop\":1.2,\"fXdate\":0.2,\"fYdate\":0.3,\"fAdate\":1},\"kMoveOpaque\":true,\"kResizeOpaque\":true,\"fHighLightColor\":2,\"fBatch\":true,\"kShowEventStatus\":false,\"kAutoExec\":true,\"kMenuBar\":true});\n",
       "   Core.settings.HandleKeys = false;\n",
       "   Core.draw(\"root_plot_1664311692325\", obj, \"\");\n",
       "}\n",
       "\n",
       "function script_load_root_plot_1664311692325(src, on_error) {\n",
       "    let script = document.createElement('script');\n",
       "    script.src = src;\n",
       "    script.onload = function() { display_root_plot_1664311692325(JSROOT); };\n",
       "    script.onerror = function() { script.remove(); on_error(); };\n",
       "    document.head.appendChild(script);\n",
       "}\n",
       "\n",
       "if (typeof requirejs !== 'undefined') {\n",
       "\n",
       "    // We are in jupyter notebooks, use require.js which should be configured already\n",
       "    requirejs.config({\n",
       "       paths: { 'JSRootCore' : [ 'scripts/JSRoot.core', 'https://root.cern/js/6.1.1/scripts/JSRoot.core.min', 'https://jsroot.gsi.de/6.1.1/scripts/JSRoot.core.min' ] }\n",
       "    })(['JSRootCore'],  function(Core) {\n",
       "       display_root_plot_1664311692325(Core);\n",
       "    });\n",
       "\n",
       "} else if (typeof JSROOT !== 'undefined') {\n",
       "\n",
       "   // JSROOT already loaded, just use it\n",
       "   display_root_plot_1664311692325(JSROOT);\n",
       "\n",
       "} else {\n",
       "\n",
       "    // We are in jupyterlab without require.js, directly loading jsroot\n",
       "    // Jupyterlab might be installed in a different base_url so we need to know it.\n",
       "    try {\n",
       "        var base_url = JSON.parse(document.getElementById('jupyter-config-data').innerHTML).baseUrl;\n",
       "    } catch(_) {\n",
       "        var base_url = '/';\n",
       "    }\n",
       "\n",
       "    // Try loading a local version of requirejs and fallback to cdn if not possible.\n",
       "    script_load_root_plot_1664311692325(base_url + 'static/scripts/JSRoot.core.js', function(){\n",
       "        console.error('Fail to load JSROOT locally, please check your jupyter_notebook_config.py file');\n",
       "        script_load_root_plot_1664311692325('https://root.cern/js/6.1.1/scripts/JSRoot.core.min.js', function(){\n",
       "            document.getElementById(\"root_plot_1664311692325\").innerHTML = \"Failed to load JSROOT\";\n",
       "        });\n",
       "    });\n",
       "}\n",
       "\n",
       "</script>\n"
      ],
      "text/plain": [
       "<IPython.core.display.HTML object>"
      ]
     },
     "metadata": {},
     "output_type": "display_data"
    }
   ],
   "source": [
    "pad5.cd()\n",
    "h1.Draw(\"HIST\")\n",
    "h2.Draw(\"HIST SAME\")\n",
    "h3.Draw(\"HIST SAME\")\n",
    "h123_legend.Draw()\n",
    "h1.SetTitle(out_title+\" for 13 TeV, 13.6 TeV and 14 TeV\")\n",
    "\n",
    "pad6.cd()\n",
    "h1_h2.Draw(\"P*\")\n",
    "ratio_y_line3 = ROOT.TLine(histogram_settings[\"min\"],1,histogram_settings[\"max\"],1)\n",
    "ratio_y_line3.Draw()\n",
    "\n",
    "pad7.cd()\n",
    "h1_h3.Draw(\"P*\")\n",
    "ratio_y_line4 = ROOT.TLine(histogram_settings[\"min\"],1,histogram_settings[\"max\"],1)\n",
    "ratio_y_line4.Draw()\n",
    "\n",
    "ROOT.gStyle.SetTitleSize(0.1,\"h1_h3\")\n",
    "\n",
    "c4.Draw()"
   ]
  },
  {
   "cell_type": "markdown",
   "id": "496801ab-f2bb-4348-9f50-2b5ddd10d172",
   "metadata": {},
   "source": [
    "### Output of Canvas "
   ]
  },
  {
   "cell_type": "code",
   "execution_count": 44,
   "id": "178b8d7d-8c2a-4ec3-bcce-83d8a6a1d8cb",
   "metadata": {
    "jp-MarkdownHeadingCollapsed": true,
    "tags": []
   },
   "outputs": [
    {
     "name": "stderr",
     "output_type": "stream",
     "text": [
      "Info in <TCanvas::Print>: pdf file output/jetall/jetall_eta_tev13-13_6-14.pdf has been created\n"
     ]
    }
   ],
   "source": [
    "c4.Print(output_path+test_name+ayrac+\"tev13-13_6-14.\"+out_format)"
   ]
  },
  {
   "cell_type": "code",
   "execution_count": null,
   "id": "fa3991d9-b480-4c40-b366-6c408713dc2a",
   "metadata": {},
   "outputs": [],
   "source": []
  }
 ],
 "metadata": {
  "kernelspec": {
   "display_name": "Python 3",
   "language": "python",
   "name": "python3"
  },
  "language_info": {
   "codemirror_mode": {
    "name": "ipython",
    "version": 3
   },
   "file_extension": ".py",
   "mimetype": "text/x-python",
   "name": "python",
   "nbconvert_exporter": "python",
   "pygments_lexer": "ipython3",
   "version": "3.8.5"
  }
 },
 "nbformat": 4,
 "nbformat_minor": 5
}
