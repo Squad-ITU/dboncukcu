{
 "cells": [
  {
   "cell_type": "code",
   "execution_count": 1,
   "id": "4aa005d3-1f61-4cfd-a0df-a9d6be897ffc",
   "metadata": {},
   "outputs": [
    {
     "name": "stdout",
     "output_type": "stream",
     "text": [
      "Welcome to JupyROOT 6.24/02\n"
     ]
    }
   ],
   "source": [
    "import ROOT\n",
    "import numpy as np\n",
    "from pyroot_hist import *\n",
    "#%jsroot on"
   ]
  },
  {
   "cell_type": "markdown",
   "id": "78b54e7f-c6a6-4c8c-b441-2c036d68fda3",
   "metadata": {
    "tags": []
   },
   "source": [
    "## INITIALIZING VARIABLES"
   ]
  },
  {
   "cell_type": "code",
   "execution_count": 2,
   "id": "fbbd4f20-2cb1-4177-8cc9-60aa47f9d1dd",
   "metadata": {},
   "outputs": [],
   "source": [
    "test_name = \"jet0\"\n",
    "output_path = \"output/\"+test_name+\"/\"\n",
    "\n",
    "filepath = \"root_files/\"+test_name+\"/\"\n",
    "\n",
    "\n",
    "### PT Out\n",
    "\n",
    "#out_name = \"PT\"\n",
    "#out_title = \"Particle Transverse Momentum\"\n",
    "#ayrac = \"_pt_\"\n",
    "#ratio_settings = {\"min\":0.5,\"max\":1.5}\n",
    "#histogram_settings = {\"min\":0,\"max\":250,\"binnum\":50}\n",
    "\n",
    "\n",
    "### ETA Out\n",
    "\n",
    "out_name = \"Eta\"\n",
    "out_title = \"Pseudorapidity (Eta)\"\n",
    "ayrac = \"_eta_\"\n",
    "ratio_settings = {\"min\":0.70,\"max\":1.3}\n",
    "histogram_settings = {\"min\":-3,\"max\":3,\"binnum\":40}\n",
    "\n",
    "### PHI Out\n",
    "\n",
    "#out_name = \"Particle.Phi\"\n",
    "#out_title = \"Phi\"\n",
    "#ayrac = \"_phi_\"\n",
    "#ratio_settings = {\"min\":0.70,\"max\":1.3}\n",
    "#histogram_settings = {\"min\":-np.pi,\"max\":np.pi,\"binnum\":40}\n",
    "\n",
    "### CrossSection Out\n",
    "\n",
    "#out_name = \"Event.CrossSection\"\n",
    "#out_title = \"CrossSection\"\n",
    "#ayrac = \"_xcross_\"\n",
    "#ratio_settings = {\"min\":0.50,\"max\":1.5}\n",
    "#histogram_settings = {\"min\":0,\"max\":600,\"binnum\":1000}\n",
    "\n",
    "\n",
    "out_format = \"pdf\"\n",
    "\n",
    "\n",
    "root1 = \"tev13.root\"\n",
    "root2 = \"tev13_6.root\"\n",
    "root3 = \"tev14.root\""
   ]
  },
  {
   "cell_type": "markdown",
   "id": "f91bcd69-88a1-42ec-a056-b294168eff8c",
   "metadata": {},
   "source": [
    "## READING ROOT FILE"
   ]
  },
  {
   "cell_type": "code",
   "execution_count": 3,
   "id": "db5e80fd-d587-40e5-b911-ff3db70a1929",
   "metadata": {},
   "outputs": [
    {
     "name": "stderr",
     "output_type": "stream",
     "text": [
      "Warning in <TClass::Init>: no dictionary for class TRootLHEFEvent is available\n",
      "Warning in <TClass::Init>: no dictionary for class TRootWeight is available\n",
      "Warning in <TClass::Init>: no dictionary for class TRootLHEFParticle is available\n",
      "Warning in <TClass::Init>: no dictionary for class TSortableObject is available\n"
     ]
    }
   ],
   "source": [
    "root_file1 = ROOT.TFile(filepath+root1,\"READ\")"
   ]
  },
  {
   "cell_type": "code",
   "execution_count": 4,
   "id": "9dcd9105-6ffe-4015-a5c8-b7341fbfdf08",
   "metadata": {},
   "outputs": [],
   "source": [
    "root_file2 = ROOT.TFile(filepath+root2,\"READ\")"
   ]
  },
  {
   "cell_type": "code",
   "execution_count": 5,
   "id": "f3d40317-c875-4d26-91ef-cafa7f2d0da2",
   "metadata": {},
   "outputs": [],
   "source": [
    "root_file3 = ROOT.TFile(filepath+root3,\"READ\")"
   ]
  },
  {
   "cell_type": "code",
   "execution_count": 6,
   "id": "79ebbcf8-ec5d-402c-80d7-c1ffc609ea99",
   "metadata": {},
   "outputs": [],
   "source": [
    "df13 = ROOT.RDataFrame(\"LHEF\", filepath+root1)\n",
    "data13 = get_dilepton_events(df13)"
   ]
  },
  {
   "cell_type": "code",
   "execution_count": 7,
   "id": "da57e6c8-59aa-4aee-86d7-4181f3f48910",
   "metadata": {},
   "outputs": [],
   "source": [
    "df13_6 = ROOT.RDataFrame(\"LHEF\", filepath+root2)\n",
    "data13_6 = get_dilepton_events(df13_6)"
   ]
  },
  {
   "cell_type": "code",
   "execution_count": null,
   "id": "d2b3ead0-64c5-4973-ab8d-9d1c408e8036",
   "metadata": {},
   "outputs": [],
   "source": [
    "df14 = ROOT.RDataFrame(\"LHEF\", filepath+root3)\n",
    "data14 = get_dilepton_events(df14)"
   ]
  },
  {
   "cell_type": "markdown",
   "id": "e30240b8-9b1d-45fe-b654-843d15b961df",
   "metadata": {},
   "source": [
    "## HISTOGRAM SETTINGS"
   ]
  },
  {
   "cell_type": "markdown",
   "id": "32bd6eaa-40a6-4198-82bc-c16d9129087c",
   "metadata": {
    "tags": []
   },
   "source": [
    "### Histograms Creating"
   ]
  },
  {
   "cell_type": "code",
   "execution_count": null,
   "id": "54ec937d-5d86-4502-a3c2-2b1bfdcfc33f",
   "metadata": {},
   "outputs": [],
   "source": [
    "h1 = ROOT.TH1F(\"h1\",\"\",histogram_settings[\"binnum\"],histogram_settings[\"min\"],histogram_settings[\"max\"])\n",
    "h2 = ROOT.TH1F(\"h2\",\"\",histogram_settings[\"binnum\"],histogram_settings[\"min\"],histogram_settings[\"max\"])\n",
    "h3 = ROOT.TH1F(\"h3\",\"\",histogram_settings[\"binnum\"],histogram_settings[\"min\"],histogram_settings[\"max\"])"
   ]
  },
  {
   "cell_type": "markdown",
   "id": "40130680-e823-4bac-a779-83de5953b852",
   "metadata": {},
   "source": [
    "### Tree Datas Transfering to Histograms"
   ]
  },
  {
   "cell_type": "code",
   "execution_count": null,
   "id": "1bdc58f6-cb95-4df8-87b7-8d90d417c8b2",
   "metadata": {},
   "outputs": [],
   "source": [
    "ele_neg_13_pt = numpy.append(numpy.array(data13[\"Electron\"][\"-\"][out_name]),numpy.array(data13[\"Electron\"][\"+\"][out_name]))\n",
    "ele_neg_13_6_pt = numpy.append(numpy.array(data13_6[\"Electron\"][\"-\"][out_name]),numpy.array(data13_6[\"Electron\"][\"+\"][out_name]))\n",
    "ele_neg_14_pt = numpy.append(numpy.array(data14[\"Electron\"][\"-\"][out_name]),numpy.array(data14[\"Electron\"][\"+\"][out_name]))"
   ]
  },
  {
   "cell_type": "code",
   "execution_count": null,
   "id": "c79a88cd-6f40-485f-8e96-42d614932f11",
   "metadata": {},
   "outputs": [],
   "source": [
    "h1.FillN(len(ele_neg_13_pt), ele_neg_13_pt,numpy.ones(len(ele_neg_13_pt)))\n",
    "h2.FillN(len(ele_neg_13_6_pt), ele_neg_13_6_pt,numpy.ones(len(ele_neg_13_6_pt)))\n",
    "h3.FillN(len(ele_neg_14_pt), ele_neg_14_pt,numpy.ones(len(ele_neg_14_pt)))"
   ]
  },
  {
   "cell_type": "markdown",
   "id": "016ed202-8937-4506-9fdb-f49db330f275",
   "metadata": {},
   "source": [
    "### Changing Histogram Appearance"
   ]
  },
  {
   "cell_type": "markdown",
   "id": "fd38f155-1731-42e7-97b4-a99c7654c341",
   "metadata": {},
   "source": [
    "#### Histogram of 13 TeV"
   ]
  },
  {
   "cell_type": "code",
   "execution_count": null,
   "id": "67d3476a-df36-4298-b88f-1116d64d679c",
   "metadata": {},
   "outputs": [],
   "source": [
    "h1.SetLineColor(ROOT.kGreen)\n",
    "h1.SetLineWidth(2)\n",
    "h1.SetStats(0)\n",
    "h1.SetFillColor(ROOT.kGreen-3)\n",
    "h1.SetFillStyle(3004)"
   ]
  },
  {
   "cell_type": "markdown",
   "id": "8aa9539a-7056-4cb0-81d4-f21ec6444566",
   "metadata": {},
   "source": [
    "#### Histogram of 13.6 TeV"
   ]
  },
  {
   "cell_type": "code",
   "execution_count": null,
   "id": "f3dd9c39-0123-41c1-b294-a7a1c059d5c2",
   "metadata": {},
   "outputs": [],
   "source": [
    "h2.SetLineColor(ROOT.kRed)\n",
    "h2.SetLineWidth(2)\n",
    "h2.SetStats(0)\n",
    "h2.SetFillColor(ROOT.kRed-10)\n",
    "h2.SetFillStyle(3010)"
   ]
  },
  {
   "cell_type": "markdown",
   "id": "86081818-fef9-49b6-b3dc-2e026a3eb3b5",
   "metadata": {},
   "source": [
    "#### Histogram of 14 TeV"
   ]
  },
  {
   "cell_type": "code",
   "execution_count": null,
   "id": "3e82fcf0-ea01-4500-873c-55107f49ee03",
   "metadata": {},
   "outputs": [],
   "source": [
    "h3.SetLineColor(ROOT.kAzure)\n",
    "h3.SetLineWidth(2)\n",
    "h3.SetStats(0)\n",
    "h3.SetFillColor(ROOT.kAzure + 4)\n",
    "h3.SetFillStyle(3006)"
   ]
  },
  {
   "cell_type": "markdown",
   "id": "8452b0df-883b-4ee4-be0a-fe6cd44fbb29",
   "metadata": {},
   "source": [
    "### Normalizing Histograms (burası hatalı)"
   ]
  },
  {
   "cell_type": "markdown",
   "id": "dfeeaa38-f3b6-47b5-9fa8-63e06412e990",
   "metadata": {},
   "source": [
    "h1.Scale(1/h1.Integral())\n",
    "h2.Scale(1/h2.Integral())\n",
    "h3.Scale(1/h3.Integral())"
   ]
  },
  {
   "cell_type": "markdown",
   "id": "51993507-5672-4960-8965-67ab96504987",
   "metadata": {},
   "source": [
    "## CREATING CANVAS"
   ]
  },
  {
   "cell_type": "markdown",
   "id": "05c9d31b-b67a-48d0-afb0-2c10fe2a57df",
   "metadata": {},
   "source": [
    "### Dividing Canvas to three part"
   ]
  },
  {
   "cell_type": "code",
   "execution_count": null,
   "id": "9b59c7dc-f2ef-433e-98ac-9a51e88a081d",
   "metadata": {},
   "outputs": [],
   "source": [
    "c1 = ROOT.TCanvas(\"c1\")\n",
    "c1.Divide(3,1) "
   ]
  },
  {
   "cell_type": "markdown",
   "id": "ae22640d-bc3a-47ed-89a8-1f291d5e3e0e",
   "metadata": {},
   "source": [
    "### Ploting Histogram of 13 TeV"
   ]
  },
  {
   "cell_type": "code",
   "execution_count": null,
   "id": "12c50391-e037-4a67-b8db-fe79d227cfb2",
   "metadata": {},
   "outputs": [],
   "source": [
    "c1.cd(1)\n",
    "h1.Draw(\"HIST\")\n",
    "h1.SetTitle(\"13 TeV\")\n",
    "h1.GetXaxis().SetTitle(out_title)\n",
    "h1.GetYaxis().SetTitle(\"Probability\")\n",
    "h1.GetYaxis().SetTitleOffset(1)\n",
    "h1.GetYaxis().CenterTitle(True)\n",
    "h1.GetYaxis().SetLabelFont(43)\n",
    "h1.GetYaxis().SetLabelSize(10)"
   ]
  },
  {
   "cell_type": "markdown",
   "id": "6e8051a2-1d66-4e67-b57f-f120a39fec54",
   "metadata": {},
   "source": [
    "### Ploting Histogram of 13.6 TeV"
   ]
  },
  {
   "cell_type": "code",
   "execution_count": null,
   "id": "3e1149b9-eabb-43de-af82-7d47e1d39fd0",
   "metadata": {},
   "outputs": [],
   "source": [
    "c1.cd(2)\n",
    "h2.Draw(\"HIST\")\n",
    "h2.SetTitle(\"13.6 TeV\")\n",
    "h2.GetXaxis().SetTitle(out_title)\n",
    "h2.GetYaxis().SetTitle(\"Probability\")\n",
    "h2.GetYaxis().SetTitleOffset(1)\n",
    "h2.GetYaxis().CenterTitle(True)\n",
    "h2.GetYaxis().SetLabelFont(43)\n",
    "h2.GetYaxis().SetLabelSize(10)"
   ]
  },
  {
   "cell_type": "markdown",
   "id": "b4ea0825-d6b2-4179-ac48-11ea517612be",
   "metadata": {},
   "source": [
    "### Ploting Histogram of 14 TeV"
   ]
  },
  {
   "cell_type": "code",
   "execution_count": null,
   "id": "8a35a03e-82b9-4550-9d1d-d36e6f10570e",
   "metadata": {},
   "outputs": [],
   "source": [
    "c1.cd(3)\n",
    "h3.Draw(\"HIST\")\n",
    "h3.SetTitle(\"14 TeV\")\n",
    "h3.GetXaxis().SetTitle(out_title)\n",
    "h3.GetYaxis().SetTitle(\"Probability\")\n",
    "h3.GetYaxis().SetTitleOffset(1)\n",
    "h3.GetYaxis().CenterTitle(True)\n",
    "h3.GetYaxis().SetLabelFont(43)\n",
    "h3.GetYaxis().SetLabelSize(10)"
   ]
  },
  {
   "cell_type": "markdown",
   "id": "a69b7243-54c7-4b84-a2ae-fa665ce40b07",
   "metadata": {},
   "source": [
    "### Displaying Canvas "
   ]
  },
  {
   "cell_type": "code",
   "execution_count": null,
   "id": "f93eeec9-375f-4668-bcb7-e361a5359ed5",
   "metadata": {},
   "outputs": [],
   "source": [
    "c1.Draw()"
   ]
  },
  {
   "cell_type": "markdown",
   "id": "a65d64d5-730f-453b-ac86-569bfb049953",
   "metadata": {},
   "source": [
    "### Output of Canvas "
   ]
  },
  {
   "cell_type": "code",
   "execution_count": null,
   "id": "2cb9130e-10a4-4f2c-bf75-42a633cfc979",
   "metadata": {},
   "outputs": [],
   "source": [
    "c1.Print(output_path+test_name+ayrac+\"uclu.\"+out_format)"
   ]
  },
  {
   "cell_type": "markdown",
   "id": "ff84a41c-8e14-48f3-bab8-914bba59283a",
   "metadata": {},
   "source": [
    "### Reseting Name of Histogram"
   ]
  },
  {
   "cell_type": "code",
   "execution_count": null,
   "id": "747a5e45-2ffc-4c50-9705-1b4fd360ffcc",
   "metadata": {
    "tags": []
   },
   "outputs": [],
   "source": [
    "h1.SetTitle(\"\")\n",
    "h2.SetTitle(\"\")\n",
    "h3.SetTitle(\"\")"
   ]
  },
  {
   "cell_type": "markdown",
   "id": "7cf588da-c6b0-47bb-9ad8-1d64e554eeca",
   "metadata": {},
   "source": [
    "## CREATING NEW CANVAS"
   ]
  },
  {
   "cell_type": "code",
   "execution_count": null,
   "id": "9a46a520-088c-466d-af50-74a7743cf7da",
   "metadata": {},
   "outputs": [],
   "source": [
    "c1.Close()\n",
    "c2 = ROOT.TCanvas(\"c2\")"
   ]
  },
  {
   "cell_type": "markdown",
   "id": "6d1535b3-a16d-4436-bda2-b499adb69572",
   "metadata": {},
   "source": [
    "## CREATING RATIO PLOT"
   ]
  },
  {
   "cell_type": "code",
   "execution_count": null,
   "id": "739ef02d-fe14-4ce6-8098-2d629c7aed20",
   "metadata": {},
   "outputs": [],
   "source": [
    "h1_h2 = h1.Clone(\"h1_h2\")\n",
    "h1_h2.Sumw2()\n",
    "h1_h2.SetStats(0)\n",
    "h1_h2.Divide(h2)\n",
    "\n",
    "h1_h2.SetMinimum(ratio_settings[\"min\"])\n",
    "h1_h2.SetMaximum(ratio_settings[\"max\"])\n",
    "\n",
    "y1 = h1_h2.GetYaxis()\n",
    "y1.SetTitle(\"Ratio\")\n",
    "y1.SetNdivisions(505)\n",
    "y1.SetTitleSize(15)\n",
    "y1.SetTitleFont(43)\n",
    "y1.SetTitleOffset(1.2)\n",
    "y1.SetLabelFont(43)\n",
    "y1.SetLabelSize(10)\n",
    "y1.CenterTitle(True)\n",
    "\n",
    "# Adjust x-axis settings\n",
    "x1 = h1_h2.GetXaxis()\n",
    "x1.SetTitleSize(10)\n",
    "x1.SetTitleFont(43)\n",
    "x1.SetTitleOffset(5)\n",
    "x1.SetLabelFont(43)\n",
    "x1.SetLabelSize(10)\n",
    "h1_h2.SetLineColor(ROOT.kBlue)"
   ]
  },
  {
   "cell_type": "markdown",
   "id": "10663c67-c087-4db5-8ccf-227829c387c6",
   "metadata": {},
   "source": [
    "### Creating Two Canvas TPads "
   ]
  },
  {
   "cell_type": "code",
   "execution_count": null,
   "id": "f4c81d8a-5ae4-4229-8ffc-dd60b200f5e8",
   "metadata": {},
   "outputs": [],
   "source": [
    "pad1 = ROOT.TPad(\"pad1\", \"pad1\", 0, 0.3, 1, 1.0)\n",
    "pad1.SetBottomMargin(0.1)  # joins upper and lower plot\n",
    "pad1.SetGridx()\n",
    "pad1.SetGridy()\n",
    "pad1.Draw()"
   ]
  },
  {
   "cell_type": "code",
   "execution_count": null,
   "id": "147e18ed-d947-4cdb-b89a-8ad3252beb7d",
   "metadata": {},
   "outputs": [],
   "source": [
    "c2.cd()  # returns to main canvas before defining pad2\n",
    "pad2 = ROOT.TPad(\"pad2\", \"pad2\", 0, 0.05, 1, 0.3)\n",
    "pad2.SetTopMargin(0.1)  # joins upper and lower plot\n",
    "pad2.SetBottomMargin(0.2)\n",
    "pad2.SetGridx()\n",
    "pad2.SetGridy()\n",
    "pad2.Draw()"
   ]
  },
  {
   "cell_type": "markdown",
   "id": "61ce2852-337b-44d4-899c-93725d731d6c",
   "metadata": {},
   "source": [
    "### Setting Legend"
   ]
  },
  {
   "cell_type": "code",
   "execution_count": null,
   "id": "a349c3cb-fd04-451f-91a0-0be1a61d7efb",
   "metadata": {},
   "outputs": [],
   "source": [
    "h12_legend = ROOT.TLegend(0.75,0.75,0.9,0.9)\n",
    "h12_legend.AddEntry(h1,\"13 TeV\")\n",
    "h12_legend.AddEntry(h2,\"13.6 TeV\")"
   ]
  },
  {
   "cell_type": "markdown",
   "id": "4155c538-0ab6-4f76-9b67-89b3534acfc0",
   "metadata": {},
   "source": [
    "### Ploting Histograms and Displaying Canvas "
   ]
  },
  {
   "cell_type": "code",
   "execution_count": null,
   "id": "f7a0d6bc-d5d2-4d17-a176-99aa12deceae",
   "metadata": {},
   "outputs": [],
   "source": [
    "pad1.cd()\n",
    "h1.Draw(\"HIST\")\n",
    "h2.Draw(\"HIST SAME\")\n",
    "h12_legend.Draw()\n",
    "pad2.cd()\n",
    "h1_h2.Draw(\"P*\")\n",
    "h1.SetTitle(\"13 TeV and 13.6 TeV\")\n",
    "ratio_y_line1 = ROOT.TLine(histogram_settings[\"min\"],1,histogram_settings[\"max\"],1)\n",
    "ratio_y_line1.Draw()\n",
    "\n",
    "c2.Draw()"
   ]
  },
  {
   "cell_type": "markdown",
   "id": "092ba937-a001-4c70-8500-11053eeaf0f7",
   "metadata": {},
   "source": [
    "### Output of Canvas "
   ]
  },
  {
   "cell_type": "code",
   "execution_count": null,
   "id": "714af89a-1efc-45a8-b08c-01f63956ab8d",
   "metadata": {},
   "outputs": [],
   "source": [
    "c2.Print(output_path+test_name+ayrac+\"tev13-tev13_6.\"+out_format)"
   ]
  },
  {
   "cell_type": "markdown",
   "id": "18d95fa0-d906-41e4-9ced-229803dae7ac",
   "metadata": {},
   "source": [
    "### Reseting Name of Histogram"
   ]
  },
  {
   "cell_type": "code",
   "execution_count": null,
   "id": "4a00766f-3d84-4aef-a87f-943780d72438",
   "metadata": {},
   "outputs": [],
   "source": [
    "h1.SetTitle(\"\")\n",
    "h2.SetTitle(\"\")\n",
    "h3.SetTitle(\"\")"
   ]
  },
  {
   "cell_type": "markdown",
   "id": "f61a983c-beaa-4ca7-bcf1-87f2177e5f95",
   "metadata": {},
   "source": [
    "## CREATING NEW CANVAS"
   ]
  },
  {
   "cell_type": "code",
   "execution_count": null,
   "id": "ed76bec7-df02-4a06-baf4-3031fa04ac5b",
   "metadata": {},
   "outputs": [],
   "source": [
    "c2.Close()\n",
    "c3 = ROOT.TCanvas(\"c3\")"
   ]
  },
  {
   "cell_type": "markdown",
   "id": "df1fa97c-949f-40f2-b525-92b308dada86",
   "metadata": {},
   "source": [
    "## CREATING RATIO PLOT"
   ]
  },
  {
   "cell_type": "code",
   "execution_count": null,
   "id": "f6def7c4-0d8e-457d-a400-ed7890958d2c",
   "metadata": {},
   "outputs": [],
   "source": [
    "h1_h3 = h1.Clone(\"h1_h3\")\n",
    "h1_h3.Sumw2()\n",
    "h1_h3.SetStats(0)\n",
    "h1_h3.Divide(h3)\n",
    "\n",
    "h1_h3.SetMinimum(ratio_settings[\"min\"])\n",
    "h1_h3.SetMaximum(ratio_settings[\"max\"])\n",
    "\n",
    "y2 = h1_h3.GetYaxis()\n",
    "y2.SetTitle(\"Ratio\")\n",
    "y2.SetNdivisions(505)\n",
    "y2.SetTitleSize(15)\n",
    "y2.SetTitleFont(43)\n",
    "y2.SetTitleOffset(1.2)\n",
    "y2.SetLabelFont(43)\n",
    "y2.SetLabelSize(10)\n",
    "y2.CenterTitle(True)\n",
    "\n",
    "# Adjust x-axis settings\n",
    "x2 = h1_h3.GetXaxis()\n",
    "x2.SetTitleSize(10)\n",
    "x2.SetTitleFont(43)\n",
    "x2.SetTitleOffset(5)\n",
    "x2.SetLabelFont(43)\n",
    "x2.SetLabelSize(15)\n",
    "h1_h3.SetLineColor(ROOT.kBlue)"
   ]
  },
  {
   "cell_type": "markdown",
   "id": "1d63ab7e-6153-455b-94a8-a87fe11f21e7",
   "metadata": {},
   "source": [
    "### Creating Two Canvas TPads "
   ]
  },
  {
   "cell_type": "code",
   "execution_count": null,
   "id": "01ec8a7d-5942-464c-b079-186f12ef3ce6",
   "metadata": {},
   "outputs": [],
   "source": [
    "pad3 = ROOT.TPad(\"pad3\", \"pad3\", 0, 0.3, 1, 1.0)\n",
    "pad3.SetBottomMargin(0.1)  # joins upper and lower plot\n",
    "pad3.SetGridx()\n",
    "pad3.SetGridy()\n",
    "\n",
    "pad3.Draw()"
   ]
  },
  {
   "cell_type": "code",
   "execution_count": null,
   "id": "44b50e23-7fee-419f-b64d-d981292d1681",
   "metadata": {},
   "outputs": [],
   "source": [
    "c3.cd()  # returns to main canvas before defining pad2\n",
    "pad4 = ROOT.TPad(\"pad4\", \"pad4\", 0, 0.05, 1, 0.3)\n",
    "pad4.SetTopMargin(0.1)  # joins upper and lower plot\n",
    "pad4.SetBottomMargin(0.2)\n",
    "pad4.SetGridx()\n",
    "pad4.SetGridy()\n",
    "\n",
    "pad4.Draw()"
   ]
  },
  {
   "cell_type": "markdown",
   "id": "b90a36d8-42bb-44b2-80b1-ec821c2784f4",
   "metadata": {},
   "source": [
    "### Setting Legend"
   ]
  },
  {
   "cell_type": "code",
   "execution_count": null,
   "id": "790bfa9a-8b87-4191-a031-77d6c7e0bccd",
   "metadata": {},
   "outputs": [],
   "source": [
    "h13_legend = ROOT.TLegend(0.75,0.75,0.9,0.9)\n",
    "h13_legend.AddEntry(h1,\"13 TeV\")\n",
    "h13_legend.AddEntry(h3,\"14 TeV\")"
   ]
  },
  {
   "cell_type": "markdown",
   "id": "15d68ac2-39d7-44a5-8004-43f4e168464b",
   "metadata": {},
   "source": [
    "### Ploting Histograms and Displaying Canvas "
   ]
  },
  {
   "cell_type": "code",
   "execution_count": null,
   "id": "0022550a-0c78-4197-9e11-b6fdd4b9e979",
   "metadata": {},
   "outputs": [],
   "source": [
    "pad3.cd()\n",
    "h1.Draw(\"HIST\")\n",
    "h3.Draw(\"HIST SAME\")\n",
    "h13_legend.Draw()\n",
    "pad4.cd()\n",
    "h1_h3.Draw(\"P*\")\n",
    "h1.SetTitle(\"13 TeV and 14 TeV\")\n",
    "ratio_y_line2 = ROOT.TLine(histogram_settings[\"min\"],1,histogram_settings[\"max\"],1)\n",
    "ratio_y_line2.Draw()\n",
    "\n",
    "c3.Draw()\n"
   ]
  },
  {
   "cell_type": "markdown",
   "id": "34ec1605-3798-47e2-90de-3b3ff520e8b4",
   "metadata": {},
   "source": [
    "### Output of Canvas "
   ]
  },
  {
   "cell_type": "code",
   "execution_count": null,
   "id": "9ebb7ae5-e170-4939-9134-906efbc434c8",
   "metadata": {},
   "outputs": [],
   "source": [
    "c3.Print(output_path+test_name+ayrac+\"tev13-tev14.\"+out_format)"
   ]
  },
  {
   "cell_type": "markdown",
   "id": "4dce9443-1f55-46be-b90a-68e1cdf009ad",
   "metadata": {},
   "source": [
    "## CREATING NEW CANVAS"
   ]
  },
  {
   "cell_type": "code",
   "execution_count": null,
   "id": "396704d7-2198-4449-bd31-f4ed803822e4",
   "metadata": {},
   "outputs": [],
   "source": [
    "c3.Close()\n",
    "c4 = ROOT.TCanvas(\"c4\")"
   ]
  },
  {
   "cell_type": "markdown",
   "id": "7e6018f2-ba84-4cee-9d7b-74e71f4514b4",
   "metadata": {},
   "source": [
    "### Creating Three Canvas TPads "
   ]
  },
  {
   "cell_type": "code",
   "execution_count": null,
   "id": "0c591eb0-4134-46ac-a08a-b75e26785369",
   "metadata": {},
   "outputs": [],
   "source": [
    "pad5 = ROOT.TPad(\"pad7\",\"pad7\",0,0.50,1,1)\n",
    "pad6 = ROOT.TPad(\"pad6\",\"pad6\",0,0.275,1,0.50)\n",
    "pad7 = ROOT.TPad(\"pad5\",\"pad5\",0,0.05,1,0.275)\n",
    "\n",
    "pad5.SetBottomMargin(0.1)\n",
    "pad5.SetGridx()\n",
    "pad5.SetGridy()\n",
    "\n",
    "pad6.SetTopMargin(0.2)  # joins upper and lower plot\n",
    "pad6.SetBottomMargin(0.25)\n",
    "pad6.SetGridx()\n",
    "pad6.SetGridy()\n",
    "\n",
    "pad7.SetTopMargin(0.2)  # joins upper and lower plot\n",
    "pad7.SetBottomMargin(0.25)\n",
    "pad7.SetGridx()\n",
    "pad7.SetGridy()\n",
    "\n",
    "pad5.Draw()\n",
    "pad6.Draw()\n",
    "pad7.Draw()"
   ]
  },
  {
   "cell_type": "markdown",
   "id": "c4e1b8a9-0d3b-4356-834d-78eae4c84c02",
   "metadata": {},
   "source": [
    "### Setting Legend"
   ]
  },
  {
   "cell_type": "code",
   "execution_count": null,
   "id": "298d19b4-79a8-42ec-87a9-f5e5fc7af2e0",
   "metadata": {},
   "outputs": [],
   "source": [
    "h123_legend = ROOT.TLegend(0.75,0.75,0.9,0.9)\n",
    "h123_legend.AddEntry(h1,\"13 TeV\")\n",
    "h123_legend.AddEntry(h2,\"13.6 TeV\")\n",
    "h123_legend.AddEntry(h3,\"14 TeV\")"
   ]
  },
  {
   "cell_type": "markdown",
   "id": "b722c383-c8fa-4b4c-8379-3f740609bc05",
   "metadata": {},
   "source": [
    "### Setting Title of Ratio Plots"
   ]
  },
  {
   "cell_type": "code",
   "execution_count": null,
   "id": "82dcf9ef-b000-418d-8d27-b76c2eb3dc96",
   "metadata": {},
   "outputs": [],
   "source": [
    "h1_h2.SetTitle(\"13.6 TeV / 13 TeV\")\n",
    "h1_h2.SetLineColor(ROOT.kRed)\n",
    "\n",
    "h1_h3.SetTitle(\"14 TeV / 13 TeV\")\n",
    "h1_h3.SetLineColor(ROOT.kAzure + 4)"
   ]
  },
  {
   "cell_type": "markdown",
   "id": "004f0470-f69a-4849-8e37-8ae59bc8d044",
   "metadata": {},
   "source": [
    "### Ploting Histograms and Displaying Canvas "
   ]
  },
  {
   "cell_type": "code",
   "execution_count": null,
   "id": "b3fba23f-9bc4-486e-956c-0d51187a40ac",
   "metadata": {},
   "outputs": [],
   "source": [
    "pad5.cd()\n",
    "h1.Draw(\"HIST\")\n",
    "h2.Draw(\"HIST SAME\")\n",
    "h3.Draw(\"HIST SAME\")\n",
    "h123_legend.Draw()\n",
    "h1.SetTitle(\"13 TeV, 13.6 TeV and 14 TeV\")\n",
    "\n",
    "pad6.cd()\n",
    "h1_h2.Draw(\"P*\")\n",
    "ratio_y_line3 = ROOT.TLine(histogram_settings[\"min\"],1,histogram_settings[\"max\"],1)\n",
    "ratio_y_line3.Draw()\n",
    "\n",
    "pad7.cd()\n",
    "h1_h3.Draw(\"P*\")\n",
    "ratio_y_line4 = ROOT.TLine(histogram_settings[\"min\"],1,histogram_settings[\"max\"],1)\n",
    "ratio_y_line4.Draw()\n",
    "\n",
    "ROOT.gStyle.SetTitleSize(0.1,\"h1_h3\")\n",
    "\n",
    "c4.Draw()"
   ]
  },
  {
   "cell_type": "markdown",
   "id": "496801ab-f2bb-4348-9f50-2b5ddd10d172",
   "metadata": {},
   "source": [
    "### Output of Canvas "
   ]
  },
  {
   "cell_type": "code",
   "execution_count": null,
   "id": "178b8d7d-8c2a-4ec3-bcce-83d8a6a1d8cb",
   "metadata": {
    "jp-MarkdownHeadingCollapsed": true,
    "tags": []
   },
   "outputs": [],
   "source": [
    "c4.Print(output_path+test_name+ayrac+\"tev13-13_6-14.\"+out_format)"
   ]
  },
  {
   "cell_type": "code",
   "execution_count": null,
   "id": "fa3991d9-b480-4c40-b366-6c408713dc2a",
   "metadata": {},
   "outputs": [],
   "source": []
  }
 ],
 "metadata": {
  "kernelspec": {
   "display_name": "Python 3 (ipykernel)",
   "language": "python",
   "name": "python3"
  },
  "language_info": {
   "codemirror_mode": {
    "name": "ipython",
    "version": 3
   },
   "file_extension": ".py",
   "mimetype": "text/x-python",
   "name": "python",
   "nbconvert_exporter": "python",
   "pygments_lexer": "ipython3",
   "version": "3.8.5"
  }
 },
 "nbformat": 4,
 "nbformat_minor": 5
}
